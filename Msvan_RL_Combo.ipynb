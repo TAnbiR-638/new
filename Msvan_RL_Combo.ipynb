{
  "nbformat": 4,
  "nbformat_minor": 0,
  "metadata": {
    "colab": {
      "provenance": [],
      "gpuType": "T4",
      "authorship_tag": "ABX9TyNxzYnioHhxKw7LaXUGorNn",
      "include_colab_link": true
    },
    "kernelspec": {
      "name": "python3",
      "display_name": "Python 3"
    },
    "language_info": {
      "name": "python"
    },
    "accelerator": "GPU"
  },
  "cells": [
    {
      "cell_type": "markdown",
      "metadata": {
        "id": "view-in-github",
        "colab_type": "text"
      },
      "source": [
        "<a href=\"https://colab.research.google.com/github/TAnbiR-638/new/blob/main/Msvan_RL_Combo.ipynb\" target=\"_parent\"><img src=\"https://colab.research.google.com/assets/colab-badge.svg\" alt=\"Open In Colab\"/></a>"
      ]
    },
    {
      "cell_type": "code",
      "execution_count": 1,
      "metadata": {
        "colab": {
          "base_uri": "https://localhost:8080/",
          "height": 90
        },
        "id": "XSSfF33y9qWp",
        "outputId": "0b318357-45e8-4536-c4f0-7689ad6442e0"
      },
      "outputs": [
        {
          "output_type": "display_data",
          "data": {
            "text/plain": [
              "<IPython.core.display.HTML object>"
            ],
            "text/html": [
              "\n",
              "     <input type=\"file\" id=\"files-9cf09959-f280-4032-a322-f21457684f7f\" name=\"files[]\" multiple disabled\n",
              "        style=\"border:none\" />\n",
              "     <output id=\"result-9cf09959-f280-4032-a322-f21457684f7f\">\n",
              "      Upload widget is only available when the cell has been executed in the\n",
              "      current browser session. Please rerun this cell to enable.\n",
              "      </output>\n",
              "      <script>// Copyright 2017 Google LLC\n",
              "//\n",
              "// Licensed under the Apache License, Version 2.0 (the \"License\");\n",
              "// you may not use this file except in compliance with the License.\n",
              "// You may obtain a copy of the License at\n",
              "//\n",
              "//      http://www.apache.org/licenses/LICENSE-2.0\n",
              "//\n",
              "// Unless required by applicable law or agreed to in writing, software\n",
              "// distributed under the License is distributed on an \"AS IS\" BASIS,\n",
              "// WITHOUT WARRANTIES OR CONDITIONS OF ANY KIND, either express or implied.\n",
              "// See the License for the specific language governing permissions and\n",
              "// limitations under the License.\n",
              "\n",
              "/**\n",
              " * @fileoverview Helpers for google.colab Python module.\n",
              " */\n",
              "(function(scope) {\n",
              "function span(text, styleAttributes = {}) {\n",
              "  const element = document.createElement('span');\n",
              "  element.textContent = text;\n",
              "  for (const key of Object.keys(styleAttributes)) {\n",
              "    element.style[key] = styleAttributes[key];\n",
              "  }\n",
              "  return element;\n",
              "}\n",
              "\n",
              "// Max number of bytes which will be uploaded at a time.\n",
              "const MAX_PAYLOAD_SIZE = 100 * 1024;\n",
              "\n",
              "function _uploadFiles(inputId, outputId) {\n",
              "  const steps = uploadFilesStep(inputId, outputId);\n",
              "  const outputElement = document.getElementById(outputId);\n",
              "  // Cache steps on the outputElement to make it available for the next call\n",
              "  // to uploadFilesContinue from Python.\n",
              "  outputElement.steps = steps;\n",
              "\n",
              "  return _uploadFilesContinue(outputId);\n",
              "}\n",
              "\n",
              "// This is roughly an async generator (not supported in the browser yet),\n",
              "// where there are multiple asynchronous steps and the Python side is going\n",
              "// to poll for completion of each step.\n",
              "// This uses a Promise to block the python side on completion of each step,\n",
              "// then passes the result of the previous step as the input to the next step.\n",
              "function _uploadFilesContinue(outputId) {\n",
              "  const outputElement = document.getElementById(outputId);\n",
              "  const steps = outputElement.steps;\n",
              "\n",
              "  const next = steps.next(outputElement.lastPromiseValue);\n",
              "  return Promise.resolve(next.value.promise).then((value) => {\n",
              "    // Cache the last promise value to make it available to the next\n",
              "    // step of the generator.\n",
              "    outputElement.lastPromiseValue = value;\n",
              "    return next.value.response;\n",
              "  });\n",
              "}\n",
              "\n",
              "/**\n",
              " * Generator function which is called between each async step of the upload\n",
              " * process.\n",
              " * @param {string} inputId Element ID of the input file picker element.\n",
              " * @param {string} outputId Element ID of the output display.\n",
              " * @return {!Iterable<!Object>} Iterable of next steps.\n",
              " */\n",
              "function* uploadFilesStep(inputId, outputId) {\n",
              "  const inputElement = document.getElementById(inputId);\n",
              "  inputElement.disabled = false;\n",
              "\n",
              "  const outputElement = document.getElementById(outputId);\n",
              "  outputElement.innerHTML = '';\n",
              "\n",
              "  const pickedPromise = new Promise((resolve) => {\n",
              "    inputElement.addEventListener('change', (e) => {\n",
              "      resolve(e.target.files);\n",
              "    });\n",
              "  });\n",
              "\n",
              "  const cancel = document.createElement('button');\n",
              "  inputElement.parentElement.appendChild(cancel);\n",
              "  cancel.textContent = 'Cancel upload';\n",
              "  const cancelPromise = new Promise((resolve) => {\n",
              "    cancel.onclick = () => {\n",
              "      resolve(null);\n",
              "    };\n",
              "  });\n",
              "\n",
              "  // Wait for the user to pick the files.\n",
              "  const files = yield {\n",
              "    promise: Promise.race([pickedPromise, cancelPromise]),\n",
              "    response: {\n",
              "      action: 'starting',\n",
              "    }\n",
              "  };\n",
              "\n",
              "  cancel.remove();\n",
              "\n",
              "  // Disable the input element since further picks are not allowed.\n",
              "  inputElement.disabled = true;\n",
              "\n",
              "  if (!files) {\n",
              "    return {\n",
              "      response: {\n",
              "        action: 'complete',\n",
              "      }\n",
              "    };\n",
              "  }\n",
              "\n",
              "  for (const file of files) {\n",
              "    const li = document.createElement('li');\n",
              "    li.append(span(file.name, {fontWeight: 'bold'}));\n",
              "    li.append(span(\n",
              "        `(${file.type || 'n/a'}) - ${file.size} bytes, ` +\n",
              "        `last modified: ${\n",
              "            file.lastModifiedDate ? file.lastModifiedDate.toLocaleDateString() :\n",
              "                                    'n/a'} - `));\n",
              "    const percent = span('0% done');\n",
              "    li.appendChild(percent);\n",
              "\n",
              "    outputElement.appendChild(li);\n",
              "\n",
              "    const fileDataPromise = new Promise((resolve) => {\n",
              "      const reader = new FileReader();\n",
              "      reader.onload = (e) => {\n",
              "        resolve(e.target.result);\n",
              "      };\n",
              "      reader.readAsArrayBuffer(file);\n",
              "    });\n",
              "    // Wait for the data to be ready.\n",
              "    let fileData = yield {\n",
              "      promise: fileDataPromise,\n",
              "      response: {\n",
              "        action: 'continue',\n",
              "      }\n",
              "    };\n",
              "\n",
              "    // Use a chunked sending to avoid message size limits. See b/62115660.\n",
              "    let position = 0;\n",
              "    do {\n",
              "      const length = Math.min(fileData.byteLength - position, MAX_PAYLOAD_SIZE);\n",
              "      const chunk = new Uint8Array(fileData, position, length);\n",
              "      position += length;\n",
              "\n",
              "      const base64 = btoa(String.fromCharCode.apply(null, chunk));\n",
              "      yield {\n",
              "        response: {\n",
              "          action: 'append',\n",
              "          file: file.name,\n",
              "          data: base64,\n",
              "        },\n",
              "      };\n",
              "\n",
              "      let percentDone = fileData.byteLength === 0 ?\n",
              "          100 :\n",
              "          Math.round((position / fileData.byteLength) * 100);\n",
              "      percent.textContent = `${percentDone}% done`;\n",
              "\n",
              "    } while (position < fileData.byteLength);\n",
              "  }\n",
              "\n",
              "  // All done.\n",
              "  yield {\n",
              "    response: {\n",
              "      action: 'complete',\n",
              "    }\n",
              "  };\n",
              "}\n",
              "\n",
              "scope.google = scope.google || {};\n",
              "scope.google.colab = scope.google.colab || {};\n",
              "scope.google.colab._files = {\n",
              "  _uploadFiles,\n",
              "  _uploadFilesContinue,\n",
              "};\n",
              "})(self);\n",
              "</script> "
            ]
          },
          "metadata": {}
        },
        {
          "output_type": "stream",
          "name": "stdout",
          "text": [
            "Saving solar_radiation.csv to solar_radiation.csv\n",
            "User uploaded file \"solar_radiation.csv\" with length 1407349 bytes\n"
          ]
        }
      ],
      "source": [
        "# Cell 1: Upload Data and Install Libraries\n",
        "\n",
        "# Step 1: Upload your solar_radiation.csv file\n",
        "from google.colab import files\n",
        "uploaded = files.upload()\n",
        "\n",
        "# Verify upload\n",
        "for fn in uploaded.keys():\n",
        "  print(f'User uploaded file \"{fn}\" with length {len(uploaded[fn])} bytes')\n",
        "\n",
        "# (No specific libraries to install beyond standard Colab environment for this code)"
      ]
    },
    {
      "cell_type": "code",
      "source": [
        "# Cell 2: Imports and Configuration\n",
        "import torch\n",
        "import torch.nn as nn\n",
        "import torch.optim as optim\n",
        "from torch.utils.data import Dataset, DataLoader\n",
        "import pandas as pd\n",
        "import numpy as np\n",
        "import matplotlib.pyplot as plt\n",
        "from sklearn.preprocessing import MinMaxScaler\n",
        "from tqdm import tqdm # For progress bars in Colab\n",
        "import math\n",
        "import io # To read the uploaded file with pandas\n",
        "\n",
        "# --- Configuration ---\n",
        "DEVICE = torch.device(\"cuda\" if torch.cuda.is_available() else \"cpu\")\n",
        "FILE_NAME = 'solar_radiation.csv' # Should match your uploaded file name\n",
        "\n",
        "SEQ_LENGTH = 72  # Input sequence length (e.g., 6 hours of 5-min data)\n",
        "PREDICTION_HORIZON = 288 # Output sequence length (24 hours * 12 samples/hour)\n",
        "BATCH_SIZE = 32 # Adjust based on Colab's GPU memory (16 or 32 often work)\n",
        "LEARNING_RATE = 1e-4\n",
        "EPOCHS = 200      # Start with fewer epochs (e.g., 20-30) for faster Colab iterations\n",
        "HIDDEN_SIZE_LSTM = 64\n",
        "FDCNN_OUT_CHANNELS = 128\n",
        "ATTENTION_UNITS = 128\n",
        "DROPOUT_RATE = 0.2\n",
        "\n",
        "print(f\"Using device: {DEVICE}\")"
      ],
      "metadata": {
        "colab": {
          "base_uri": "https://localhost:8080/"
        },
        "id": "UT6LO2KS93e7",
        "outputId": "1c9f83e4-8b37-45ba-8fbb-2ad5fc01cfaf"
      },
      "execution_count": 3,
      "outputs": [
        {
          "output_type": "stream",
          "name": "stdout",
          "text": [
            "Using device: cuda\n"
          ]
        }
      ]
    },
    {
      "cell_type": "code",
      "source": [
        "# Cell 3: Helper Functions\n",
        "\n",
        "def create_sequences(data, seq_length, pred_horizon):\n",
        "    xs, ys = [], []\n",
        "    for i in range(len(data) - seq_length - pred_horizon + 1):\n",
        "        x = data[i:(i + seq_length)]\n",
        "        y = data[(i + seq_length):(i + seq_length + pred_horizon)]\n",
        "        xs.append(x)\n",
        "        ys.append(y)\n",
        "    return np.array(xs), np.array(ys)\n",
        "\n",
        "class SolarDataset(Dataset):\n",
        "    def __init__(self, features, targets):\n",
        "        self.features = torch.tensor(features, dtype=torch.float32)\n",
        "        self.targets = torch.tensor(targets, dtype=torch.float32)\n",
        "\n",
        "    def __len__(self):\n",
        "        return len(self.features)\n",
        "\n",
        "    def __getitem__(self, idx):\n",
        "        return self.features[idx], self.targets[idx]\n",
        "\n",
        "def calculate_rmse(mse_loss):\n",
        "    return math.sqrt(mse_loss)"
      ],
      "metadata": {
        "id": "V_tPlRoa99oR"
      },
      "execution_count": 4,
      "outputs": []
    },
    {
      "cell_type": "code",
      "source": [
        "# Cell 4: Model Components (FFC_block, Attention)\n",
        "\n",
        "class FFC_block(nn.Module):\n",
        "    def __init__(self, in_channels, out_channels_total, kernel_size=3, ratio_gin=0.5,\n",
        "                 stride=1, padding=\"same\", dilation=1, groups=1, bias=False): # Use padding=\"same\"\n",
        "        super(FFC_block, self).__init__()\n",
        "        # Ensure out_channels_total is divisible by 2 for splitting\n",
        "        if out_channels_total % 2 != 0:\n",
        "            raise ValueError(\"out_channels_total must be divisible by 2 for FFC block splitting.\")\n",
        "\n",
        "        self.out_channels_part = out_channels_total // 2 # Output channels for local and global part EACH\n",
        "\n",
        "        in_cg = int(in_channels * ratio_gin)\n",
        "        in_cl = in_channels - in_cg\n",
        "        self.ratio_gin = ratio_gin\n",
        "\n",
        "        # Convolutions for the local path processing contributing to f_l\n",
        "        self.conv_l2l = nn.Conv1d(in_cl, self.out_channels_part, kernel_size, stride, padding, dilation, groups, bias)\n",
        "        # Convolutions for the global path processing contributing to f_l\n",
        "        self.conv_g2l = nn.Conv1d(in_cg, self.out_channels_part, kernel_size, stride, padding, dilation, groups, bias)\n",
        "\n",
        "        # Convolutions for the local path processing contributing to f_g\n",
        "        self.conv_l2g = nn.Conv1d(in_cl, self.out_channels_part, kernel_size, stride, padding, dilation, groups, bias)\n",
        "        # Convolutions for the global path processing contributing to f_g (before FFT)\n",
        "        self.conv_g2g_pre_fft = nn.Conv1d(in_cg, self.out_channels_part, kernel_size, stride, padding, dilation, groups, bias)\n",
        "        # Optional: A conv after IFFT for g2g path if needed, or directly use pre_fft output for FFT\n",
        "        # self.conv_g2g_post_fft = nn.Conv1d(self.out_channels_part, self.out_channels_part, kernel_size, stride, padding, dilation, groups, bias)\n",
        "\n",
        "\n",
        "        self.relu = nn.ReLU(inplace=True)\n",
        "\n",
        "    def forward(self, x): # x: (Batch, In_Channels, SeqLen)\n",
        "        x_l, x_g = x[:, :int(x.size(1) * (1-self.ratio_gin))], x[:, int(x.size(1) * (1-self.ratio_gin)):]\n",
        "\n",
        "        # Equation (11) logic: X_local_updated = X_local→local + X_global→local\n",
        "        f_l_from_local = self.conv_l2l(x_l)\n",
        "        f_l_from_global = self.conv_g2l(x_g)\n",
        "        f_l = self.relu(f_l_from_local + f_l_from_global)\n",
        "\n",
        "        # Equation (12) logic: X_global_updated = X_global→global + X_local→global\n",
        "        f_g_from_local = self.conv_l2g(x_l)\n",
        "\n",
        "        # Global path processing for f_g\n",
        "        f_g_from_global_pre_fft = self.conv_g2g_pre_fft(x_g)\n",
        "\n",
        "        # Apply FFT, then IFFT.\n",
        "        # The \"learnable\" part in frequency domain is tricky.\n",
        "        # A true FDCNN might have learnable complex weights or separate convolutions for real/imag parts.\n",
        "        # Here, we simplify: conv -> fft -> (potential learnable scaling/filtering) -> ifft\n",
        "        # For simplicity, let's assume the main \"global\" processing is the FFT/IFFT itself on convolved features.\n",
        "        original_len = f_g_from_global_pre_fft.size(2)\n",
        "        f_g_fft = torch.fft.rfft(f_g_from_global_pre_fft, dim=2)\n",
        "        # (Potentially, insert learnable operations on f_g_fft here)\n",
        "        f_g_ifft = torch.fft.irfft(f_g_fft, n=original_len, dim=2)\n",
        "        # f_g_from_global = self.relu(self.conv_g2g_post_fft(f_g_ifft)) # If using post_fft conv\n",
        "        f_g_from_global = f_g_ifft # Directly use ifft output if no post_fft conv\n",
        "\n",
        "        f_g = self.relu(f_g_from_local + f_g_from_global)\n",
        "\n",
        "        return torch.cat((f_l, f_g), dim=1) # Concatenate features from local and global updates\n",
        "\n",
        "class Attention(nn.Module):\n",
        "    def __init__(self, num_input_channels, seq_len_for_hi, attention_units):\n",
        "        super(Attention, self).__init__()\n",
        "        # Input to attention: (Batch, Num_FDCNN_Channels, SeqLen)\n",
        "        # 'hi' is a channel vector of length 'seq_len_for_hi'.\n",
        "        # Wh maps each 'hi' (a channel vector) to 'attention_units'.\n",
        "        self.fc_for_aei = nn.Linear(seq_len_for_hi, attention_units) # W_h * h_i part\n",
        "        self.Wh_att_score = nn.Linear(attention_units, 1) # To get a single score per channel for softmax\n",
        "\n",
        "    def forward(self, x): # x: (Batch, Num_FDCNN_Channels, SeqLen)\n",
        "        batch_size, num_fdcnn_channels, seq_len = x.shape\n",
        "\n",
        "        ae_scores_list = []\n",
        "        for i in range(num_fdcnn_channels):\n",
        "            hi = x[:, i, :]  # (Batch, SeqLen) - this is one channel vector\n",
        "\n",
        "            # Eq 13: aei = max(0, Whi hi + bh)\n",
        "            # Assuming bh is absorbed or not explicitly used for simplicity like some attention heads\n",
        "            aei_processed = self.fc_for_aei(hi) # (Batch, attention_units)\n",
        "            aei_activated = torch.relu(aei_processed) # (Batch, attention_units)\n",
        "\n",
        "            # Get a single score for this channel\n",
        "            score_for_channel_i = self.Wh_att_score(aei_activated).squeeze(-1) # (Batch)\n",
        "            ae_scores_list.append(score_for_channel_i)\n",
        "\n",
        "        ae_T_scores = torch.stack(ae_scores_list, dim=1) # (Batch, Num_FDCNN_Channels)\n",
        "\n",
        "        # Eq 14: ari = softmax(aei)\n",
        "        ari_weights = torch.softmax(ae_T_scores, dim=1) # (Batch, Num_FDCNN_Channels)\n",
        "\n",
        "        # Eq 15: asi = Σ arj hj\n",
        "        # ari_weights: (Batch, Num_FDCNN_Channels)\n",
        "        # x: (Batch, Num_FDCNN_Channels, SeqLen)\n",
        "        # We need to expand ari_weights for element-wise multiplication\n",
        "        # (Batch, Num_FDCNN_Channels, 1) * (Batch, Num_FDCNN_Channels, SeqLen)\n",
        "        context_vector = torch.sum(ari_weights.unsqueeze(-1) * x, dim=1) # (Batch, SeqLen)\n",
        "\n",
        "        return context_vector, ari_weights"
      ],
      "metadata": {
        "id": "eDbhCo2p-A5C"
      },
      "execution_count": 5,
      "outputs": []
    },
    {
      "cell_type": "code",
      "source": [
        "# Cell 5: MSMVAN_Univariate Model Definition\n",
        "\n",
        "class MSMVAN_Univariate(nn.Module):\n",
        "    def __init__(self, input_size, hidden_size_lstm, lstm_layers, ffc_out_channels_total,\n",
        "                 attention_units, pred_horizon, seq_len, dropout_rate=0.2):\n",
        "        super(MSMVAN_Univariate, self).__init__()\n",
        "        self.seq_len = seq_len\n",
        "        self.lstm = nn.LSTM(input_size, hidden_size_lstm, num_layers=lstm_layers,\n",
        "                            batch_first=True, bidirectional=True,\n",
        "                            dropout=dropout_rate if lstm_layers > 1 else 0)\n",
        "\n",
        "        bilstm_out_features = hidden_size_lstm * 2\n",
        "\n",
        "        # FFC block input channels = bilstm_out_features\n",
        "        # FFC block output channels = ffc_out_channels_total\n",
        "        self.ffc1 = FFC_block(bilstm_out_features, ffc_out_channels_total, kernel_size=3, padding=\"same\")\n",
        "        # self.ffc2 = FFC_block(ffc_out_channels_total, ffc_out_channels_total, kernel_size=3, padding=\"same\") # Optional\n",
        "\n",
        "        # Attention input: (Batch, ffc_out_channels_total, SeqLen)\n",
        "        # 'hi' for attention is a channel vector of length SeqLen\n",
        "        self.attention = Attention(\n",
        "            num_input_channels=ffc_out_channels_total, # Number of channels from FFC\n",
        "            seq_len_for_hi=seq_len, # Length of each channel vector\n",
        "            attention_units=attention_units\n",
        "        )\n",
        "\n",
        "        self.dropout = nn.Dropout(dropout_rate)\n",
        "        # Input to fc is attention output (Batch, SeqLen)\n",
        "        self.fc = nn.Linear(seq_len, pred_horizon)\n",
        "\n",
        "    def forward(self, x): # x: (Batch, SeqLen, Input_Size=1 for univariate)\n",
        "        lstm_out, _ = self.lstm(x) # (Batch, SeqLen, Hidden*2)\n",
        "\n",
        "        # Prepare for FFC: (Batch, Channels=Hidden*2, SeqLen)\n",
        "        ffc_in = lstm_out.permute(0, 2, 1)\n",
        "\n",
        "        ffc_out = self.ffc1(ffc_in)\n",
        "        # ffc_out = self.ffc2(ffc_out) # If using second FFC\n",
        "\n",
        "        # ffc_out is (Batch, ffc_out_channels_total, SeqLen)\n",
        "        attn_out_context_vector, attn_weights = self.attention(ffc_out) # attn_out_context_vector: (Batch, SeqLen)\n",
        "\n",
        "        dropped_out = self.dropout(attn_out_context_vector)\n",
        "        predictions = self.fc(dropped_out) # (Batch, PredHorizon)\n",
        "        return predictions"
      ],
      "metadata": {
        "id": "dBRHsdEl-m4p"
      },
      "execution_count": 6,
      "outputs": []
    },
    {
      "cell_type": "code",
      "source": [
        "# Cell 6: Data Loading and Preprocessing\n",
        "\n",
        "# Read the uploaded file\n",
        "try:\n",
        "    df = pd.read_csv(io.BytesIO(uploaded[FILE_NAME]), usecols=['Solar_Radiation'])\n",
        "    print(f\"Successfully loaded {FILE_NAME}\")\n",
        "except KeyError:\n",
        "    print(f\"Error: File '{FILE_NAME}' not found in upload or 'Solar_Radiation' column missing.\")\n",
        "    # Fallback to dummy data if file loading fails, for testing the rest of the script\n",
        "    print(\"Generating dummy data as fallback.\")\n",
        "    data_raw = np.sin(np.linspace(0, 1000, 33133)) * 50 + 50\n",
        "    data_raw += np.random.normal(0, 5, 33133)\n",
        "    data_raw = np.clip(data_raw, 0, None)\n",
        "else:\n",
        "    # Ensure 'Solar_Radiation' is numeric. If already numeric, this won't harm.\n",
        "    df['Solar_Radiation'] = pd.to_numeric(df['Solar_Radiation'], errors='coerce')\n",
        "    # The problem states \"no null value\", but this is good practice.\n",
        "    # If coerce creates NaNs for some reason, drop them.\n",
        "    df.dropna(subset=['Solar_Radiation'], inplace=True)\n",
        "    data_raw = df['Solar_Radiation'].values.astype(float)\n",
        "\n",
        "if len(data_raw) < SEQ_LENGTH + PREDICTION_HORIZON:\n",
        "    raise ValueError(f\"Not enough data points ({len(data_raw)}) for the given SEQ_LENGTH ({SEQ_LENGTH}) and PREDICTION_HORIZON ({PREDICTION_HORIZON}).\")\n",
        "\n",
        "print(f\"Raw data shape: {data_raw.shape}\")\n",
        "\n",
        "scaler = MinMaxScaler(feature_range=(-1, 1)) # Or (0,1) if solar radiation is always non-negative\n",
        "data_scaled = scaler.fit_transform(data_raw.reshape(-1, 1))\n",
        "\n",
        "features, targets = create_sequences(data_scaled, SEQ_LENGTH, PREDICTION_HORIZON)\n",
        "features = features.reshape(features.shape[0], SEQ_LENGTH, 1) # Add feature dim for univariate\n",
        "\n",
        "print(f\"Features shape: {features.shape}, Targets shape: {targets.shape}\")\n",
        "\n",
        "# Split data (e.g., 80% train, 10% val, 10% test)\n",
        "# Ensure enough samples for each split after sequence creation\n",
        "if len(features) < 10: # Arbitrary small number, adjust if needed\n",
        "    raise ValueError(f\"Too few sequences ({len(features)}) created. Check data length, SEQ_LENGTH, and PREDICTION_HORIZON.\")\n",
        "\n",
        "train_ratio = 0.8\n",
        "val_ratio = 0.1\n",
        "# test_ratio = 0.1 # Implicit\n",
        "\n",
        "train_size = int(len(features) * train_ratio)\n",
        "val_size = int(len(features) * val_ratio)\n",
        "# test_size = len(features) - train_size - val_size # The rest is test\n",
        "\n",
        "train_features, train_targets = features[:train_size], targets[:train_size]\n",
        "val_features, val_targets = features[train_size:train_size+val_size], targets[train_size:train_size+val_size]\n",
        "test_features, test_targets = features[train_size+val_size:], targets[train_size+val_size:]\n",
        "\n",
        "print(f\"Train features shape: {train_features.shape}\")\n",
        "print(f\"Validation features shape: {val_features.shape}\")\n",
        "print(f\"Test features shape: {test_features.shape}\")\n",
        "\n",
        "\n",
        "# Create DataLoaders\n",
        "if len(train_features) > 0:\n",
        "    train_dataset = SolarDataset(train_features, train_targets)\n",
        "    train_loader = DataLoader(train_dataset, batch_size=BATCH_SIZE, shuffle=True, drop_last=True)\n",
        "else:\n",
        "    train_loader = None\n",
        "    print(\"Warning: Training set is empty after splitting.\")\n",
        "\n",
        "if len(val_features) > 0:\n",
        "    val_dataset = SolarDataset(val_features, val_targets)\n",
        "    val_loader = DataLoader(val_dataset, batch_size=BATCH_SIZE, shuffle=False, drop_last=True)\n",
        "else:\n",
        "    val_loader = None\n",
        "    print(\"Warning: Validation set is empty after splitting.\")\n",
        "\n",
        "if len(test_features) > 0:\n",
        "    test_dataset = SolarDataset(test_features, test_targets)\n",
        "    test_loader = DataLoader(test_dataset, batch_size=BATCH_SIZE, shuffle=False, drop_last=True)\n",
        "else:\n",
        "    test_loader = None\n",
        "    print(\"Warning: Test set is empty after splitting.\")\n",
        "\n",
        "\n",
        "if not train_loader:\n",
        "    raise ValueError(\"Training DataLoader could not be created. Check data and split sizes.\")"
      ],
      "metadata": {
        "colab": {
          "base_uri": "https://localhost:8080/"
        },
        "id": "KXLNRZt4-LOK",
        "outputId": "355477c3-0688-4d36-9265-7e3eb076bc81"
      },
      "execution_count": 7,
      "outputs": [
        {
          "output_type": "stream",
          "name": "stdout",
          "text": [
            "Successfully loaded solar_radiation.csv\n",
            "Raw data shape: (33133,)\n",
            "Features shape: (32774, 72, 1), Targets shape: (32774, 288, 1)\n",
            "Train features shape: (26219, 72, 1)\n",
            "Validation features shape: (3277, 72, 1)\n",
            "Test features shape: (3278, 72, 1)\n"
          ]
        }
      ]
    },
    {
      "cell_type": "code",
      "source": [
        "# Cell 7: Model Initialization, Optimizer, Criterion, Scheduler\n",
        "\n",
        "model = MSMVAN_Univariate(\n",
        "    input_size=1, # Univariate\n",
        "    hidden_size_lstm=HIDDEN_SIZE_LSTM,\n",
        "    lstm_layers=2, # Example, can be tuned\n",
        "    ffc_out_channels_total=FDCNN_OUT_CHANNELS,\n",
        "    attention_units=ATTENTION_UNITS,\n",
        "    pred_horizon=PREDICTION_HORIZON,\n",
        "    seq_len=SEQ_LENGTH,\n",
        "    dropout_rate=DROPOUT_RATE\n",
        ").to(DEVICE)\n",
        "\n",
        "criterion = nn.MSELoss()\n",
        "optimizer = optim.Adam(model.parameters(), lr=LEARNING_RATE)\n",
        "scheduler = optim.lr_scheduler.ReduceLROnPlateau(optimizer, 'min', factor=0.5, patience=3, verbose=True) # Reduced patience\n",
        "\n",
        "print(model)\n",
        "total_params = sum(p.numel() for p in model.parameters() if p.requires_grad)\n",
        "print(f\"Total trainable parameters: {total_params}\")"
      ],
      "metadata": {
        "colab": {
          "base_uri": "https://localhost:8080/"
        },
        "id": "j4DWRVkv-QsB",
        "outputId": "0f18a9fa-bd5c-4fb6-b5fc-0d8a54d33b5c"
      },
      "execution_count": 8,
      "outputs": [
        {
          "output_type": "stream",
          "name": "stdout",
          "text": [
            "MSMVAN_Univariate(\n",
            "  (lstm): LSTM(1, 64, num_layers=2, batch_first=True, dropout=0.2, bidirectional=True)\n",
            "  (ffc1): FFC_block(\n",
            "    (conv_l2l): Conv1d(64, 64, kernel_size=(3,), stride=(1,), padding=same, bias=False)\n",
            "    (conv_g2l): Conv1d(64, 64, kernel_size=(3,), stride=(1,), padding=same, bias=False)\n",
            "    (conv_l2g): Conv1d(64, 64, kernel_size=(3,), stride=(1,), padding=same, bias=False)\n",
            "    (conv_g2g_pre_fft): Conv1d(64, 64, kernel_size=(3,), stride=(1,), padding=same, bias=False)\n",
            "    (relu): ReLU(inplace=True)\n",
            "  )\n",
            "  (attention): Attention(\n",
            "    (fc_for_aei): Linear(in_features=72, out_features=128, bias=True)\n",
            "    (Wh_att_score): Linear(in_features=128, out_features=1, bias=True)\n",
            "  )\n",
            "  (dropout): Dropout(p=0.2, inplace=False)\n",
            "  (fc): Linear(in_features=72, out_features=288, bias=True)\n",
            ")\n",
            "Total trainable parameters: 213281\n"
          ]
        },
        {
          "output_type": "stream",
          "name": "stderr",
          "text": [
            "/usr/local/lib/python3.11/dist-packages/torch/optim/lr_scheduler.py:62: UserWarning: The verbose parameter is deprecated. Please use get_last_lr() to access the learning rate.\n",
            "  warnings.warn(\n"
          ]
        }
      ]
    },
    {
      "cell_type": "code",
      "source": [
        "# Cell 8: Training Loop\n",
        "\n",
        "best_val_mse = float('inf')\n",
        "best_val_rmse = float('inf')\n",
        "best_val_mae = float('inf')\n",
        "\n",
        "train_mse_history = []\n",
        "val_mse_history = []\n",
        "\n",
        "if not train_loader or not val_loader:\n",
        "    print(\"Skipping training as train_loader or val_loader is not available.\")\n",
        "else:\n",
        "    for epoch in range(EPOCHS):\n",
        "        model.train()\n",
        "        epoch_train_mse_loss = 0\n",
        "        epoch_train_mae_loss = 0\n",
        "\n",
        "        # Using tqdm for progress bar in Colab\n",
        "        train_pbar = tqdm(train_loader, desc=f\"Epoch {epoch+1}/{EPOCHS} [Training]\", unit=\"batch\")\n",
        "        for batch_features, batch_targets in train_pbar:\n",
        "            batch_features, batch_targets = batch_features.to(DEVICE), batch_targets.to(DEVICE)\n",
        "\n",
        "            optimizer.zero_grad()\n",
        "            outputs = model(batch_features) # Shape: (Batch, PredHorizon)\n",
        "\n",
        "            # Ensure targets are (Batch, PredHorizon) for loss calculation\n",
        "            if batch_targets.ndim == 3 and batch_targets.shape[-1] == 1: # (B, Horizon, 1)\n",
        "                batch_targets_squeezed = batch_targets.squeeze(-1)\n",
        "            elif batch_targets.ndim == 2: # (B, Horizon)\n",
        "                batch_targets_squeezed = batch_targets\n",
        "            else:\n",
        "                raise ValueError(f\"Unexpected target shape: {batch_targets.shape}\")\n",
        "\n",
        "            loss_mse = criterion(outputs, batch_targets_squeezed)\n",
        "            loss_mae = nn.L1Loss()(outputs, batch_targets_squeezed)\n",
        "\n",
        "            loss_mse.backward()\n",
        "            torch.nn.utils.clip_grad_norm_(model.parameters(), max_norm=1.0) # Gradient clipping\n",
        "            optimizer.step()\n",
        "\n",
        "            epoch_train_mse_loss += loss_mse.item()\n",
        "            epoch_train_mae_loss += loss_mae.item()\n",
        "            train_pbar.set_postfix(MSE=loss_mse.item(), MAE=loss_mae.item())\n",
        "\n",
        "        avg_epoch_train_mse = epoch_train_mse_loss / len(train_loader)\n",
        "        avg_epoch_train_rmse = calculate_rmse(avg_epoch_train_mse)\n",
        "        avg_epoch_train_mae = epoch_train_mae_loss / len(train_loader)\n",
        "        train_mse_history.append(avg_epoch_train_mse)\n",
        "\n",
        "        # Validation\n",
        "        model.eval()\n",
        "        epoch_val_mse_loss = 0\n",
        "        epoch_val_mae_loss = 0\n",
        "\n",
        "        val_pbar = tqdm(val_loader, desc=f\"Epoch {epoch+1}/{EPOCHS} [Validation]\", unit=\"batch\")\n",
        "        with torch.no_grad():\n",
        "            for batch_features, batch_targets in val_pbar:\n",
        "                batch_features, batch_targets = batch_features.to(DEVICE), batch_targets.to(DEVICE)\n",
        "                outputs = model(batch_features)\n",
        "\n",
        "                if batch_targets.ndim == 3 and batch_targets.shape[-1] == 1:\n",
        "                    batch_targets_squeezed = batch_targets.squeeze(-1)\n",
        "                else:\n",
        "                    batch_targets_squeezed = batch_targets\n",
        "\n",
        "                loss_mse = criterion(outputs, batch_targets_squeezed)\n",
        "                loss_mae = nn.L1Loss()(outputs, batch_targets_squeezed)\n",
        "                epoch_val_mse_loss += loss_mse.item()\n",
        "                epoch_val_mae_loss += loss_mae.item()\n",
        "                val_pbar.set_postfix(MSE=loss_mse.item(), MAE=loss_mae.item())\n",
        "\n",
        "        avg_epoch_val_mse = epoch_val_mse_loss / len(val_loader)\n",
        "        avg_epoch_val_rmse = calculate_rmse(avg_epoch_val_mse)\n",
        "        avg_epoch_val_mae = epoch_val_mae_loss / len(val_loader)\n",
        "        val_mse_history.append(avg_epoch_val_mse)\n",
        "\n",
        "        current_lr = optimizer.param_groups[0]['lr']\n",
        "        print(f\"\\nEpoch {epoch+1}/{EPOCHS} Summary:\"\n",
        "              f\"\\n  LR: {current_lr:.6f}\"\n",
        "              f\"\\n  Train MSE: {avg_epoch_train_mse:.6f}, RMSE: {avg_epoch_train_rmse:.6f}, MAE: {avg_epoch_train_mae:.6f}\"\n",
        "              f\"\\n  Val   MSE: {avg_epoch_val_mse:.6f}, RMSE: {avg_epoch_val_rmse:.6f}, MAE: {avg_epoch_val_mae:.6f}\")\n",
        "\n",
        "        scheduler.step(avg_epoch_val_mse)\n",
        "\n",
        "        if avg_epoch_val_mse < best_val_mse:\n",
        "            best_val_mse = avg_epoch_val_mse\n",
        "            best_val_rmse = avg_epoch_val_rmse\n",
        "            best_val_mae = avg_epoch_val_mae\n",
        "            torch.save(model.state_dict(), 'best_msmvan_colab_model.pth')\n",
        "            print(f\"  >>> New best validation MSE: {best_val_mse:.6f}. Model saved. <<<\")\n",
        "        print(\"-\" * 50)\n",
        "\n",
        "print(\"\\n--- Training Finished ---\")\n",
        "print(f\"Best Validation MSE: {best_val_mse:.6f}\")\n",
        "print(f\"Best Validation RMSE: {best_val_rmse:.6f}\")\n",
        "print(f\"Best Validation MAE: {best_val_mae:.6f}\")\n",
        "\n",
        "# Plot training and validation loss\n",
        "plt.figure(figsize=(10, 6))\n",
        "plt.plot(train_mse_history, label='Training MSE')\n",
        "plt.plot(val_mse_history, label='Validation MSE')\n",
        "plt.xlabel('Epoch')\n",
        "plt.ylabel('MSE Loss')\n",
        "plt.title('Training and Validation MSE Loss Over Epochs')\n",
        "plt.legend()\n",
        "plt.grid(True)\n",
        "plt.savefig(\"msmvan_training_validation_loss.png\")\n",
        "plt.show()"
      ],
      "metadata": {
        "colab": {
          "base_uri": "https://localhost:8080/",
          "height": 1000
        },
        "id": "dcZNAfIO-k1a",
        "outputId": "5a882375-9b1b-42db-9ff2-2ac2874d4aa3"
      },
      "execution_count": 9,
      "outputs": [
        {
          "metadata": {
            "tags": null
          },
          "name": "stderr",
          "output_type": "stream",
          "text": [
            "Epoch 1/200 [Training]: 100%|██████████| 819/819 [01:00<00:00, 13.53batch/s, MAE=0.361, MSE=0.187]\n",
            "Epoch 1/200 [Validation]: 100%|██████████| 102/102 [00:01<00:00, 58.48batch/s, MAE=0.293, MSE=0.107]\n"
          ]
        },
        {
          "metadata": {
            "tags": null
          },
          "name": "stdout",
          "output_type": "stream",
          "text": [
            "\n",
            "Epoch 1/200 Summary:\n",
            "  LR: 0.000100\n",
            "  Train MSE: 0.241543, RMSE: 0.491470, MAE: 0.403627\n",
            "  Val   MSE: 0.138409, RMSE: 0.372034, MAE: 0.335300\n",
            "  >>> New best validation MSE: 0.138409. Model saved. <<<\n",
            "--------------------------------------------------\n"
          ]
        },
        {
          "metadata": {
            "tags": null
          },
          "name": "stderr",
          "output_type": "stream",
          "text": [
            "Epoch 2/200 [Training]: 100%|██████████| 819/819 [00:57<00:00, 14.15batch/s, MAE=0.358, MSE=0.183]\n",
            "Epoch 2/200 [Validation]: 100%|██████████| 102/102 [00:01<00:00, 58.35batch/s, MAE=0.287, MSE=0.104]\n"
          ]
        },
        {
          "metadata": {
            "tags": null
          },
          "name": "stdout",
          "output_type": "stream",
          "text": [
            "\n",
            "Epoch 2/200 Summary:\n",
            "  LR: 0.000100\n",
            "  Train MSE: 0.179731, RMSE: 0.423947, MAE: 0.352063\n",
            "  Val   MSE: 0.136720, RMSE: 0.369757, MAE: 0.330816\n",
            "  >>> New best validation MSE: 0.136720. Model saved. <<<\n",
            "--------------------------------------------------\n"
          ]
        },
        {
          "metadata": {
            "tags": null
          },
          "name": "stderr",
          "output_type": "stream",
          "text": [
            "Epoch 3/200 [Training]: 100%|██████████| 819/819 [00:58<00:00, 14.11batch/s, MAE=0.279, MSE=0.121]\n",
            "Epoch 3/200 [Validation]: 100%|██████████| 102/102 [00:01<00:00, 57.67batch/s, MAE=0.268, MSE=0.106]\n"
          ]
        },
        {
          "metadata": {
            "tags": null
          },
          "name": "stdout",
          "output_type": "stream",
          "text": [
            "\n",
            "Epoch 3/200 Summary:\n",
            "  LR: 0.000100\n",
            "  Train MSE: 0.161305, RMSE: 0.401628, MAE: 0.327831\n",
            "  Val   MSE: 0.088416, RMSE: 0.297348, MAE: 0.241190\n",
            "  >>> New best validation MSE: 0.088416. Model saved. <<<\n",
            "--------------------------------------------------\n"
          ]
        },
        {
          "metadata": {
            "tags": null
          },
          "name": "stderr",
          "output_type": "stream",
          "text": [
            "Epoch 4/200 [Training]: 100%|██████████| 819/819 [00:58<00:00, 13.98batch/s, MAE=0.24, MSE=0.0945]\n",
            "Epoch 4/200 [Validation]: 100%|██████████| 102/102 [00:01<00:00, 57.93batch/s, MAE=0.257, MSE=0.105]\n"
          ]
        },
        {
          "metadata": {
            "tags": null
          },
          "name": "stdout",
          "output_type": "stream",
          "text": [
            "\n",
            "Epoch 4/200 Summary:\n",
            "  LR: 0.000100\n",
            "  Train MSE: 0.100964, RMSE: 0.317749, MAE: 0.246567\n",
            "  Val   MSE: 0.073201, RMSE: 0.270556, MAE: 0.207715\n",
            "  >>> New best validation MSE: 0.073201. Model saved. <<<\n",
            "--------------------------------------------------\n"
          ]
        },
        {
          "metadata": {
            "tags": null
          },
          "name": "stderr",
          "output_type": "stream",
          "text": [
            "Epoch 5/200 [Training]: 100%|██████████| 819/819 [00:57<00:00, 14.17batch/s, MAE=0.211, MSE=0.0805]\n",
            "Epoch 5/200 [Validation]: 100%|██████████| 102/102 [00:01<00:00, 58.03batch/s, MAE=0.222, MSE=0.0896]\n"
          ]
        },
        {
          "metadata": {
            "tags": null
          },
          "name": "stdout",
          "output_type": "stream",
          "text": [
            "\n",
            "Epoch 5/200 Summary:\n",
            "  LR: 0.000100\n",
            "  Train MSE: 0.088605, RMSE: 0.297665, MAE: 0.228287\n",
            "  Val   MSE: 0.065023, RMSE: 0.254995, MAE: 0.182894\n",
            "  >>> New best validation MSE: 0.065023. Model saved. <<<\n",
            "--------------------------------------------------\n"
          ]
        },
        {
          "metadata": {
            "tags": null
          },
          "name": "stderr",
          "output_type": "stream",
          "text": [
            "Epoch 6/200 [Training]: 100%|██████████| 819/819 [00:57<00:00, 14.32batch/s, MAE=0.244, MSE=0.108]\n",
            "Epoch 6/200 [Validation]: 100%|██████████| 102/102 [00:01<00:00, 57.43batch/s, MAE=0.256, MSE=0.124]\n"
          ]
        },
        {
          "metadata": {
            "tags": null
          },
          "name": "stdout",
          "output_type": "stream",
          "text": [
            "\n",
            "Epoch 6/200 Summary:\n",
            "  LR: 0.000100\n",
            "  Train MSE: 0.082148, RMSE: 0.286615, MAE: 0.215612\n",
            "  Val   MSE: 0.068328, RMSE: 0.261397, MAE: 0.183179\n",
            "--------------------------------------------------\n"
          ]
        },
        {
          "metadata": {
            "tags": null
          },
          "name": "stderr",
          "output_type": "stream",
          "text": [
            "Epoch 7/200 [Training]: 100%|██████████| 819/819 [00:57<00:00, 14.23batch/s, MAE=0.201, MSE=0.0754]\n",
            "Epoch 7/200 [Validation]: 100%|██████████| 102/102 [00:01<00:00, 58.90batch/s, MAE=0.179, MSE=0.0707]\n"
          ]
        },
        {
          "metadata": {
            "tags": null
          },
          "name": "stdout",
          "output_type": "stream",
          "text": [
            "\n",
            "Epoch 7/200 Summary:\n",
            "  LR: 0.000100\n",
            "  Train MSE: 0.078116, RMSE: 0.279493, MAE: 0.207501\n",
            "  Val   MSE: 0.061466, RMSE: 0.247923, MAE: 0.167540\n",
            "  >>> New best validation MSE: 0.061466. Model saved. <<<\n",
            "--------------------------------------------------\n"
          ]
        },
        {
          "metadata": {
            "tags": null
          },
          "name": "stderr",
          "output_type": "stream",
          "text": [
            "Epoch 8/200 [Training]: 100%|██████████| 819/819 [00:57<00:00, 14.24batch/s, MAE=0.194, MSE=0.07]\n",
            "Epoch 8/200 [Validation]: 100%|██████████| 102/102 [00:01<00:00, 58.44batch/s, MAE=0.193, MSE=0.0835]\n"
          ]
        },
        {
          "metadata": {
            "tags": null
          },
          "name": "stdout",
          "output_type": "stream",
          "text": [
            "\n",
            "Epoch 8/200 Summary:\n",
            "  LR: 0.000100\n",
            "  Train MSE: 0.075236, RMSE: 0.274293, MAE: 0.201582\n",
            "  Val   MSE: 0.055796, RMSE: 0.236212, MAE: 0.157049\n",
            "  >>> New best validation MSE: 0.055796. Model saved. <<<\n",
            "--------------------------------------------------\n"
          ]
        },
        {
          "metadata": {
            "tags": null
          },
          "name": "stderr",
          "output_type": "stream",
          "text": [
            "Epoch 9/200 [Training]: 100%|██████████| 819/819 [00:57<00:00, 14.26batch/s, MAE=0.181, MSE=0.0629]\n",
            "Epoch 9/200 [Validation]: 100%|██████████| 102/102 [00:01<00:00, 58.90batch/s, MAE=0.211, MSE=0.101]\n"
          ]
        },
        {
          "metadata": {
            "tags": null
          },
          "name": "stdout",
          "output_type": "stream",
          "text": [
            "\n",
            "Epoch 9/200 Summary:\n",
            "  LR: 0.000100\n",
            "  Train MSE: 0.073558, RMSE: 0.271216, MAE: 0.197892\n",
            "  Val   MSE: 0.058368, RMSE: 0.241594, MAE: 0.155490\n",
            "--------------------------------------------------\n"
          ]
        },
        {
          "metadata": {
            "tags": null
          },
          "name": "stderr",
          "output_type": "stream",
          "text": [
            "Epoch 10/200 [Training]: 100%|██████████| 819/819 [00:57<00:00, 14.34batch/s, MAE=0.19, MSE=0.0687]\n",
            "Epoch 10/200 [Validation]: 100%|██████████| 102/102 [00:02<00:00, 47.68batch/s, MAE=0.19, MSE=0.0847]\n"
          ]
        },
        {
          "metadata": {
            "tags": null
          },
          "name": "stdout",
          "output_type": "stream",
          "text": [
            "\n",
            "Epoch 10/200 Summary:\n",
            "  LR: 0.000100\n",
            "  Train MSE: 0.071688, RMSE: 0.267745, MAE: 0.193893\n",
            "  Val   MSE: 0.057360, RMSE: 0.239499, MAE: 0.156666\n",
            "--------------------------------------------------\n"
          ]
        },
        {
          "metadata": {
            "tags": null
          },
          "name": "stderr",
          "output_type": "stream",
          "text": [
            "Epoch 11/200 [Training]: 100%|██████████| 819/819 [00:57<00:00, 14.33batch/s, MAE=0.183, MSE=0.0626]\n",
            "Epoch 11/200 [Validation]: 100%|██████████| 102/102 [00:02<00:00, 41.95batch/s, MAE=0.186, MSE=0.0751]\n"
          ]
        },
        {
          "metadata": {
            "tags": null
          },
          "name": "stdout",
          "output_type": "stream",
          "text": [
            "\n",
            "Epoch 11/200 Summary:\n",
            "  LR: 0.000100\n",
            "  Train MSE: 0.070399, RMSE: 0.265328, MAE: 0.190866\n",
            "  Val   MSE: 0.059760, RMSE: 0.244458, MAE: 0.161155\n",
            "--------------------------------------------------\n"
          ]
        },
        {
          "metadata": {
            "tags": null
          },
          "name": "stderr",
          "output_type": "stream",
          "text": [
            "Epoch 12/200 [Training]: 100%|██████████| 819/819 [00:57<00:00, 14.31batch/s, MAE=0.178, MSE=0.0664]\n",
            "Epoch 12/200 [Validation]: 100%|██████████| 102/102 [00:02<00:00, 47.53batch/s, MAE=0.216, MSE=0.0953]\n"
          ]
        },
        {
          "metadata": {
            "tags": null
          },
          "name": "stdout",
          "output_type": "stream",
          "text": [
            "\n",
            "Epoch 12/200 Summary:\n",
            "  LR: 0.000100\n",
            "  Train MSE: 0.069343, RMSE: 0.263330, MAE: 0.188494\n",
            "  Val   MSE: 0.060734, RMSE: 0.246443, MAE: 0.163152\n",
            "--------------------------------------------------\n"
          ]
        },
        {
          "metadata": {
            "tags": null
          },
          "name": "stderr",
          "output_type": "stream",
          "text": [
            "Epoch 13/200 [Training]: 100%|██████████| 819/819 [00:57<00:00, 14.29batch/s, MAE=0.169, MSE=0.0557]\n",
            "Epoch 13/200 [Validation]: 100%|██████████| 102/102 [00:01<00:00, 55.81batch/s, MAE=0.192, MSE=0.0879]\n"
          ]
        },
        {
          "metadata": {
            "tags": null
          },
          "name": "stdout",
          "output_type": "stream",
          "text": [
            "\n",
            "Epoch 13/200 Summary:\n",
            "  LR: 0.000050\n",
            "  Train MSE: 0.068713, RMSE: 0.262131, MAE: 0.186658\n",
            "  Val   MSE: 0.054301, RMSE: 0.233027, MAE: 0.147685\n",
            "  >>> New best validation MSE: 0.054301. Model saved. <<<\n",
            "--------------------------------------------------\n"
          ]
        },
        {
          "metadata": {
            "tags": null
          },
          "name": "stderr",
          "output_type": "stream",
          "text": [
            "Epoch 14/200 [Training]: 100%|██████████| 819/819 [00:57<00:00, 14.24batch/s, MAE=0.193, MSE=0.0744]\n",
            "Epoch 14/200 [Validation]: 100%|██████████| 102/102 [00:01<00:00, 58.47batch/s, MAE=0.199, MSE=0.0889]\n"
          ]
        },
        {
          "metadata": {
            "tags": null
          },
          "name": "stdout",
          "output_type": "stream",
          "text": [
            "\n",
            "Epoch 14/200 Summary:\n",
            "  LR: 0.000050\n",
            "  Train MSE: 0.066173, RMSE: 0.257240, MAE: 0.182983\n",
            "  Val   MSE: 0.056585, RMSE: 0.237875, MAE: 0.150634\n",
            "--------------------------------------------------\n"
          ]
        },
        {
          "metadata": {
            "tags": null
          },
          "name": "stderr",
          "output_type": "stream",
          "text": [
            "Epoch 15/200 [Training]: 100%|██████████| 819/819 [00:57<00:00, 14.26batch/s, MAE=0.199, MSE=0.0778]\n",
            "Epoch 15/200 [Validation]: 100%|██████████| 102/102 [00:01<00:00, 57.69batch/s, MAE=0.211, MSE=0.0954]\n"
          ]
        },
        {
          "metadata": {
            "tags": null
          },
          "name": "stdout",
          "output_type": "stream",
          "text": [
            "\n",
            "Epoch 15/200 Summary:\n",
            "  LR: 0.000050\n",
            "  Train MSE: 0.066832, RMSE: 0.258520, MAE: 0.183436\n",
            "  Val   MSE: 0.055777, RMSE: 0.236171, MAE: 0.151720\n",
            "--------------------------------------------------\n"
          ]
        },
        {
          "metadata": {
            "tags": null
          },
          "name": "stderr",
          "output_type": "stream",
          "text": [
            "Epoch 16/200 [Training]: 100%|██████████| 819/819 [00:57<00:00, 14.23batch/s, MAE=0.177, MSE=0.0616]\n",
            "Epoch 16/200 [Validation]: 100%|██████████| 102/102 [00:01<00:00, 57.44batch/s, MAE=0.18, MSE=0.0795]\n"
          ]
        },
        {
          "metadata": {
            "tags": null
          },
          "name": "stdout",
          "output_type": "stream",
          "text": [
            "\n",
            "Epoch 16/200 Summary:\n",
            "  LR: 0.000050\n",
            "  Train MSE: 0.066621, RMSE: 0.258110, MAE: 0.182847\n",
            "  Val   MSE: 0.051982, RMSE: 0.227995, MAE: 0.145033\n",
            "  >>> New best validation MSE: 0.051982. Model saved. <<<\n",
            "--------------------------------------------------\n"
          ]
        },
        {
          "metadata": {
            "tags": null
          },
          "name": "stderr",
          "output_type": "stream",
          "text": [
            "Epoch 17/200 [Training]: 100%|██████████| 819/819 [00:57<00:00, 14.27batch/s, MAE=0.207, MSE=0.0839]\n",
            "Epoch 17/200 [Validation]: 100%|██████████| 102/102 [00:01<00:00, 57.68batch/s, MAE=0.181, MSE=0.0781]\n"
          ]
        },
        {
          "metadata": {
            "tags": null
          },
          "name": "stdout",
          "output_type": "stream",
          "text": [
            "\n",
            "Epoch 17/200 Summary:\n",
            "  LR: 0.000050\n",
            "  Train MSE: 0.065806, RMSE: 0.256526, MAE: 0.181963\n",
            "  Val   MSE: 0.057446, RMSE: 0.239678, MAE: 0.148017\n",
            "--------------------------------------------------\n"
          ]
        },
        {
          "metadata": {
            "tags": null
          },
          "name": "stderr",
          "output_type": "stream",
          "text": [
            "Epoch 18/200 [Training]: 100%|██████████| 819/819 [00:57<00:00, 14.28batch/s, MAE=0.179, MSE=0.0635]\n",
            "Epoch 18/200 [Validation]: 100%|██████████| 102/102 [00:01<00:00, 57.39batch/s, MAE=0.189, MSE=0.0843]\n"
          ]
        },
        {
          "metadata": {
            "tags": null
          },
          "name": "stdout",
          "output_type": "stream",
          "text": [
            "\n",
            "Epoch 18/200 Summary:\n",
            "  LR: 0.000050\n",
            "  Train MSE: 0.065778, RMSE: 0.256472, MAE: 0.181419\n",
            "  Val   MSE: 0.053967, RMSE: 0.232307, MAE: 0.148621\n",
            "--------------------------------------------------\n"
          ]
        },
        {
          "metadata": {
            "tags": null
          },
          "name": "stderr",
          "output_type": "stream",
          "text": [
            "Epoch 19/200 [Training]: 100%|██████████| 819/819 [00:59<00:00, 13.81batch/s, MAE=0.161, MSE=0.0445]\n",
            "Epoch 19/200 [Validation]: 100%|██████████| 102/102 [00:01<00:00, 56.99batch/s, MAE=0.191, MSE=0.0866]\n"
          ]
        },
        {
          "metadata": {
            "tags": null
          },
          "name": "stdout",
          "output_type": "stream",
          "text": [
            "\n",
            "Epoch 19/200 Summary:\n",
            "  LR: 0.000050\n",
            "  Train MSE: 0.064761, RMSE: 0.254482, MAE: 0.179754\n",
            "  Val   MSE: 0.054284, RMSE: 0.232988, MAE: 0.144848\n",
            "--------------------------------------------------\n"
          ]
        },
        {
          "metadata": {
            "tags": null
          },
          "name": "stderr",
          "output_type": "stream",
          "text": [
            "Epoch 20/200 [Training]: 100%|██████████| 819/819 [00:58<00:00, 13.92batch/s, MAE=0.188, MSE=0.0719]\n",
            "Epoch 20/200 [Validation]: 100%|██████████| 102/102 [00:01<00:00, 56.07batch/s, MAE=0.213, MSE=0.103]\n"
          ]
        },
        {
          "metadata": {
            "tags": null
          },
          "name": "stdout",
          "output_type": "stream",
          "text": [
            "\n",
            "Epoch 20/200 Summary:\n",
            "  LR: 0.000050\n",
            "  Train MSE: 0.066417, RMSE: 0.257714, MAE: 0.180401\n",
            "  Val   MSE: 0.057728, RMSE: 0.240267, MAE: 0.149731\n",
            "--------------------------------------------------\n"
          ]
        },
        {
          "metadata": {
            "tags": null
          },
          "name": "stderr",
          "output_type": "stream",
          "text": [
            "Epoch 21/200 [Training]: 100%|██████████| 819/819 [00:58<00:00, 14.00batch/s, MAE=0.171, MSE=0.0632]\n",
            "Epoch 21/200 [Validation]: 100%|██████████| 102/102 [00:01<00:00, 57.80batch/s, MAE=0.181, MSE=0.0806]\n"
          ]
        },
        {
          "metadata": {
            "tags": null
          },
          "name": "stdout",
          "output_type": "stream",
          "text": [
            "\n",
            "Epoch 21/200 Summary:\n",
            "  LR: 0.000025\n",
            "  Train MSE: 0.062561, RMSE: 0.250123, MAE: 0.176486\n",
            "  Val   MSE: 0.051569, RMSE: 0.227087, MAE: 0.139415\n",
            "  >>> New best validation MSE: 0.051569. Model saved. <<<\n",
            "--------------------------------------------------\n"
          ]
        },
        {
          "metadata": {
            "tags": null
          },
          "name": "stderr",
          "output_type": "stream",
          "text": [
            "Epoch 22/200 [Training]: 100%|██████████| 819/819 [00:57<00:00, 14.25batch/s, MAE=0.175, MSE=0.0634]\n",
            "Epoch 22/200 [Validation]: 100%|██████████| 102/102 [00:01<00:00, 58.07batch/s, MAE=0.182, MSE=0.0803]\n"
          ]
        },
        {
          "metadata": {
            "tags": null
          },
          "name": "stdout",
          "output_type": "stream",
          "text": [
            "\n",
            "Epoch 22/200 Summary:\n",
            "  LR: 0.000025\n",
            "  Train MSE: 0.063282, RMSE: 0.251560, MAE: 0.177013\n",
            "  Val   MSE: 0.051650, RMSE: 0.227266, MAE: 0.142328\n",
            "--------------------------------------------------\n"
          ]
        },
        {
          "metadata": {
            "tags": null
          },
          "name": "stderr",
          "output_type": "stream",
          "text": [
            "Epoch 23/200 [Training]: 100%|██████████| 819/819 [00:58<00:00, 14.09batch/s, MAE=0.157, MSE=0.0518]\n",
            "Epoch 23/200 [Validation]: 100%|██████████| 102/102 [00:01<00:00, 56.93batch/s, MAE=0.198, MSE=0.0919]\n"
          ]
        },
        {
          "metadata": {
            "tags": null
          },
          "name": "stdout",
          "output_type": "stream",
          "text": [
            "\n",
            "Epoch 23/200 Summary:\n",
            "  LR: 0.000025\n",
            "  Train MSE: 0.062619, RMSE: 0.250239, MAE: 0.176107\n",
            "  Val   MSE: 0.054139, RMSE: 0.232678, MAE: 0.145024\n",
            "--------------------------------------------------\n"
          ]
        },
        {
          "metadata": {
            "tags": null
          },
          "name": "stderr",
          "output_type": "stream",
          "text": [
            "Epoch 24/200 [Training]: 100%|██████████| 819/819 [00:57<00:00, 14.27batch/s, MAE=0.185, MSE=0.0733]\n",
            "Epoch 24/200 [Validation]: 100%|██████████| 102/102 [00:01<00:00, 57.53batch/s, MAE=0.187, MSE=0.0841]\n"
          ]
        },
        {
          "metadata": {
            "tags": null
          },
          "name": "stdout",
          "output_type": "stream",
          "text": [
            "\n",
            "Epoch 24/200 Summary:\n",
            "  LR: 0.000025\n",
            "  Train MSE: 0.062256, RMSE: 0.249512, MAE: 0.175631\n",
            "  Val   MSE: 0.052874, RMSE: 0.229944, MAE: 0.143112\n",
            "--------------------------------------------------\n"
          ]
        },
        {
          "metadata": {
            "tags": null
          },
          "name": "stderr",
          "output_type": "stream",
          "text": [
            "Epoch 25/200 [Training]: 100%|██████████| 819/819 [00:57<00:00, 14.14batch/s, MAE=0.162, MSE=0.0499]\n",
            "Epoch 25/200 [Validation]: 100%|██████████| 102/102 [00:01<00:00, 57.55batch/s, MAE=0.181, MSE=0.0796]\n"
          ]
        },
        {
          "metadata": {
            "tags": null
          },
          "name": "stdout",
          "output_type": "stream",
          "text": [
            "\n",
            "Epoch 25/200 Summary:\n",
            "  LR: 0.000025\n",
            "  Train MSE: 0.062031, RMSE: 0.249060, MAE: 0.175157\n",
            "  Val   MSE: 0.053834, RMSE: 0.232022, MAE: 0.144956\n",
            "--------------------------------------------------\n"
          ]
        },
        {
          "metadata": {
            "tags": null
          },
          "name": "stderr",
          "output_type": "stream",
          "text": [
            "Epoch 26/200 [Training]: 100%|██████████| 819/819 [00:57<00:00, 14.27batch/s, MAE=0.164, MSE=0.0535]\n",
            "Epoch 26/200 [Validation]: 100%|██████████| 102/102 [00:01<00:00, 56.53batch/s, MAE=0.175, MSE=0.0761]\n"
          ]
        },
        {
          "metadata": {
            "tags": null
          },
          "name": "stdout",
          "output_type": "stream",
          "text": [
            "\n",
            "Epoch 26/200 Summary:\n",
            "  LR: 0.000013\n",
            "  Train MSE: 0.061154, RMSE: 0.247293, MAE: 0.173852\n",
            "  Val   MSE: 0.051678, RMSE: 0.227328, MAE: 0.139750\n",
            "--------------------------------------------------\n"
          ]
        },
        {
          "metadata": {
            "tags": null
          },
          "name": "stderr",
          "output_type": "stream",
          "text": [
            "Epoch 27/200 [Training]: 100%|██████████| 819/819 [00:57<00:00, 14.20batch/s, MAE=0.198, MSE=0.0841]\n",
            "Epoch 27/200 [Validation]: 100%|██████████| 102/102 [00:01<00:00, 52.20batch/s, MAE=0.183, MSE=0.0826]\n"
          ]
        },
        {
          "metadata": {
            "tags": null
          },
          "name": "stdout",
          "output_type": "stream",
          "text": [
            "\n",
            "Epoch 27/200 Summary:\n",
            "  LR: 0.000013\n",
            "  Train MSE: 0.061158, RMSE: 0.247302, MAE: 0.173577\n",
            "  Val   MSE: 0.052333, RMSE: 0.228763, MAE: 0.140129\n",
            "--------------------------------------------------\n"
          ]
        },
        {
          "metadata": {
            "tags": null
          },
          "name": "stderr",
          "output_type": "stream",
          "text": [
            "Epoch 28/200 [Training]: 100%|██████████| 819/819 [00:57<00:00, 14.35batch/s, MAE=0.161, MSE=0.0526]\n",
            "Epoch 28/200 [Validation]: 100%|██████████| 102/102 [00:02<00:00, 45.99batch/s, MAE=0.184, MSE=0.0816]\n"
          ]
        },
        {
          "metadata": {
            "tags": null
          },
          "name": "stdout",
          "output_type": "stream",
          "text": [
            "\n",
            "Epoch 28/200 Summary:\n",
            "  LR: 0.000013\n",
            "  Train MSE: 0.061032, RMSE: 0.247047, MAE: 0.173632\n",
            "  Val   MSE: 0.051077, RMSE: 0.226002, MAE: 0.143673\n",
            "  >>> New best validation MSE: 0.051077. Model saved. <<<\n",
            "--------------------------------------------------\n"
          ]
        },
        {
          "metadata": {
            "tags": null
          },
          "name": "stderr",
          "output_type": "stream",
          "text": [
            "Epoch 29/200 [Training]: 100%|██████████| 819/819 [00:57<00:00, 14.35batch/s, MAE=0.187, MSE=0.0706]\n",
            "Epoch 29/200 [Validation]: 100%|██████████| 102/102 [00:02<00:00, 42.28batch/s, MAE=0.184, MSE=0.084]\n"
          ]
        },
        {
          "metadata": {
            "tags": null
          },
          "name": "stdout",
          "output_type": "stream",
          "text": [
            "\n",
            "Epoch 29/200 Summary:\n",
            "  LR: 0.000013\n",
            "  Train MSE: 0.060633, RMSE: 0.246238, MAE: 0.172820\n",
            "  Val   MSE: 0.051100, RMSE: 0.226053, MAE: 0.139608\n",
            "--------------------------------------------------\n"
          ]
        },
        {
          "metadata": {
            "tags": null
          },
          "name": "stderr",
          "output_type": "stream",
          "text": [
            "Epoch 30/200 [Training]: 100%|██████████| 819/819 [00:57<00:00, 14.17batch/s, MAE=0.168, MSE=0.0606]\n",
            "Epoch 30/200 [Validation]: 100%|██████████| 102/102 [00:02<00:00, 41.78batch/s, MAE=0.179, MSE=0.0808]\n"
          ]
        },
        {
          "metadata": {
            "tags": null
          },
          "name": "stdout",
          "output_type": "stream",
          "text": [
            "\n",
            "Epoch 30/200 Summary:\n",
            "  LR: 0.000013\n",
            "  Train MSE: 0.060914, RMSE: 0.246808, MAE: 0.173101\n",
            "  Val   MSE: 0.051346, RMSE: 0.226596, MAE: 0.137629\n",
            "--------------------------------------------------\n"
          ]
        },
        {
          "metadata": {
            "tags": null
          },
          "name": "stderr",
          "output_type": "stream",
          "text": [
            "Epoch 31/200 [Training]: 100%|██████████| 819/819 [00:57<00:00, 14.16batch/s, MAE=0.188, MSE=0.073]\n",
            "Epoch 31/200 [Validation]: 100%|██████████| 102/102 [00:02<00:00, 42.51batch/s, MAE=0.201, MSE=0.0966]\n"
          ]
        },
        {
          "metadata": {
            "tags": null
          },
          "name": "stdout",
          "output_type": "stream",
          "text": [
            "\n",
            "Epoch 31/200 Summary:\n",
            "  LR: 0.000013\n",
            "  Train MSE: 0.060550, RMSE: 0.246069, MAE: 0.172713\n",
            "  Val   MSE: 0.055878, RMSE: 0.236386, MAE: 0.144696\n",
            "--------------------------------------------------\n"
          ]
        },
        {
          "metadata": {
            "tags": null
          },
          "name": "stderr",
          "output_type": "stream",
          "text": [
            "Epoch 32/200 [Training]: 100%|██████████| 819/819 [00:57<00:00, 14.14batch/s, MAE=0.191, MSE=0.0767]\n",
            "Epoch 32/200 [Validation]: 100%|██████████| 102/102 [00:02<00:00, 41.03batch/s, MAE=0.176, MSE=0.0765]\n"
          ]
        },
        {
          "metadata": {
            "tags": null
          },
          "name": "stdout",
          "output_type": "stream",
          "text": [
            "\n",
            "Epoch 32/200 Summary:\n",
            "  LR: 0.000013\n",
            "  Train MSE: 0.060693, RMSE: 0.246359, MAE: 0.172699\n",
            "  Val   MSE: 0.055771, RMSE: 0.236159, MAE: 0.145912\n",
            "--------------------------------------------------\n"
          ]
        },
        {
          "metadata": {
            "tags": null
          },
          "name": "stderr",
          "output_type": "stream",
          "text": [
            "Epoch 33/200 [Training]: 100%|██████████| 819/819 [00:58<00:00, 14.12batch/s, MAE=0.185, MSE=0.0667]\n",
            "Epoch 33/200 [Validation]: 100%|██████████| 102/102 [00:02<00:00, 42.92batch/s, MAE=0.169, MSE=0.074]\n"
          ]
        },
        {
          "metadata": {
            "tags": null
          },
          "name": "stdout",
          "output_type": "stream",
          "text": [
            "\n",
            "Epoch 33/200 Summary:\n",
            "  LR: 0.000006\n",
            "  Train MSE: 0.059885, RMSE: 0.244714, MAE: 0.171840\n",
            "  Val   MSE: 0.054069, RMSE: 0.232527, MAE: 0.141799\n",
            "--------------------------------------------------\n"
          ]
        },
        {
          "metadata": {
            "tags": null
          },
          "name": "stderr",
          "output_type": "stream",
          "text": [
            "Epoch 34/200 [Training]: 100%|██████████| 819/819 [00:58<00:00, 13.95batch/s, MAE=0.194, MSE=0.0791]\n",
            "Epoch 34/200 [Validation]: 100%|██████████| 102/102 [00:02<00:00, 46.11batch/s, MAE=0.179, MSE=0.0809]\n"
          ]
        },
        {
          "metadata": {
            "tags": null
          },
          "name": "stdout",
          "output_type": "stream",
          "text": [
            "\n",
            "Epoch 34/200 Summary:\n",
            "  LR: 0.000006\n",
            "  Train MSE: 0.059661, RMSE: 0.244255, MAE: 0.171434\n",
            "  Val   MSE: 0.050647, RMSE: 0.225049, MAE: 0.136586\n",
            "  >>> New best validation MSE: 0.050647. Model saved. <<<\n",
            "--------------------------------------------------\n"
          ]
        },
        {
          "metadata": {
            "tags": null
          },
          "name": "stderr",
          "output_type": "stream",
          "text": [
            "Epoch 35/200 [Training]: 100%|██████████| 819/819 [00:58<00:00, 13.96batch/s, MAE=0.166, MSE=0.0534]\n",
            "Epoch 35/200 [Validation]: 100%|██████████| 102/102 [00:02<00:00, 48.51batch/s, MAE=0.177, MSE=0.0797]\n"
          ]
        },
        {
          "metadata": {
            "tags": null
          },
          "name": "stdout",
          "output_type": "stream",
          "text": [
            "\n",
            "Epoch 35/200 Summary:\n",
            "  LR: 0.000006\n",
            "  Train MSE: 0.059789, RMSE: 0.244519, MAE: 0.171344\n",
            "  Val   MSE: 0.050351, RMSE: 0.224389, MAE: 0.136549\n",
            "  >>> New best validation MSE: 0.050351. Model saved. <<<\n",
            "--------------------------------------------------\n"
          ]
        },
        {
          "metadata": {
            "tags": null
          },
          "name": "stderr",
          "output_type": "stream",
          "text": [
            "Epoch 36/200 [Training]: 100%|██████████| 819/819 [00:59<00:00, 13.79batch/s, MAE=0.168, MSE=0.0588]\n",
            "Epoch 36/200 [Validation]: 100%|██████████| 102/102 [00:01<00:00, 55.83batch/s, MAE=0.175, MSE=0.0779]\n"
          ]
        },
        {
          "metadata": {
            "tags": null
          },
          "name": "stdout",
          "output_type": "stream",
          "text": [
            "\n",
            "Epoch 36/200 Summary:\n",
            "  LR: 0.000006\n",
            "  Train MSE: 0.059535, RMSE: 0.243998, MAE: 0.171075\n",
            "  Val   MSE: 0.054862, RMSE: 0.234227, MAE: 0.142086\n",
            "--------------------------------------------------\n"
          ]
        },
        {
          "metadata": {
            "tags": null
          },
          "name": "stderr",
          "output_type": "stream",
          "text": [
            "Epoch 37/200 [Training]: 100%|██████████| 819/819 [00:59<00:00, 13.79batch/s, MAE=0.164, MSE=0.0467]\n",
            "Epoch 37/200 [Validation]: 100%|██████████| 102/102 [00:01<00:00, 55.87batch/s, MAE=0.176, MSE=0.0784]\n"
          ]
        },
        {
          "metadata": {
            "tags": null
          },
          "name": "stdout",
          "output_type": "stream",
          "text": [
            "\n",
            "Epoch 37/200 Summary:\n",
            "  LR: 0.000006\n",
            "  Train MSE: 0.059856, RMSE: 0.244655, MAE: 0.171568\n",
            "  Val   MSE: 0.050534, RMSE: 0.224799, MAE: 0.135573\n",
            "--------------------------------------------------\n"
          ]
        },
        {
          "metadata": {
            "tags": null
          },
          "name": "stderr",
          "output_type": "stream",
          "text": [
            "Epoch 38/200 [Training]: 100%|██████████| 819/819 [00:58<00:00, 13.95batch/s, MAE=0.164, MSE=0.052]\n",
            "Epoch 38/200 [Validation]: 100%|██████████| 102/102 [00:01<00:00, 57.06batch/s, MAE=0.178, MSE=0.0798]\n"
          ]
        },
        {
          "metadata": {
            "tags": null
          },
          "name": "stdout",
          "output_type": "stream",
          "text": [
            "\n",
            "Epoch 38/200 Summary:\n",
            "  LR: 0.000006\n",
            "  Train MSE: 0.059794, RMSE: 0.244528, MAE: 0.171474\n",
            "  Val   MSE: 0.052052, RMSE: 0.228149, MAE: 0.139401\n",
            "--------------------------------------------------\n"
          ]
        },
        {
          "metadata": {
            "tags": null
          },
          "name": "stderr",
          "output_type": "stream",
          "text": [
            "Epoch 39/200 [Training]: 100%|██████████| 819/819 [00:58<00:00, 14.10batch/s, MAE=0.164, MSE=0.0605]\n",
            "Epoch 39/200 [Validation]: 100%|██████████| 102/102 [00:01<00:00, 55.17batch/s, MAE=0.172, MSE=0.0748]\n"
          ]
        },
        {
          "metadata": {
            "tags": null
          },
          "name": "stdout",
          "output_type": "stream",
          "text": [
            "\n",
            "Epoch 39/200 Summary:\n",
            "  LR: 0.000006\n",
            "  Train MSE: 0.059589, RMSE: 0.244109, MAE: 0.170836\n",
            "  Val   MSE: 0.051220, RMSE: 0.226319, MAE: 0.138051\n",
            "--------------------------------------------------\n"
          ]
        },
        {
          "metadata": {
            "tags": null
          },
          "name": "stderr",
          "output_type": "stream",
          "text": [
            "Epoch 40/200 [Training]: 100%|██████████| 819/819 [00:58<00:00, 13.93batch/s, MAE=0.187, MSE=0.0699]\n",
            "Epoch 40/200 [Validation]: 100%|██████████| 102/102 [00:01<00:00, 55.93batch/s, MAE=0.174, MSE=0.0776]\n"
          ]
        },
        {
          "metadata": {
            "tags": null
          },
          "name": "stdout",
          "output_type": "stream",
          "text": [
            "\n",
            "Epoch 40/200 Summary:\n",
            "  LR: 0.000003\n",
            "  Train MSE: 0.059354, RMSE: 0.243627, MAE: 0.170943\n",
            "  Val   MSE: 0.051435, RMSE: 0.226793, MAE: 0.137617\n",
            "--------------------------------------------------\n"
          ]
        },
        {
          "metadata": {
            "tags": null
          },
          "name": "stderr",
          "output_type": "stream",
          "text": [
            "Epoch 41/200 [Training]: 100%|██████████| 819/819 [00:58<00:00, 13.93batch/s, MAE=0.192, MSE=0.0779]\n",
            "Epoch 41/200 [Validation]: 100%|██████████| 102/102 [00:01<00:00, 57.14batch/s, MAE=0.176, MSE=0.0794]\n"
          ]
        },
        {
          "metadata": {
            "tags": null
          },
          "name": "stdout",
          "output_type": "stream",
          "text": [
            "\n",
            "Epoch 41/200 Summary:\n",
            "  LR: 0.000003\n",
            "  Train MSE: 0.059253, RMSE: 0.243418, MAE: 0.170961\n",
            "  Val   MSE: 0.050146, RMSE: 0.223934, MAE: 0.135392\n",
            "  >>> New best validation MSE: 0.050146. Model saved. <<<\n",
            "--------------------------------------------------\n"
          ]
        },
        {
          "metadata": {
            "tags": null
          },
          "name": "stderr",
          "output_type": "stream",
          "text": [
            "Epoch 42/200 [Training]: 100%|██████████| 819/819 [00:58<00:00, 13.98batch/s, MAE=0.163, MSE=0.0556]\n",
            "Epoch 42/200 [Validation]: 100%|██████████| 102/102 [00:01<00:00, 56.08batch/s, MAE=0.174, MSE=0.0778]\n"
          ]
        },
        {
          "metadata": {
            "tags": null
          },
          "name": "stdout",
          "output_type": "stream",
          "text": [
            "\n",
            "Epoch 42/200 Summary:\n",
            "  LR: 0.000003\n",
            "  Train MSE: 0.058939, RMSE: 0.242773, MAE: 0.170318\n",
            "  Val   MSE: 0.050076, RMSE: 0.223776, MAE: 0.136737\n",
            "  >>> New best validation MSE: 0.050076. Model saved. <<<\n",
            "--------------------------------------------------\n"
          ]
        },
        {
          "metadata": {
            "tags": null
          },
          "name": "stderr",
          "output_type": "stream",
          "text": [
            "Epoch 43/200 [Training]: 100%|██████████| 819/819 [00:58<00:00, 13.91batch/s, MAE=0.151, MSE=0.0461]\n",
            "Epoch 43/200 [Validation]: 100%|██████████| 102/102 [00:01<00:00, 55.35batch/s, MAE=0.181, MSE=0.0827]\n"
          ]
        },
        {
          "metadata": {
            "tags": null
          },
          "name": "stdout",
          "output_type": "stream",
          "text": [
            "\n",
            "Epoch 43/200 Summary:\n",
            "  LR: 0.000003\n",
            "  Train MSE: 0.059241, RMSE: 0.243395, MAE: 0.170675\n",
            "  Val   MSE: 0.050938, RMSE: 0.225695, MAE: 0.137102\n",
            "--------------------------------------------------\n"
          ]
        },
        {
          "metadata": {
            "tags": null
          },
          "name": "stderr",
          "output_type": "stream",
          "text": [
            "Epoch 44/200 [Training]: 100%|██████████| 819/819 [00:58<00:00, 13.99batch/s, MAE=0.167, MSE=0.0555]\n",
            "Epoch 44/200 [Validation]: 100%|██████████| 102/102 [00:01<00:00, 55.93batch/s, MAE=0.178, MSE=0.0808]\n"
          ]
        },
        {
          "metadata": {
            "tags": null
          },
          "name": "stdout",
          "output_type": "stream",
          "text": [
            "\n",
            "Epoch 44/200 Summary:\n",
            "  LR: 0.000003\n",
            "  Train MSE: 0.058876, RMSE: 0.242645, MAE: 0.170108\n",
            "  Val   MSE: 0.050329, RMSE: 0.224341, MAE: 0.137212\n",
            "--------------------------------------------------\n"
          ]
        },
        {
          "metadata": {
            "tags": null
          },
          "name": "stderr",
          "output_type": "stream",
          "text": [
            "Epoch 45/200 [Training]: 100%|██████████| 819/819 [00:58<00:00, 13.88batch/s, MAE=0.171, MSE=0.0574]\n",
            "Epoch 45/200 [Validation]: 100%|██████████| 102/102 [00:01<00:00, 56.20batch/s, MAE=0.171, MSE=0.0752]\n"
          ]
        },
        {
          "metadata": {
            "tags": null
          },
          "name": "stdout",
          "output_type": "stream",
          "text": [
            "\n",
            "Epoch 45/200 Summary:\n",
            "  LR: 0.000003\n",
            "  Train MSE: 0.058954, RMSE: 0.242805, MAE: 0.170250\n",
            "  Val   MSE: 0.049601, RMSE: 0.222713, MAE: 0.136134\n",
            "  >>> New best validation MSE: 0.049601. Model saved. <<<\n",
            "--------------------------------------------------\n"
          ]
        },
        {
          "metadata": {
            "tags": null
          },
          "name": "stderr",
          "output_type": "stream",
          "text": [
            "Epoch 46/200 [Training]: 100%|██████████| 819/819 [00:58<00:00, 14.07batch/s, MAE=0.193, MSE=0.0749]\n",
            "Epoch 46/200 [Validation]: 100%|██████████| 102/102 [00:01<00:00, 57.38batch/s, MAE=0.174, MSE=0.0779]\n"
          ]
        },
        {
          "metadata": {
            "tags": null
          },
          "name": "stdout",
          "output_type": "stream",
          "text": [
            "\n",
            "Epoch 46/200 Summary:\n",
            "  LR: 0.000003\n",
            "  Train MSE: 0.059073, RMSE: 0.243049, MAE: 0.170444\n",
            "  Val   MSE: 0.050412, RMSE: 0.224527, MAE: 0.137398\n",
            "--------------------------------------------------\n"
          ]
        },
        {
          "metadata": {
            "tags": null
          },
          "name": "stderr",
          "output_type": "stream",
          "text": [
            "Epoch 47/200 [Training]: 100%|██████████| 819/819 [00:58<00:00, 14.02batch/s, MAE=0.181, MSE=0.0679]\n",
            "Epoch 47/200 [Validation]: 100%|██████████| 102/102 [00:01<00:00, 57.02batch/s, MAE=0.176, MSE=0.0797]\n"
          ]
        },
        {
          "metadata": {
            "tags": null
          },
          "name": "stdout",
          "output_type": "stream",
          "text": [
            "\n",
            "Epoch 47/200 Summary:\n",
            "  LR: 0.000003\n",
            "  Train MSE: 0.058881, RMSE: 0.242654, MAE: 0.170056\n",
            "  Val   MSE: 0.050531, RMSE: 0.224792, MAE: 0.135136\n",
            "--------------------------------------------------\n"
          ]
        },
        {
          "metadata": {
            "tags": null
          },
          "name": "stderr",
          "output_type": "stream",
          "text": [
            "Epoch 48/200 [Training]: 100%|██████████| 819/819 [00:59<00:00, 13.86batch/s, MAE=0.149, MSE=0.0477]\n",
            "Epoch 48/200 [Validation]: 100%|██████████| 102/102 [00:01<00:00, 55.31batch/s, MAE=0.179, MSE=0.0807]\n"
          ]
        },
        {
          "metadata": {
            "tags": null
          },
          "name": "stdout",
          "output_type": "stream",
          "text": [
            "\n",
            "Epoch 48/200 Summary:\n",
            "  LR: 0.000003\n",
            "  Train MSE: 0.059170, RMSE: 0.243248, MAE: 0.170728\n",
            "  Val   MSE: 0.054206, RMSE: 0.232822, MAE: 0.141552\n",
            "--------------------------------------------------\n"
          ]
        },
        {
          "metadata": {
            "tags": null
          },
          "name": "stderr",
          "output_type": "stream",
          "text": [
            "Epoch 49/200 [Training]: 100%|██████████| 819/819 [00:58<00:00, 13.93batch/s, MAE=0.163, MSE=0.053]\n",
            "Epoch 49/200 [Validation]: 100%|██████████| 102/102 [00:01<00:00, 55.53batch/s, MAE=0.175, MSE=0.0782]\n"
          ]
        },
        {
          "metadata": {
            "tags": null
          },
          "name": "stdout",
          "output_type": "stream",
          "text": [
            "\n",
            "Epoch 49/200 Summary:\n",
            "  LR: 0.000003\n",
            "  Train MSE: 0.059000, RMSE: 0.242900, MAE: 0.170321\n",
            "  Val   MSE: 0.049927, RMSE: 0.223444, MAE: 0.135851\n",
            "--------------------------------------------------\n"
          ]
        },
        {
          "metadata": {
            "tags": null
          },
          "name": "stderr",
          "output_type": "stream",
          "text": [
            "Epoch 50/200 [Training]: 100%|██████████| 819/819 [00:59<00:00, 13.85batch/s, MAE=0.163, MSE=0.0561]\n",
            "Epoch 50/200 [Validation]: 100%|██████████| 102/102 [00:01<00:00, 55.68batch/s, MAE=0.173, MSE=0.0767]\n"
          ]
        },
        {
          "metadata": {
            "tags": null
          },
          "name": "stdout",
          "output_type": "stream",
          "text": [
            "\n",
            "Epoch 50/200 Summary:\n",
            "  LR: 0.000002\n",
            "  Train MSE: 0.058845, RMSE: 0.242581, MAE: 0.170295\n",
            "  Val   MSE: 0.049873, RMSE: 0.223322, MAE: 0.135717\n",
            "--------------------------------------------------\n"
          ]
        },
        {
          "metadata": {
            "tags": null
          },
          "name": "stderr",
          "output_type": "stream",
          "text": [
            "Epoch 51/200 [Training]: 100%|██████████| 819/819 [00:59<00:00, 13.73batch/s, MAE=0.162, MSE=0.0496]\n",
            "Epoch 51/200 [Validation]: 100%|██████████| 102/102 [00:01<00:00, 55.87batch/s, MAE=0.175, MSE=0.0777]\n"
          ]
        },
        {
          "metadata": {
            "tags": null
          },
          "name": "stdout",
          "output_type": "stream",
          "text": [
            "\n",
            "Epoch 51/200 Summary:\n",
            "  LR: 0.000002\n",
            "  Train MSE: 0.058830, RMSE: 0.242548, MAE: 0.170086\n",
            "  Val   MSE: 0.050367, RMSE: 0.224427, MAE: 0.137373\n",
            "--------------------------------------------------\n"
          ]
        },
        {
          "metadata": {
            "tags": null
          },
          "name": "stderr",
          "output_type": "stream",
          "text": [
            "Epoch 52/200 [Training]: 100%|██████████| 819/819 [00:59<00:00, 13.80batch/s, MAE=0.177, MSE=0.0597]\n",
            "Epoch 52/200 [Validation]: 100%|██████████| 102/102 [00:01<00:00, 55.08batch/s, MAE=0.175, MSE=0.0783]\n"
          ]
        },
        {
          "metadata": {
            "tags": null
          },
          "name": "stdout",
          "output_type": "stream",
          "text": [
            "\n",
            "Epoch 52/200 Summary:\n",
            "  LR: 0.000002\n",
            "  Train MSE: 0.058374, RMSE: 0.241608, MAE: 0.169511\n",
            "  Val   MSE: 0.050419, RMSE: 0.224542, MAE: 0.136331\n",
            "--------------------------------------------------\n"
          ]
        },
        {
          "metadata": {
            "tags": null
          },
          "name": "stderr",
          "output_type": "stream",
          "text": [
            "Epoch 53/200 [Training]: 100%|██████████| 819/819 [00:59<00:00, 13.76batch/s, MAE=0.172, MSE=0.0649]\n",
            "Epoch 53/200 [Validation]: 100%|██████████| 102/102 [00:01<00:00, 55.27batch/s, MAE=0.176, MSE=0.0793]\n"
          ]
        },
        {
          "metadata": {
            "tags": null
          },
          "name": "stdout",
          "output_type": "stream",
          "text": [
            "\n",
            "Epoch 53/200 Summary:\n",
            "  LR: 0.000002\n",
            "  Train MSE: 0.058554, RMSE: 0.241979, MAE: 0.169795\n",
            "  Val   MSE: 0.050190, RMSE: 0.224030, MAE: 0.135265\n",
            "--------------------------------------------------\n"
          ]
        },
        {
          "metadata": {
            "tags": null
          },
          "name": "stderr",
          "output_type": "stream",
          "text": [
            "Epoch 54/200 [Training]: 100%|██████████| 819/819 [00:59<00:00, 13.83batch/s, MAE=0.177, MSE=0.0581]\n",
            "Epoch 54/200 [Validation]: 100%|██████████| 102/102 [00:01<00:00, 56.28batch/s, MAE=0.174, MSE=0.0777]\n"
          ]
        },
        {
          "metadata": {
            "tags": null
          },
          "name": "stdout",
          "output_type": "stream",
          "text": [
            "\n",
            "Epoch 54/200 Summary:\n",
            "  LR: 0.000001\n",
            "  Train MSE: 0.058525, RMSE: 0.241918, MAE: 0.169792\n",
            "  Val   MSE: 0.050464, RMSE: 0.224641, MAE: 0.136970\n",
            "--------------------------------------------------\n"
          ]
        },
        {
          "metadata": {
            "tags": null
          },
          "name": "stderr",
          "output_type": "stream",
          "text": [
            "Epoch 55/200 [Training]: 100%|██████████| 819/819 [00:59<00:00, 13.66batch/s, MAE=0.167, MSE=0.0548]\n",
            "Epoch 55/200 [Validation]: 100%|██████████| 102/102 [00:01<00:00, 55.21batch/s, MAE=0.172, MSE=0.0767]\n"
          ]
        },
        {
          "metadata": {
            "tags": null
          },
          "name": "stdout",
          "output_type": "stream",
          "text": [
            "\n",
            "Epoch 55/200 Summary:\n",
            "  LR: 0.000001\n",
            "  Train MSE: 0.058470, RMSE: 0.241807, MAE: 0.169604\n",
            "  Val   MSE: 0.050549, RMSE: 0.224832, MAE: 0.136436\n",
            "--------------------------------------------------\n"
          ]
        },
        {
          "metadata": {
            "tags": null
          },
          "name": "stderr",
          "output_type": "stream",
          "text": [
            "Epoch 56/200 [Training]: 100%|██████████| 819/819 [00:59<00:00, 13.86batch/s, MAE=0.169, MSE=0.06]\n",
            "Epoch 56/200 [Validation]: 100%|██████████| 102/102 [00:01<00:00, 54.81batch/s, MAE=0.172, MSE=0.0768]\n"
          ]
        },
        {
          "metadata": {
            "tags": null
          },
          "name": "stdout",
          "output_type": "stream",
          "text": [
            "\n",
            "Epoch 56/200 Summary:\n",
            "  LR: 0.000001\n",
            "  Train MSE: 0.058321, RMSE: 0.241498, MAE: 0.169376\n",
            "  Val   MSE: 0.050042, RMSE: 0.223701, MAE: 0.135715\n",
            "--------------------------------------------------\n"
          ]
        },
        {
          "metadata": {
            "tags": null
          },
          "name": "stderr",
          "output_type": "stream",
          "text": [
            "Epoch 57/200 [Training]: 100%|██████████| 819/819 [00:57<00:00, 14.14batch/s, MAE=0.172, MSE=0.0636]\n",
            "Epoch 57/200 [Validation]: 100%|██████████| 102/102 [00:01<00:00, 56.31batch/s, MAE=0.175, MSE=0.0791]\n"
          ]
        },
        {
          "metadata": {
            "tags": null
          },
          "name": "stdout",
          "output_type": "stream",
          "text": [
            "\n",
            "Epoch 57/200 Summary:\n",
            "  LR: 0.000001\n",
            "  Train MSE: 0.058259, RMSE: 0.241369, MAE: 0.169153\n",
            "  Val   MSE: 0.049894, RMSE: 0.223369, MAE: 0.135634\n",
            "--------------------------------------------------\n"
          ]
        },
        {
          "metadata": {
            "tags": null
          },
          "name": "stderr",
          "output_type": "stream",
          "text": [
            "Epoch 58/200 [Training]: 100%|██████████| 819/819 [00:57<00:00, 14.18batch/s, MAE=0.168, MSE=0.0585]\n",
            "Epoch 58/200 [Validation]: 100%|██████████| 102/102 [00:01<00:00, 55.63batch/s, MAE=0.174, MSE=0.0783]\n"
          ]
        },
        {
          "metadata": {
            "tags": null
          },
          "name": "stdout",
          "output_type": "stream",
          "text": [
            "\n",
            "Epoch 58/200 Summary:\n",
            "  LR: 0.000000\n",
            "  Train MSE: 0.058513, RMSE: 0.241895, MAE: 0.169711\n",
            "  Val   MSE: 0.050076, RMSE: 0.223778, MAE: 0.136080\n",
            "--------------------------------------------------\n"
          ]
        },
        {
          "metadata": {
            "tags": null
          },
          "name": "stderr",
          "output_type": "stream",
          "text": [
            "Epoch 59/200 [Training]: 100%|██████████| 819/819 [00:57<00:00, 14.21batch/s, MAE=0.162, MSE=0.0544]\n",
            "Epoch 59/200 [Validation]: 100%|██████████| 102/102 [00:01<00:00, 55.74batch/s, MAE=0.174, MSE=0.0779]\n"
          ]
        },
        {
          "metadata": {
            "tags": null
          },
          "name": "stdout",
          "output_type": "stream",
          "text": [
            "\n",
            "Epoch 59/200 Summary:\n",
            "  LR: 0.000000\n",
            "  Train MSE: 0.058296, RMSE: 0.241446, MAE: 0.169145\n",
            "  Val   MSE: 0.049978, RMSE: 0.223557, MAE: 0.135616\n",
            "--------------------------------------------------\n"
          ]
        },
        {
          "metadata": {
            "tags": null
          },
          "name": "stderr",
          "output_type": "stream",
          "text": [
            "Epoch 60/200 [Training]: 100%|██████████| 819/819 [00:57<00:00, 14.18batch/s, MAE=0.171, MSE=0.0595]\n",
            "Epoch 60/200 [Validation]: 100%|██████████| 102/102 [00:01<00:00, 55.97batch/s, MAE=0.175, MSE=0.0788]\n"
          ]
        },
        {
          "metadata": {
            "tags": null
          },
          "name": "stdout",
          "output_type": "stream",
          "text": [
            "\n",
            "Epoch 60/200 Summary:\n",
            "  LR: 0.000000\n",
            "  Train MSE: 0.058381, RMSE: 0.241621, MAE: 0.169345\n",
            "  Val   MSE: 0.050163, RMSE: 0.223972, MAE: 0.136493\n",
            "--------------------------------------------------\n"
          ]
        },
        {
          "metadata": {
            "tags": null
          },
          "name": "stderr",
          "output_type": "stream",
          "text": [
            "Epoch 61/200 [Training]: 100%|██████████| 819/819 [00:58<00:00, 14.00batch/s, MAE=0.167, MSE=0.0584]\n",
            "Epoch 61/200 [Validation]: 100%|██████████| 102/102 [00:01<00:00, 56.09batch/s, MAE=0.174, MSE=0.0781]\n"
          ]
        },
        {
          "metadata": {
            "tags": null
          },
          "name": "stdout",
          "output_type": "stream",
          "text": [
            "\n",
            "Epoch 61/200 Summary:\n",
            "  LR: 0.000000\n",
            "  Train MSE: 0.058424, RMSE: 0.241712, MAE: 0.169739\n",
            "  Val   MSE: 0.049881, RMSE: 0.223341, MAE: 0.135595\n",
            "--------------------------------------------------\n"
          ]
        },
        {
          "metadata": {
            "tags": null
          },
          "name": "stderr",
          "output_type": "stream",
          "text": [
            "Epoch 62/200 [Training]: 100%|██████████| 819/819 [00:58<00:00, 14.03batch/s, MAE=0.131, MSE=0.0342]\n",
            "Epoch 62/200 [Validation]: 100%|██████████| 102/102 [00:01<00:00, 55.76batch/s, MAE=0.175, MSE=0.0785]\n"
          ]
        },
        {
          "metadata": {
            "tags": null
          },
          "name": "stdout",
          "output_type": "stream",
          "text": [
            "\n",
            "Epoch 62/200 Summary:\n",
            "  LR: 0.000000\n",
            "  Train MSE: 0.058205, RMSE: 0.241257, MAE: 0.169192\n",
            "  Val   MSE: 0.049872, RMSE: 0.223321, MAE: 0.135848\n",
            "--------------------------------------------------\n"
          ]
        },
        {
          "metadata": {
            "tags": null
          },
          "name": "stderr",
          "output_type": "stream",
          "text": [
            "Epoch 63/200 [Training]: 100%|██████████| 819/819 [00:58<00:00, 14.03batch/s, MAE=0.178, MSE=0.0668]\n",
            "Epoch 63/200 [Validation]: 100%|██████████| 102/102 [00:01<00:00, 55.85batch/s, MAE=0.173, MSE=0.0777]\n"
          ]
        },
        {
          "metadata": {
            "tags": null
          },
          "name": "stdout",
          "output_type": "stream",
          "text": [
            "\n",
            "Epoch 63/200 Summary:\n",
            "  LR: 0.000000\n",
            "  Train MSE: 0.058170, RMSE: 0.241184, MAE: 0.169188\n",
            "  Val   MSE: 0.049828, RMSE: 0.223221, MAE: 0.135863\n",
            "--------------------------------------------------\n"
          ]
        },
        {
          "metadata": {
            "tags": null
          },
          "name": "stderr",
          "output_type": "stream",
          "text": [
            "Epoch 64/200 [Training]: 100%|██████████| 819/819 [00:59<00:00, 13.75batch/s, MAE=0.155, MSE=0.0562]\n",
            "Epoch 64/200 [Validation]: 100%|██████████| 102/102 [00:01<00:00, 56.02batch/s, MAE=0.173, MSE=0.0775]\n"
          ]
        },
        {
          "metadata": {
            "tags": null
          },
          "name": "stdout",
          "output_type": "stream",
          "text": [
            "\n",
            "Epoch 64/200 Summary:\n",
            "  LR: 0.000000\n",
            "  Train MSE: 0.058228, RMSE: 0.241305, MAE: 0.169446\n",
            "  Val   MSE: 0.049968, RMSE: 0.223534, MAE: 0.136193\n",
            "--------------------------------------------------\n"
          ]
        },
        {
          "metadata": {
            "tags": null
          },
          "name": "stderr",
          "output_type": "stream",
          "text": [
            "Epoch 65/200 [Training]: 100%|██████████| 819/819 [00:58<00:00, 14.06batch/s, MAE=0.159, MSE=0.053]\n",
            "Epoch 65/200 [Validation]: 100%|██████████| 102/102 [00:01<00:00, 55.38batch/s, MAE=0.173, MSE=0.0773]\n"
          ]
        },
        {
          "metadata": {
            "tags": null
          },
          "name": "stdout",
          "output_type": "stream",
          "text": [
            "\n",
            "Epoch 65/200 Summary:\n",
            "  LR: 0.000000\n",
            "  Train MSE: 0.058340, RMSE: 0.241537, MAE: 0.169450\n",
            "  Val   MSE: 0.050151, RMSE: 0.223944, MAE: 0.136061\n",
            "--------------------------------------------------\n"
          ]
        },
        {
          "metadata": {
            "tags": null
          },
          "name": "stderr",
          "output_type": "stream",
          "text": [
            "Epoch 66/200 [Training]: 100%|██████████| 819/819 [00:58<00:00, 14.08batch/s, MAE=0.181, MSE=0.0699]\n",
            "Epoch 66/200 [Validation]: 100%|██████████| 102/102 [00:01<00:00, 55.23batch/s, MAE=0.173, MSE=0.0777]\n"
          ]
        },
        {
          "metadata": {
            "tags": null
          },
          "name": "stdout",
          "output_type": "stream",
          "text": [
            "\n",
            "Epoch 66/200 Summary:\n",
            "  LR: 0.000000\n",
            "  Train MSE: 0.058534, RMSE: 0.241939, MAE: 0.169859\n",
            "  Val   MSE: 0.049936, RMSE: 0.223463, MAE: 0.135766\n",
            "--------------------------------------------------\n"
          ]
        },
        {
          "metadata": {
            "tags": null
          },
          "name": "stderr",
          "output_type": "stream",
          "text": [
            "Epoch 67/200 [Training]: 100%|██████████| 819/819 [00:57<00:00, 14.12batch/s, MAE=0.171, MSE=0.058]\n",
            "Epoch 67/200 [Validation]: 100%|██████████| 102/102 [00:01<00:00, 55.67batch/s, MAE=0.173, MSE=0.0774]\n"
          ]
        },
        {
          "metadata": {
            "tags": null
          },
          "name": "stdout",
          "output_type": "stream",
          "text": [
            "\n",
            "Epoch 67/200 Summary:\n",
            "  LR: 0.000000\n",
            "  Train MSE: 0.058251, RMSE: 0.241352, MAE: 0.168986\n",
            "  Val   MSE: 0.049951, RMSE: 0.223497, MAE: 0.135632\n",
            "--------------------------------------------------\n"
          ]
        },
        {
          "metadata": {
            "tags": null
          },
          "name": "stderr",
          "output_type": "stream",
          "text": [
            "Epoch 68/200 [Training]: 100%|██████████| 819/819 [00:57<00:00, 14.17batch/s, MAE=0.19, MSE=0.076]\n",
            "Epoch 68/200 [Validation]: 100%|██████████| 102/102 [00:01<00:00, 56.24batch/s, MAE=0.172, MSE=0.0771]\n"
          ]
        },
        {
          "metadata": {
            "tags": null
          },
          "name": "stdout",
          "output_type": "stream",
          "text": [
            "\n",
            "Epoch 68/200 Summary:\n",
            "  LR: 0.000000\n",
            "  Train MSE: 0.058254, RMSE: 0.241358, MAE: 0.169375\n",
            "  Val   MSE: 0.049930, RMSE: 0.223449, MAE: 0.135608\n",
            "--------------------------------------------------\n"
          ]
        },
        {
          "metadata": {
            "tags": null
          },
          "name": "stderr",
          "output_type": "stream",
          "text": [
            "Epoch 69/200 [Training]: 100%|██████████| 819/819 [00:58<00:00, 14.11batch/s, MAE=0.18, MSE=0.0616]\n",
            "Epoch 69/200 [Validation]: 100%|██████████| 102/102 [00:01<00:00, 56.37batch/s, MAE=0.174, MSE=0.0781]\n"
          ]
        },
        {
          "metadata": {
            "tags": null
          },
          "name": "stdout",
          "output_type": "stream",
          "text": [
            "\n",
            "Epoch 69/200 Summary:\n",
            "  LR: 0.000000\n",
            "  Train MSE: 0.058277, RMSE: 0.241406, MAE: 0.169220\n",
            "  Val   MSE: 0.049769, RMSE: 0.223089, MAE: 0.135417\n",
            "--------------------------------------------------\n"
          ]
        },
        {
          "metadata": {
            "tags": null
          },
          "name": "stderr",
          "output_type": "stream",
          "text": [
            "Epoch 70/200 [Training]: 100%|██████████| 819/819 [00:57<00:00, 14.26batch/s, MAE=0.191, MSE=0.0767]\n",
            "Epoch 70/200 [Validation]: 100%|██████████| 102/102 [00:01<00:00, 56.04batch/s, MAE=0.174, MSE=0.0781]\n"
          ]
        },
        {
          "metadata": {
            "tags": null
          },
          "name": "stdout",
          "output_type": "stream",
          "text": [
            "\n",
            "Epoch 70/200 Summary:\n",
            "  LR: 0.000000\n",
            "  Train MSE: 0.058219, RMSE: 0.241285, MAE: 0.169231\n",
            "  Val   MSE: 0.049774, RMSE: 0.223101, MAE: 0.135363\n",
            "--------------------------------------------------\n"
          ]
        },
        {
          "metadata": {
            "tags": null
          },
          "name": "stderr",
          "output_type": "stream",
          "text": [
            "Epoch 71/200 [Training]: 100%|██████████| 819/819 [00:57<00:00, 14.23batch/s, MAE=0.16, MSE=0.0493]\n",
            "Epoch 71/200 [Validation]: 100%|██████████| 102/102 [00:01<00:00, 55.63batch/s, MAE=0.173, MSE=0.0778]\n"
          ]
        },
        {
          "metadata": {
            "tags": null
          },
          "name": "stdout",
          "output_type": "stream",
          "text": [
            "\n",
            "Epoch 71/200 Summary:\n",
            "  LR: 0.000000\n",
            "  Train MSE: 0.058181, RMSE: 0.241207, MAE: 0.169144\n",
            "  Val   MSE: 0.049802, RMSE: 0.223163, MAE: 0.135552\n",
            "--------------------------------------------------\n"
          ]
        },
        {
          "metadata": {
            "tags": null
          },
          "name": "stderr",
          "output_type": "stream",
          "text": [
            "Epoch 72/200 [Training]: 100%|██████████| 819/819 [00:57<00:00, 14.22batch/s, MAE=0.151, MSE=0.044]\n",
            "Epoch 72/200 [Validation]: 100%|██████████| 102/102 [00:01<00:00, 55.70batch/s, MAE=0.173, MSE=0.0775]\n"
          ]
        },
        {
          "metadata": {
            "tags": null
          },
          "name": "stdout",
          "output_type": "stream",
          "text": [
            "\n",
            "Epoch 72/200 Summary:\n",
            "  LR: 0.000000\n",
            "  Train MSE: 0.058233, RMSE: 0.241315, MAE: 0.169178\n",
            "  Val   MSE: 0.049858, RMSE: 0.223289, MAE: 0.135559\n",
            "--------------------------------------------------\n"
          ]
        },
        {
          "metadata": {
            "tags": null
          },
          "name": "stderr",
          "output_type": "stream",
          "text": [
            "Epoch 73/200 [Training]: 100%|██████████| 819/819 [00:57<00:00, 14.32batch/s, MAE=0.176, MSE=0.0624]\n",
            "Epoch 73/200 [Validation]: 100%|██████████| 102/102 [00:02<00:00, 46.67batch/s, MAE=0.173, MSE=0.0773]\n"
          ]
        },
        {
          "metadata": {
            "tags": null
          },
          "name": "stdout",
          "output_type": "stream",
          "text": [
            "\n",
            "Epoch 73/200 Summary:\n",
            "  LR: 0.000000\n",
            "  Train MSE: 0.058251, RMSE: 0.241353, MAE: 0.169120\n",
            "  Val   MSE: 0.049871, RMSE: 0.223319, MAE: 0.135510\n",
            "--------------------------------------------------\n"
          ]
        },
        {
          "metadata": {
            "tags": null
          },
          "name": "stderr",
          "output_type": "stream",
          "text": [
            "Epoch 74/200 [Training]: 100%|██████████| 819/819 [00:57<00:00, 14.36batch/s, MAE=0.166, MSE=0.0587]\n",
            "Epoch 74/200 [Validation]: 100%|██████████| 102/102 [00:02<00:00, 40.65batch/s, MAE=0.173, MSE=0.0775]\n"
          ]
        },
        {
          "metadata": {
            "tags": null
          },
          "name": "stdout",
          "output_type": "stream",
          "text": [
            "\n",
            "Epoch 74/200 Summary:\n",
            "  LR: 0.000000\n",
            "  Train MSE: 0.058252, RMSE: 0.241354, MAE: 0.169319\n",
            "  Val   MSE: 0.049826, RMSE: 0.223218, MAE: 0.135529\n",
            "--------------------------------------------------\n"
          ]
        },
        {
          "metadata": {
            "tags": null
          },
          "name": "stderr",
          "output_type": "stream",
          "text": [
            "Epoch 75/200 [Training]: 100%|██████████| 819/819 [00:56<00:00, 14.39batch/s, MAE=0.171, MSE=0.0618]\n",
            "Epoch 75/200 [Validation]: 100%|██████████| 102/102 [00:02<00:00, 50.22batch/s, MAE=0.173, MSE=0.0775]\n"
          ]
        },
        {
          "metadata": {
            "tags": null
          },
          "name": "stdout",
          "output_type": "stream",
          "text": [
            "\n",
            "Epoch 75/200 Summary:\n",
            "  LR: 0.000000\n",
            "  Train MSE: 0.058307, RMSE: 0.241469, MAE: 0.169407\n",
            "  Val   MSE: 0.049829, RMSE: 0.223224, MAE: 0.135542\n",
            "--------------------------------------------------\n"
          ]
        },
        {
          "metadata": {
            "tags": null
          },
          "name": "stderr",
          "output_type": "stream",
          "text": [
            "Epoch 76/200 [Training]: 100%|██████████| 819/819 [00:57<00:00, 14.34batch/s, MAE=0.154, MSE=0.0455]\n",
            "Epoch 76/200 [Validation]: 100%|██████████| 102/102 [00:01<00:00, 55.71batch/s, MAE=0.173, MSE=0.0775]\n"
          ]
        },
        {
          "metadata": {
            "tags": null
          },
          "name": "stdout",
          "output_type": "stream",
          "text": [
            "\n",
            "Epoch 76/200 Summary:\n",
            "  LR: 0.000000\n",
            "  Train MSE: 0.058279, RMSE: 0.241410, MAE: 0.169351\n",
            "  Val   MSE: 0.049856, RMSE: 0.223284, MAE: 0.135585\n",
            "--------------------------------------------------\n"
          ]
        },
        {
          "metadata": {
            "tags": null
          },
          "name": "stderr",
          "output_type": "stream",
          "text": [
            "Epoch 77/200 [Training]: 100%|██████████| 819/819 [00:57<00:00, 14.27batch/s, MAE=0.16, MSE=0.0495]\n",
            "Epoch 77/200 [Validation]: 100%|██████████| 102/102 [00:01<00:00, 55.64batch/s, MAE=0.173, MSE=0.0776]\n"
          ]
        },
        {
          "metadata": {
            "tags": null
          },
          "name": "stdout",
          "output_type": "stream",
          "text": [
            "\n",
            "Epoch 77/200 Summary:\n",
            "  LR: 0.000000\n",
            "  Train MSE: 0.058313, RMSE: 0.241480, MAE: 0.169493\n",
            "  Val   MSE: 0.049835, RMSE: 0.223238, MAE: 0.135555\n",
            "--------------------------------------------------\n"
          ]
        },
        {
          "metadata": {
            "tags": null
          },
          "name": "stderr",
          "output_type": "stream",
          "text": [
            "Epoch 78/200 [Training]: 100%|██████████| 819/819 [01:00<00:00, 13.64batch/s, MAE=0.2, MSE=0.0738]\n",
            "Epoch 78/200 [Validation]: 100%|██████████| 102/102 [00:02<00:00, 49.95batch/s, MAE=0.173, MSE=0.0776]\n"
          ]
        },
        {
          "metadata": {
            "tags": null
          },
          "name": "stdout",
          "output_type": "stream",
          "text": [
            "\n",
            "Epoch 78/200 Summary:\n",
            "  LR: 0.000000\n",
            "  Train MSE: 0.058324, RMSE: 0.241503, MAE: 0.169575\n",
            "  Val   MSE: 0.049833, RMSE: 0.223232, MAE: 0.135544\n",
            "--------------------------------------------------\n"
          ]
        },
        {
          "metadata": {
            "tags": null
          },
          "name": "stderr",
          "output_type": "stream",
          "text": [
            "Epoch 79/200 [Training]: 100%|██████████| 819/819 [00:59<00:00, 13.83batch/s, MAE=0.165, MSE=0.0545]\n",
            "Epoch 79/200 [Validation]: 100%|██████████| 102/102 [00:01<00:00, 52.41batch/s, MAE=0.173, MSE=0.0775]\n"
          ]
        },
        {
          "metadata": {
            "tags": null
          },
          "name": "stdout",
          "output_type": "stream",
          "text": [
            "\n",
            "Epoch 79/200 Summary:\n",
            "  LR: 0.000000\n",
            "  Train MSE: 0.058106, RMSE: 0.241052, MAE: 0.168929\n",
            "  Val   MSE: 0.049857, RMSE: 0.223287, MAE: 0.135543\n",
            "--------------------------------------------------\n"
          ]
        },
        {
          "metadata": {
            "tags": null
          },
          "name": "stderr",
          "output_type": "stream",
          "text": [
            "Epoch 80/200 [Training]: 100%|██████████| 819/819 [00:58<00:00, 14.10batch/s, MAE=0.19, MSE=0.0726]\n",
            "Epoch 80/200 [Validation]: 100%|██████████| 102/102 [00:01<00:00, 54.10batch/s, MAE=0.173, MSE=0.0777]\n"
          ]
        },
        {
          "metadata": {
            "tags": null
          },
          "name": "stdout",
          "output_type": "stream",
          "text": [
            "\n",
            "Epoch 80/200 Summary:\n",
            "  LR: 0.000000\n",
            "  Train MSE: 0.058302, RMSE: 0.241457, MAE: 0.169436\n",
            "  Val   MSE: 0.049803, RMSE: 0.223166, MAE: 0.135538\n",
            "--------------------------------------------------\n"
          ]
        },
        {
          "metadata": {
            "tags": null
          },
          "name": "stderr",
          "output_type": "stream",
          "text": [
            "Epoch 81/200 [Training]: 100%|██████████| 819/819 [00:57<00:00, 14.17batch/s, MAE=0.189, MSE=0.0682]\n",
            "Epoch 81/200 [Validation]: 100%|██████████| 102/102 [00:01<00:00, 56.11batch/s, MAE=0.173, MSE=0.0775]\n"
          ]
        },
        {
          "metadata": {
            "tags": null
          },
          "name": "stdout",
          "output_type": "stream",
          "text": [
            "\n",
            "Epoch 81/200 Summary:\n",
            "  LR: 0.000000\n",
            "  Train MSE: 0.058094, RMSE: 0.241028, MAE: 0.169067\n",
            "  Val   MSE: 0.049863, RMSE: 0.223300, MAE: 0.135569\n",
            "--------------------------------------------------\n"
          ]
        },
        {
          "metadata": {
            "tags": null
          },
          "name": "stderr",
          "output_type": "stream",
          "text": [
            "Epoch 82/200 [Training]: 100%|██████████| 819/819 [00:58<00:00, 14.04batch/s, MAE=0.159, MSE=0.0476]\n",
            "Epoch 82/200 [Validation]: 100%|██████████| 102/102 [00:01<00:00, 54.33batch/s, MAE=0.173, MSE=0.0775]\n"
          ]
        },
        {
          "metadata": {
            "tags": null
          },
          "name": "stdout",
          "output_type": "stream",
          "text": [
            "\n",
            "Epoch 82/200 Summary:\n",
            "  LR: 0.000000\n",
            "  Train MSE: 0.058275, RMSE: 0.241403, MAE: 0.169399\n",
            "  Val   MSE: 0.049869, RMSE: 0.223314, MAE: 0.135560\n",
            "--------------------------------------------------\n"
          ]
        },
        {
          "metadata": {
            "tags": null
          },
          "name": "stderr",
          "output_type": "stream",
          "text": [
            "Epoch 83/200 [Training]: 100%|██████████| 819/819 [00:58<00:00, 13.92batch/s, MAE=0.169, MSE=0.0596]\n",
            "Epoch 83/200 [Validation]: 100%|██████████| 102/102 [00:01<00:00, 54.88batch/s, MAE=0.173, MSE=0.0776]\n"
          ]
        },
        {
          "metadata": {
            "tags": null
          },
          "name": "stdout",
          "output_type": "stream",
          "text": [
            "\n",
            "Epoch 83/200 Summary:\n",
            "  LR: 0.000000\n",
            "  Train MSE: 0.058368, RMSE: 0.241595, MAE: 0.169382\n",
            "  Val   MSE: 0.049855, RMSE: 0.223283, MAE: 0.135588\n",
            "--------------------------------------------------\n"
          ]
        },
        {
          "metadata": {
            "tags": null
          },
          "name": "stderr",
          "output_type": "stream",
          "text": [
            "Epoch 84/200 [Training]: 100%|██████████| 819/819 [00:58<00:00, 13.91batch/s, MAE=0.182, MSE=0.0693]\n",
            "Epoch 84/200 [Validation]: 100%|██████████| 102/102 [00:01<00:00, 54.28batch/s, MAE=0.173, MSE=0.0774]\n"
          ]
        },
        {
          "metadata": {
            "tags": null
          },
          "name": "stdout",
          "output_type": "stream",
          "text": [
            "\n",
            "Epoch 84/200 Summary:\n",
            "  LR: 0.000000\n",
            "  Train MSE: 0.058207, RMSE: 0.241262, MAE: 0.169164\n",
            "  Val   MSE: 0.049906, RMSE: 0.223397, MAE: 0.135616\n",
            "--------------------------------------------------\n"
          ]
        },
        {
          "metadata": {
            "tags": null
          },
          "name": "stderr",
          "output_type": "stream",
          "text": [
            "Epoch 85/200 [Training]: 100%|██████████| 819/819 [00:57<00:00, 14.13batch/s, MAE=0.154, MSE=0.0473]\n",
            "Epoch 85/200 [Validation]: 100%|██████████| 102/102 [00:01<00:00, 55.50batch/s, MAE=0.173, MSE=0.0777]\n"
          ]
        },
        {
          "metadata": {
            "tags": null
          },
          "name": "stdout",
          "output_type": "stream",
          "text": [
            "\n",
            "Epoch 85/200 Summary:\n",
            "  LR: 0.000000\n",
            "  Train MSE: 0.058256, RMSE: 0.241363, MAE: 0.169305\n",
            "  Val   MSE: 0.049846, RMSE: 0.223261, MAE: 0.135597\n",
            "--------------------------------------------------\n"
          ]
        },
        {
          "metadata": {
            "tags": null
          },
          "name": "stderr",
          "output_type": "stream",
          "text": [
            "Epoch 86/200 [Training]: 100%|██████████| 819/819 [00:57<00:00, 14.15batch/s, MAE=0.164, MSE=0.0583]\n",
            "Epoch 86/200 [Validation]: 100%|██████████| 102/102 [00:01<00:00, 55.40batch/s, MAE=0.173, MSE=0.0775]\n"
          ]
        },
        {
          "metadata": {
            "tags": null
          },
          "name": "stdout",
          "output_type": "stream",
          "text": [
            "\n",
            "Epoch 86/200 Summary:\n",
            "  LR: 0.000000\n",
            "  Train MSE: 0.058143, RMSE: 0.241129, MAE: 0.169227\n",
            "  Val   MSE: 0.049862, RMSE: 0.223299, MAE: 0.135593\n",
            "--------------------------------------------------\n"
          ]
        },
        {
          "metadata": {
            "tags": null
          },
          "name": "stderr",
          "output_type": "stream",
          "text": [
            "Epoch 87/200 [Training]: 100%|██████████| 819/819 [00:58<00:00, 13.89batch/s, MAE=0.148, MSE=0.0447]\n",
            "Epoch 87/200 [Validation]: 100%|██████████| 102/102 [00:01<00:00, 54.51batch/s, MAE=0.173, MSE=0.0775]\n"
          ]
        },
        {
          "metadata": {
            "tags": null
          },
          "name": "stdout",
          "output_type": "stream",
          "text": [
            "\n",
            "Epoch 87/200 Summary:\n",
            "  LR: 0.000000\n",
            "  Train MSE: 0.058189, RMSE: 0.241224, MAE: 0.169110\n",
            "  Val   MSE: 0.049854, RMSE: 0.223280, MAE: 0.135594\n",
            "--------------------------------------------------\n"
          ]
        },
        {
          "metadata": {
            "tags": null
          },
          "name": "stderr",
          "output_type": "stream",
          "text": [
            "Epoch 88/200 [Training]: 100%|██████████| 819/819 [00:58<00:00, 13.90batch/s, MAE=0.159, MSE=0.0537]\n",
            "Epoch 88/200 [Validation]: 100%|██████████| 102/102 [00:01<00:00, 53.96batch/s, MAE=0.173, MSE=0.0775]\n"
          ]
        },
        {
          "metadata": {
            "tags": null
          },
          "name": "stdout",
          "output_type": "stream",
          "text": [
            "\n",
            "Epoch 88/200 Summary:\n",
            "  LR: 0.000000\n",
            "  Train MSE: 0.058213, RMSE: 0.241274, MAE: 0.169280\n",
            "  Val   MSE: 0.049873, RMSE: 0.223323, MAE: 0.135619\n",
            "--------------------------------------------------\n"
          ]
        },
        {
          "metadata": {
            "tags": null
          },
          "name": "stderr",
          "output_type": "stream",
          "text": [
            "Epoch 89/200 [Training]: 100%|██████████| 819/819 [00:58<00:00, 13.99batch/s, MAE=0.17, MSE=0.0592]\n",
            "Epoch 89/200 [Validation]: 100%|██████████| 102/102 [00:01<00:00, 55.77batch/s, MAE=0.173, MSE=0.0775]\n"
          ]
        },
        {
          "metadata": {
            "tags": null
          },
          "name": "stdout",
          "output_type": "stream",
          "text": [
            "\n",
            "Epoch 89/200 Summary:\n",
            "  LR: 0.000000\n",
            "  Train MSE: 0.058142, RMSE: 0.241126, MAE: 0.169035\n",
            "  Val   MSE: 0.049862, RMSE: 0.223297, MAE: 0.135587\n",
            "--------------------------------------------------\n"
          ]
        },
        {
          "metadata": {
            "tags": null
          },
          "name": "stderr",
          "output_type": "stream",
          "text": [
            "Epoch 90/200 [Training]: 100%|██████████| 819/819 [00:58<00:00, 14.05batch/s, MAE=0.17, MSE=0.0599]\n",
            "Epoch 90/200 [Validation]: 100%|██████████| 102/102 [00:01<00:00, 56.27batch/s, MAE=0.173, MSE=0.0776]\n"
          ]
        },
        {
          "metadata": {
            "tags": null
          },
          "name": "stdout",
          "output_type": "stream",
          "text": [
            "\n",
            "Epoch 90/200 Summary:\n",
            "  LR: 0.000000\n",
            "  Train MSE: 0.058130, RMSE: 0.241102, MAE: 0.169098\n",
            "  Val   MSE: 0.049830, RMSE: 0.223227, MAE: 0.135561\n",
            "--------------------------------------------------\n"
          ]
        },
        {
          "metadata": {
            "tags": null
          },
          "name": "stderr",
          "output_type": "stream",
          "text": [
            "Epoch 91/200 [Training]: 100%|██████████| 819/819 [00:58<00:00, 14.10batch/s, MAE=0.178, MSE=0.0609]\n",
            "Epoch 91/200 [Validation]: 100%|██████████| 102/102 [00:01<00:00, 55.41batch/s, MAE=0.173, MSE=0.0776]\n"
          ]
        },
        {
          "metadata": {
            "tags": null
          },
          "name": "stdout",
          "output_type": "stream",
          "text": [
            "\n",
            "Epoch 91/200 Summary:\n",
            "  LR: 0.000000\n",
            "  Train MSE: 0.058347, RMSE: 0.241551, MAE: 0.169412\n",
            "  Val   MSE: 0.049834, RMSE: 0.223236, MAE: 0.135567\n",
            "--------------------------------------------------\n"
          ]
        },
        {
          "metadata": {
            "tags": null
          },
          "name": "stderr",
          "output_type": "stream",
          "text": [
            "Epoch 92/200 [Training]: 100%|██████████| 819/819 [00:57<00:00, 14.25batch/s, MAE=0.18, MSE=0.0606]\n",
            "Epoch 92/200 [Validation]: 100%|██████████| 102/102 [00:01<00:00, 55.71batch/s, MAE=0.173, MSE=0.0775]\n"
          ]
        },
        {
          "metadata": {
            "tags": null
          },
          "name": "stdout",
          "output_type": "stream",
          "text": [
            "\n",
            "Epoch 92/200 Summary:\n",
            "  LR: 0.000000\n",
            "  Train MSE: 0.058132, RMSE: 0.241105, MAE: 0.169082\n",
            "  Val   MSE: 0.049865, RMSE: 0.223304, MAE: 0.135592\n",
            "--------------------------------------------------\n"
          ]
        },
        {
          "metadata": {
            "tags": null
          },
          "name": "stderr",
          "output_type": "stream",
          "text": [
            "Epoch 93/200 [Training]: 100%|██████████| 819/819 [00:57<00:00, 14.23batch/s, MAE=0.166, MSE=0.0538]\n",
            "Epoch 93/200 [Validation]: 100%|██████████| 102/102 [00:01<00:00, 55.89batch/s, MAE=0.173, MSE=0.0776]\n"
          ]
        },
        {
          "metadata": {
            "tags": null
          },
          "name": "stdout",
          "output_type": "stream",
          "text": [
            "\n",
            "Epoch 93/200 Summary:\n",
            "  LR: 0.000000\n",
            "  Train MSE: 0.058232, RMSE: 0.241313, MAE: 0.169103\n",
            "  Val   MSE: 0.049857, RMSE: 0.223286, MAE: 0.135582\n",
            "--------------------------------------------------\n"
          ]
        },
        {
          "metadata": {
            "tags": null
          },
          "name": "stderr",
          "output_type": "stream",
          "text": [
            "Epoch 94/200 [Training]: 100%|██████████| 819/819 [00:57<00:00, 14.14batch/s, MAE=0.157, MSE=0.0477]\n",
            "Epoch 94/200 [Validation]: 100%|██████████| 102/102 [00:01<00:00, 55.27batch/s, MAE=0.173, MSE=0.0775]\n"
          ]
        },
        {
          "metadata": {
            "tags": null
          },
          "name": "stdout",
          "output_type": "stream",
          "text": [
            "\n",
            "Epoch 94/200 Summary:\n",
            "  LR: 0.000000\n",
            "  Train MSE: 0.058351, RMSE: 0.241559, MAE: 0.169385\n",
            "  Val   MSE: 0.049886, RMSE: 0.223352, MAE: 0.135584\n",
            "--------------------------------------------------\n"
          ]
        },
        {
          "metadata": {
            "tags": null
          },
          "name": "stderr",
          "output_type": "stream",
          "text": [
            "Epoch 95/200 [Training]: 100%|██████████| 819/819 [00:59<00:00, 13.78batch/s, MAE=0.179, MSE=0.0609]\n",
            "Epoch 95/200 [Validation]: 100%|██████████| 102/102 [00:01<00:00, 53.76batch/s, MAE=0.173, MSE=0.0775]\n"
          ]
        },
        {
          "metadata": {
            "tags": null
          },
          "name": "stdout",
          "output_type": "stream",
          "text": [
            "\n",
            "Epoch 95/200 Summary:\n",
            "  LR: 0.000000\n",
            "  Train MSE: 0.058082, RMSE: 0.241001, MAE: 0.168931\n",
            "  Val   MSE: 0.049884, RMSE: 0.223347, MAE: 0.135603\n",
            "--------------------------------------------------\n"
          ]
        },
        {
          "metadata": {
            "tags": null
          },
          "name": "stderr",
          "output_type": "stream",
          "text": [
            "Epoch 96/200 [Training]: 100%|██████████| 819/819 [00:58<00:00, 13.92batch/s, MAE=0.182, MSE=0.0652]\n",
            "Epoch 96/200 [Validation]: 100%|██████████| 102/102 [00:01<00:00, 53.56batch/s, MAE=0.173, MSE=0.0776]\n"
          ]
        },
        {
          "metadata": {
            "tags": null
          },
          "name": "stdout",
          "output_type": "stream",
          "text": [
            "\n",
            "Epoch 96/200 Summary:\n",
            "  LR: 0.000000\n",
            "  Train MSE: 0.058154, RMSE: 0.241151, MAE: 0.169033\n",
            "  Val   MSE: 0.049855, RMSE: 0.223281, MAE: 0.135596\n",
            "--------------------------------------------------\n"
          ]
        },
        {
          "metadata": {
            "tags": null
          },
          "name": "stderr",
          "output_type": "stream",
          "text": [
            "Epoch 97/200 [Training]: 100%|██████████| 819/819 [00:59<00:00, 13.74batch/s, MAE=0.161, MSE=0.054]\n",
            "Epoch 97/200 [Validation]: 100%|██████████| 102/102 [00:01<00:00, 53.63batch/s, MAE=0.173, MSE=0.0776]\n"
          ]
        },
        {
          "metadata": {
            "tags": null
          },
          "name": "stdout",
          "output_type": "stream",
          "text": [
            "\n",
            "Epoch 97/200 Summary:\n",
            "  LR: 0.000000\n",
            "  Train MSE: 0.058337, RMSE: 0.241532, MAE: 0.169608\n",
            "  Val   MSE: 0.049852, RMSE: 0.223275, MAE: 0.135596\n",
            "--------------------------------------------------\n"
          ]
        },
        {
          "metadata": {
            "tags": null
          },
          "name": "stderr",
          "output_type": "stream",
          "text": [
            "Epoch 98/200 [Training]: 100%|██████████| 819/819 [00:59<00:00, 13.79batch/s, MAE=0.171, MSE=0.0596]\n",
            "Epoch 98/200 [Validation]: 100%|██████████| 102/102 [00:01<00:00, 54.84batch/s, MAE=0.173, MSE=0.0775]\n"
          ]
        },
        {
          "metadata": {
            "tags": null
          },
          "name": "stdout",
          "output_type": "stream",
          "text": [
            "\n",
            "Epoch 98/200 Summary:\n",
            "  LR: 0.000000\n",
            "  Train MSE: 0.058268, RMSE: 0.241387, MAE: 0.169493\n",
            "  Val   MSE: 0.049876, RMSE: 0.223328, MAE: 0.135622\n",
            "--------------------------------------------------\n"
          ]
        },
        {
          "metadata": {
            "tags": null
          },
          "name": "stderr",
          "output_type": "stream",
          "text": [
            "Epoch 99/200 [Training]: 100%|██████████| 819/819 [00:58<00:00, 13.94batch/s, MAE=0.164, MSE=0.0514]\n",
            "Epoch 99/200 [Validation]: 100%|██████████| 102/102 [00:01<00:00, 54.70batch/s, MAE=0.173, MSE=0.0776]\n"
          ]
        },
        {
          "metadata": {
            "tags": null
          },
          "name": "stdout",
          "output_type": "stream",
          "text": [
            "\n",
            "Epoch 99/200 Summary:\n",
            "  LR: 0.000000\n",
            "  Train MSE: 0.058351, RMSE: 0.241560, MAE: 0.169536\n",
            "  Val   MSE: 0.049852, RMSE: 0.223275, MAE: 0.135615\n",
            "--------------------------------------------------\n"
          ]
        },
        {
          "metadata": {
            "tags": null
          },
          "name": "stderr",
          "output_type": "stream",
          "text": [
            "Epoch 100/200 [Training]: 100%|██████████| 819/819 [00:57<00:00, 14.13batch/s, MAE=0.178, MSE=0.0656]\n",
            "Epoch 100/200 [Validation]: 100%|██████████| 102/102 [00:01<00:00, 55.36batch/s, MAE=0.173, MSE=0.0777]\n"
          ]
        },
        {
          "metadata": {
            "tags": null
          },
          "name": "stdout",
          "output_type": "stream",
          "text": [
            "\n",
            "Epoch 100/200 Summary:\n",
            "  LR: 0.000000\n",
            "  Train MSE: 0.058303, RMSE: 0.241461, MAE: 0.169361\n",
            "  Val   MSE: 0.049836, RMSE: 0.223240, MAE: 0.135644\n",
            "--------------------------------------------------\n"
          ]
        },
        {
          "metadata": {
            "tags": null
          },
          "name": "stderr",
          "output_type": "stream",
          "text": [
            "Epoch 101/200 [Training]: 100%|██████████| 819/819 [00:57<00:00, 14.15batch/s, MAE=0.156, MSE=0.051]\n",
            "Epoch 101/200 [Validation]: 100%|██████████| 102/102 [00:01<00:00, 55.63batch/s, MAE=0.173, MSE=0.0776]\n"
          ]
        },
        {
          "metadata": {
            "tags": null
          },
          "name": "stdout",
          "output_type": "stream",
          "text": [
            "\n",
            "Epoch 101/200 Summary:\n",
            "  LR: 0.000000\n",
            "  Train MSE: 0.058190, RMSE: 0.241226, MAE: 0.169236\n",
            "  Val   MSE: 0.049879, RMSE: 0.223336, MAE: 0.135661\n",
            "--------------------------------------------------\n"
          ]
        },
        {
          "metadata": {
            "tags": null
          },
          "name": "stderr",
          "output_type": "stream",
          "text": [
            "Epoch 102/200 [Training]: 100%|██████████| 819/819 [00:57<00:00, 14.15batch/s, MAE=0.157, MSE=0.0513]\n",
            "Epoch 102/200 [Validation]: 100%|██████████| 102/102 [00:01<00:00, 55.16batch/s, MAE=0.173, MSE=0.0776]\n"
          ]
        },
        {
          "metadata": {
            "tags": null
          },
          "name": "stdout",
          "output_type": "stream",
          "text": [
            "\n",
            "Epoch 102/200 Summary:\n",
            "  LR: 0.000000\n",
            "  Train MSE: 0.058491, RMSE: 0.241849, MAE: 0.169733\n",
            "  Val   MSE: 0.049866, RMSE: 0.223308, MAE: 0.135658\n",
            "--------------------------------------------------\n"
          ]
        },
        {
          "metadata": {
            "tags": null
          },
          "name": "stderr",
          "output_type": "stream",
          "text": [
            "Epoch 103/200 [Training]: 100%|██████████| 819/819 [00:58<00:00, 14.12batch/s, MAE=0.174, MSE=0.0605]\n",
            "Epoch 103/200 [Validation]: 100%|██████████| 102/102 [00:01<00:00, 54.69batch/s, MAE=0.173, MSE=0.0776]\n"
          ]
        },
        {
          "metadata": {
            "tags": null
          },
          "name": "stdout",
          "output_type": "stream",
          "text": [
            "\n",
            "Epoch 103/200 Summary:\n",
            "  LR: 0.000000\n",
            "  Train MSE: 0.058226, RMSE: 0.241301, MAE: 0.169309\n",
            "  Val   MSE: 0.049842, RMSE: 0.223253, MAE: 0.135606\n",
            "--------------------------------------------------\n"
          ]
        },
        {
          "metadata": {
            "tags": null
          },
          "name": "stderr",
          "output_type": "stream",
          "text": [
            "Epoch 104/200 [Training]: 100%|██████████| 819/819 [00:57<00:00, 14.16batch/s, MAE=0.178, MSE=0.0658]\n",
            "Epoch 104/200 [Validation]: 100%|██████████| 102/102 [00:01<00:00, 55.76batch/s, MAE=0.173, MSE=0.0777]\n"
          ]
        },
        {
          "metadata": {
            "tags": null
          },
          "name": "stdout",
          "output_type": "stream",
          "text": [
            "\n",
            "Epoch 104/200 Summary:\n",
            "  LR: 0.000000\n",
            "  Train MSE: 0.058203, RMSE: 0.241252, MAE: 0.169231\n",
            "  Val   MSE: 0.049833, RMSE: 0.223234, MAE: 0.135635\n",
            "--------------------------------------------------\n"
          ]
        },
        {
          "metadata": {
            "tags": null
          },
          "name": "stderr",
          "output_type": "stream",
          "text": [
            "Epoch 105/200 [Training]: 100%|██████████| 819/819 [00:58<00:00, 14.10batch/s, MAE=0.162, MSE=0.0562]\n",
            "Epoch 105/200 [Validation]: 100%|██████████| 102/102 [00:01<00:00, 55.17batch/s, MAE=0.173, MSE=0.0775]\n"
          ]
        },
        {
          "metadata": {
            "tags": null
          },
          "name": "stdout",
          "output_type": "stream",
          "text": [
            "\n",
            "Epoch 105/200 Summary:\n",
            "  LR: 0.000000\n",
            "  Train MSE: 0.058224, RMSE: 0.241296, MAE: 0.169345\n",
            "  Val   MSE: 0.049875, RMSE: 0.223327, MAE: 0.135634\n",
            "--------------------------------------------------\n"
          ]
        },
        {
          "metadata": {
            "tags": null
          },
          "name": "stderr",
          "output_type": "stream",
          "text": [
            "Epoch 106/200 [Training]: 100%|██████████| 819/819 [00:58<00:00, 14.09batch/s, MAE=0.178, MSE=0.0614]\n",
            "Epoch 106/200 [Validation]: 100%|██████████| 102/102 [00:01<00:00, 55.14batch/s, MAE=0.173, MSE=0.0775]\n"
          ]
        },
        {
          "metadata": {
            "tags": null
          },
          "name": "stdout",
          "output_type": "stream",
          "text": [
            "\n",
            "Epoch 106/200 Summary:\n",
            "  LR: 0.000000\n",
            "  Train MSE: 0.058262, RMSE: 0.241375, MAE: 0.169248\n",
            "  Val   MSE: 0.049864, RMSE: 0.223303, MAE: 0.135602\n",
            "--------------------------------------------------\n"
          ]
        },
        {
          "metadata": {
            "tags": null
          },
          "name": "stderr",
          "output_type": "stream",
          "text": [
            "Epoch 107/200 [Training]: 100%|██████████| 819/819 [00:58<00:00, 13.96batch/s, MAE=0.188, MSE=0.0715]\n",
            "Epoch 107/200 [Validation]: 100%|██████████| 102/102 [00:01<00:00, 55.23batch/s, MAE=0.173, MSE=0.0777]\n"
          ]
        },
        {
          "metadata": {
            "tags": null
          },
          "name": "stdout",
          "output_type": "stream",
          "text": [
            "\n",
            "Epoch 107/200 Summary:\n",
            "  LR: 0.000000\n",
            "  Train MSE: 0.058278, RMSE: 0.241408, MAE: 0.169546\n",
            "  Val   MSE: 0.049843, RMSE: 0.223255, MAE: 0.135622\n",
            "--------------------------------------------------\n"
          ]
        },
        {
          "metadata": {
            "tags": null
          },
          "name": "stderr",
          "output_type": "stream",
          "text": [
            "Epoch 108/200 [Training]: 100%|██████████| 819/819 [00:58<00:00, 14.02batch/s, MAE=0.172, MSE=0.0576]\n",
            "Epoch 108/200 [Validation]: 100%|██████████| 102/102 [00:01<00:00, 55.07batch/s, MAE=0.173, MSE=0.0777]\n"
          ]
        },
        {
          "metadata": {
            "tags": null
          },
          "name": "stdout",
          "output_type": "stream",
          "text": [
            "\n",
            "Epoch 108/200 Summary:\n",
            "  LR: 0.000000\n",
            "  Train MSE: 0.058378, RMSE: 0.241616, MAE: 0.169505\n",
            "  Val   MSE: 0.049850, RMSE: 0.223272, MAE: 0.135655\n",
            "--------------------------------------------------\n"
          ]
        },
        {
          "metadata": {
            "tags": null
          },
          "name": "stderr",
          "output_type": "stream",
          "text": [
            "Epoch 109/200 [Training]: 100%|██████████| 819/819 [00:58<00:00, 14.02batch/s, MAE=0.191, MSE=0.0731]\n",
            "Epoch 109/200 [Validation]: 100%|██████████| 102/102 [00:01<00:00, 54.67batch/s, MAE=0.173, MSE=0.0775]\n"
          ]
        },
        {
          "metadata": {
            "tags": null
          },
          "name": "stdout",
          "output_type": "stream",
          "text": [
            "\n",
            "Epoch 109/200 Summary:\n",
            "  LR: 0.000000\n",
            "  Train MSE: 0.058296, RMSE: 0.241446, MAE: 0.169453\n",
            "  Val   MSE: 0.049871, RMSE: 0.223317, MAE: 0.135643\n",
            "--------------------------------------------------\n"
          ]
        },
        {
          "metadata": {
            "tags": null
          },
          "name": "stderr",
          "output_type": "stream",
          "text": [
            "Epoch 110/200 [Training]: 100%|██████████| 819/819 [00:58<00:00, 14.04batch/s, MAE=0.175, MSE=0.0642]\n",
            "Epoch 110/200 [Validation]: 100%|██████████| 102/102 [00:01<00:00, 54.99batch/s, MAE=0.173, MSE=0.0776]\n"
          ]
        },
        {
          "metadata": {
            "tags": null
          },
          "name": "stdout",
          "output_type": "stream",
          "text": [
            "\n",
            "Epoch 110/200 Summary:\n",
            "  LR: 0.000000\n",
            "  Train MSE: 0.058325, RMSE: 0.241505, MAE: 0.169619\n",
            "  Val   MSE: 0.049853, RMSE: 0.223278, MAE: 0.135686\n",
            "--------------------------------------------------\n"
          ]
        },
        {
          "metadata": {
            "tags": null
          },
          "name": "stderr",
          "output_type": "stream",
          "text": [
            "Epoch 111/200 [Training]: 100%|██████████| 819/819 [00:58<00:00, 14.07batch/s, MAE=0.187, MSE=0.0681]\n",
            "Epoch 111/200 [Validation]: 100%|██████████| 102/102 [00:01<00:00, 54.94batch/s, MAE=0.173, MSE=0.0776]\n"
          ]
        },
        {
          "metadata": {
            "tags": null
          },
          "name": "stdout",
          "output_type": "stream",
          "text": [
            "\n",
            "Epoch 111/200 Summary:\n",
            "  LR: 0.000000\n",
            "  Train MSE: 0.058156, RMSE: 0.241155, MAE: 0.169346\n",
            "  Val   MSE: 0.049873, RMSE: 0.223322, MAE: 0.135700\n",
            "--------------------------------------------------\n"
          ]
        },
        {
          "metadata": {
            "tags": null
          },
          "name": "stderr",
          "output_type": "stream",
          "text": [
            "Epoch 112/200 [Training]: 100%|██████████| 819/819 [00:58<00:00, 13.97batch/s, MAE=0.183, MSE=0.0639]\n",
            "Epoch 112/200 [Validation]: 100%|██████████| 102/102 [00:01<00:00, 54.15batch/s, MAE=0.173, MSE=0.0776]\n"
          ]
        },
        {
          "metadata": {
            "tags": null
          },
          "name": "stdout",
          "output_type": "stream",
          "text": [
            "\n",
            "Epoch 112/200 Summary:\n",
            "  LR: 0.000000\n",
            "  Train MSE: 0.058221, RMSE: 0.241290, MAE: 0.169303\n",
            "  Val   MSE: 0.049876, RMSE: 0.223330, MAE: 0.135686\n",
            "--------------------------------------------------\n"
          ]
        },
        {
          "metadata": {
            "tags": null
          },
          "name": "stderr",
          "output_type": "stream",
          "text": [
            "Epoch 113/200 [Training]: 100%|██████████| 819/819 [00:57<00:00, 14.14batch/s, MAE=0.158, MSE=0.055]\n",
            "Epoch 113/200 [Validation]: 100%|██████████| 102/102 [00:01<00:00, 54.53batch/s, MAE=0.173, MSE=0.0775]\n"
          ]
        },
        {
          "metadata": {
            "tags": null
          },
          "name": "stdout",
          "output_type": "stream",
          "text": [
            "\n",
            "Epoch 113/200 Summary:\n",
            "  LR: 0.000000\n",
            "  Train MSE: 0.058252, RMSE: 0.241355, MAE: 0.169328\n",
            "  Val   MSE: 0.049890, RMSE: 0.223360, MAE: 0.135694\n",
            "--------------------------------------------------\n"
          ]
        },
        {
          "metadata": {
            "tags": null
          },
          "name": "stderr",
          "output_type": "stream",
          "text": [
            "Epoch 114/200 [Training]: 100%|██████████| 819/819 [00:57<00:00, 14.13batch/s, MAE=0.178, MSE=0.0758]\n",
            "Epoch 114/200 [Validation]: 100%|██████████| 102/102 [00:01<00:00, 54.80batch/s, MAE=0.173, MSE=0.0776]\n"
          ]
        },
        {
          "metadata": {
            "tags": null
          },
          "name": "stdout",
          "output_type": "stream",
          "text": [
            "\n",
            "Epoch 114/200 Summary:\n",
            "  LR: 0.000000\n",
            "  Train MSE: 0.058346, RMSE: 0.241550, MAE: 0.169401\n",
            "  Val   MSE: 0.049880, RMSE: 0.223339, MAE: 0.135676\n",
            "--------------------------------------------------\n"
          ]
        },
        {
          "metadata": {
            "tags": null
          },
          "name": "stderr",
          "output_type": "stream",
          "text": [
            "Epoch 115/200 [Training]: 100%|██████████| 819/819 [00:57<00:00, 14.13batch/s, MAE=0.181, MSE=0.0704]\n",
            "Epoch 115/200 [Validation]: 100%|██████████| 102/102 [00:02<00:00, 49.11batch/s, MAE=0.173, MSE=0.0776]\n"
          ]
        },
        {
          "metadata": {
            "tags": null
          },
          "name": "stdout",
          "output_type": "stream",
          "text": [
            "\n",
            "Epoch 115/200 Summary:\n",
            "  LR: 0.000000\n",
            "  Train MSE: 0.058256, RMSE: 0.241362, MAE: 0.169438\n",
            "  Val   MSE: 0.049849, RMSE: 0.223270, MAE: 0.135646\n",
            "--------------------------------------------------\n"
          ]
        },
        {
          "metadata": {
            "tags": null
          },
          "name": "stderr",
          "output_type": "stream",
          "text": [
            "Epoch 116/200 [Training]: 100%|██████████| 819/819 [00:57<00:00, 14.31batch/s, MAE=0.176, MSE=0.0677]\n",
            "Epoch 116/200 [Validation]: 100%|██████████| 102/102 [00:02<00:00, 42.40batch/s, MAE=0.173, MSE=0.0775]\n"
          ]
        },
        {
          "metadata": {
            "tags": null
          },
          "name": "stdout",
          "output_type": "stream",
          "text": [
            "\n",
            "Epoch 116/200 Summary:\n",
            "  LR: 0.000000\n",
            "  Train MSE: 0.058289, RMSE: 0.241431, MAE: 0.169420\n",
            "  Val   MSE: 0.049909, RMSE: 0.223403, MAE: 0.135653\n",
            "--------------------------------------------------\n"
          ]
        },
        {
          "metadata": {
            "tags": null
          },
          "name": "stderr",
          "output_type": "stream",
          "text": [
            "Epoch 117/200 [Training]: 100%|██████████| 819/819 [00:57<00:00, 14.34batch/s, MAE=0.167, MSE=0.0528]\n",
            "Epoch 117/200 [Validation]: 100%|██████████| 102/102 [00:02<00:00, 47.68batch/s, MAE=0.173, MSE=0.0777]\n"
          ]
        },
        {
          "metadata": {
            "tags": null
          },
          "name": "stdout",
          "output_type": "stream",
          "text": [
            "\n",
            "Epoch 117/200 Summary:\n",
            "  LR: 0.000000\n",
            "  Train MSE: 0.058102, RMSE: 0.241043, MAE: 0.169173\n",
            "  Val   MSE: 0.049843, RMSE: 0.223256, MAE: 0.135617\n",
            "--------------------------------------------------\n"
          ]
        },
        {
          "metadata": {
            "tags": null
          },
          "name": "stderr",
          "output_type": "stream",
          "text": [
            "Epoch 118/200 [Training]: 100%|██████████| 819/819 [00:58<00:00, 14.04batch/s, MAE=0.165, MSE=0.0584]\n",
            "Epoch 118/200 [Validation]: 100%|██████████| 102/102 [00:02<00:00, 48.23batch/s, MAE=0.173, MSE=0.0777]\n"
          ]
        },
        {
          "metadata": {
            "tags": null
          },
          "name": "stdout",
          "output_type": "stream",
          "text": [
            "\n",
            "Epoch 118/200 Summary:\n",
            "  LR: 0.000000\n",
            "  Train MSE: 0.058157, RMSE: 0.241157, MAE: 0.169104\n",
            "  Val   MSE: 0.049860, RMSE: 0.223293, MAE: 0.135649\n",
            "--------------------------------------------------\n"
          ]
        },
        {
          "metadata": {
            "tags": null
          },
          "name": "stderr",
          "output_type": "stream",
          "text": [
            "Epoch 119/200 [Training]: 100%|██████████| 819/819 [00:57<00:00, 14.30batch/s, MAE=0.155, MSE=0.0472]\n",
            "Epoch 119/200 [Validation]: 100%|██████████| 102/102 [00:01<00:00, 55.38batch/s, MAE=0.173, MSE=0.0777]\n"
          ]
        },
        {
          "metadata": {
            "tags": null
          },
          "name": "stdout",
          "output_type": "stream",
          "text": [
            "\n",
            "Epoch 119/200 Summary:\n",
            "  LR: 0.000000\n",
            "  Train MSE: 0.058339, RMSE: 0.241536, MAE: 0.169373\n",
            "  Val   MSE: 0.049828, RMSE: 0.223223, MAE: 0.135596\n",
            "--------------------------------------------------\n"
          ]
        },
        {
          "metadata": {
            "tags": null
          },
          "name": "stderr",
          "output_type": "stream",
          "text": [
            "Epoch 120/200 [Training]: 100%|██████████| 819/819 [00:57<00:00, 14.18batch/s, MAE=0.17, MSE=0.0611]\n",
            "Epoch 120/200 [Validation]: 100%|██████████| 102/102 [00:01<00:00, 54.85batch/s, MAE=0.173, MSE=0.0776]\n"
          ]
        },
        {
          "metadata": {
            "tags": null
          },
          "name": "stdout",
          "output_type": "stream",
          "text": [
            "\n",
            "Epoch 120/200 Summary:\n",
            "  LR: 0.000000\n",
            "  Train MSE: 0.058251, RMSE: 0.241353, MAE: 0.169150\n",
            "  Val   MSE: 0.049859, RMSE: 0.223292, MAE: 0.135627\n",
            "--------------------------------------------------\n"
          ]
        },
        {
          "metadata": {
            "tags": null
          },
          "name": "stderr",
          "output_type": "stream",
          "text": [
            "Epoch 121/200 [Training]: 100%|██████████| 819/819 [00:59<00:00, 13.81batch/s, MAE=0.164, MSE=0.0507]\n",
            "Epoch 121/200 [Validation]: 100%|██████████| 102/102 [00:01<00:00, 55.01batch/s, MAE=0.173, MSE=0.0776]\n"
          ]
        },
        {
          "metadata": {
            "tags": null
          },
          "name": "stdout",
          "output_type": "stream",
          "text": [
            "\n",
            "Epoch 121/200 Summary:\n",
            "  LR: 0.000000\n",
            "  Train MSE: 0.058190, RMSE: 0.241227, MAE: 0.169125\n",
            "  Val   MSE: 0.049864, RMSE: 0.223301, MAE: 0.135633\n",
            "--------------------------------------------------\n"
          ]
        },
        {
          "metadata": {
            "tags": null
          },
          "name": "stderr",
          "output_type": "stream",
          "text": [
            "Epoch 122/200 [Training]: 100%|██████████| 819/819 [00:58<00:00, 13.96batch/s, MAE=0.172, MSE=0.0552]\n",
            "Epoch 122/200 [Validation]: 100%|██████████| 102/102 [00:01<00:00, 55.61batch/s, MAE=0.173, MSE=0.0777]\n"
          ]
        },
        {
          "metadata": {
            "tags": null
          },
          "name": "stdout",
          "output_type": "stream",
          "text": [
            "\n",
            "Epoch 122/200 Summary:\n",
            "  LR: 0.000000\n",
            "  Train MSE: 0.058324, RMSE: 0.241504, MAE: 0.169278\n",
            "  Val   MSE: 0.049836, RMSE: 0.223239, MAE: 0.135626\n",
            "--------------------------------------------------\n"
          ]
        },
        {
          "metadata": {
            "tags": null
          },
          "name": "stderr",
          "output_type": "stream",
          "text": [
            "Epoch 123/200 [Training]: 100%|██████████| 819/819 [00:58<00:00, 13.91batch/s, MAE=0.182, MSE=0.0655]\n",
            "Epoch 123/200 [Validation]: 100%|██████████| 102/102 [00:01<00:00, 54.52batch/s, MAE=0.173, MSE=0.0777]\n"
          ]
        },
        {
          "metadata": {
            "tags": null
          },
          "name": "stdout",
          "output_type": "stream",
          "text": [
            "\n",
            "Epoch 123/200 Summary:\n",
            "  LR: 0.000000\n",
            "  Train MSE: 0.058219, RMSE: 0.241287, MAE: 0.169201\n",
            "  Val   MSE: 0.049847, RMSE: 0.223265, MAE: 0.135658\n",
            "--------------------------------------------------\n"
          ]
        },
        {
          "metadata": {
            "tags": null
          },
          "name": "stderr",
          "output_type": "stream",
          "text": [
            "Epoch 124/200 [Training]: 100%|██████████| 819/819 [00:58<00:00, 14.04batch/s, MAE=0.183, MSE=0.0667]\n",
            "Epoch 124/200 [Validation]: 100%|██████████| 102/102 [00:01<00:00, 54.92batch/s, MAE=0.173, MSE=0.0775]\n"
          ]
        },
        {
          "metadata": {
            "tags": null
          },
          "name": "stdout",
          "output_type": "stream",
          "text": [
            "\n",
            "Epoch 124/200 Summary:\n",
            "  LR: 0.000000\n",
            "  Train MSE: 0.058407, RMSE: 0.241676, MAE: 0.169666\n",
            "  Val   MSE: 0.049861, RMSE: 0.223295, MAE: 0.135654\n",
            "--------------------------------------------------\n"
          ]
        },
        {
          "metadata": {
            "tags": null
          },
          "name": "stderr",
          "output_type": "stream",
          "text": [
            "Epoch 125/200 [Training]: 100%|██████████| 819/819 [00:59<00:00, 13.84batch/s, MAE=0.182, MSE=0.072]\n",
            "Epoch 125/200 [Validation]: 100%|██████████| 102/102 [00:01<00:00, 55.37batch/s, MAE=0.173, MSE=0.0776]\n"
          ]
        },
        {
          "metadata": {
            "tags": null
          },
          "name": "stdout",
          "output_type": "stream",
          "text": [
            "\n",
            "Epoch 125/200 Summary:\n",
            "  LR: 0.000000\n",
            "  Train MSE: 0.058256, RMSE: 0.241364, MAE: 0.169277\n",
            "  Val   MSE: 0.049841, RMSE: 0.223250, MAE: 0.135607\n",
            "--------------------------------------------------\n"
          ]
        },
        {
          "metadata": {
            "tags": null
          },
          "name": "stderr",
          "output_type": "stream",
          "text": [
            "Epoch 126/200 [Training]: 100%|██████████| 819/819 [00:58<00:00, 13.91batch/s, MAE=0.173, MSE=0.0598]\n",
            "Epoch 126/200 [Validation]: 100%|██████████| 102/102 [00:01<00:00, 51.22batch/s, MAE=0.173, MSE=0.0775]\n"
          ]
        },
        {
          "metadata": {
            "tags": null
          },
          "name": "stdout",
          "output_type": "stream",
          "text": [
            "\n",
            "Epoch 126/200 Summary:\n",
            "  LR: 0.000000\n",
            "  Train MSE: 0.058216, RMSE: 0.241281, MAE: 0.169007\n",
            "  Val   MSE: 0.049856, RMSE: 0.223284, MAE: 0.135614\n",
            "--------------------------------------------------\n"
          ]
        },
        {
          "metadata": {
            "tags": null
          },
          "name": "stderr",
          "output_type": "stream",
          "text": [
            "Epoch 127/200 [Training]: 100%|██████████| 819/819 [00:59<00:00, 13.70batch/s, MAE=0.167, MSE=0.0564]\n",
            "Epoch 127/200 [Validation]: 100%|██████████| 102/102 [00:02<00:00, 41.44batch/s, MAE=0.173, MSE=0.0776]\n"
          ]
        },
        {
          "metadata": {
            "tags": null
          },
          "name": "stdout",
          "output_type": "stream",
          "text": [
            "\n",
            "Epoch 127/200 Summary:\n",
            "  LR: 0.000000\n",
            "  Train MSE: 0.058201, RMSE: 0.241249, MAE: 0.169129\n",
            "  Val   MSE: 0.049858, RMSE: 0.223289, MAE: 0.135605\n",
            "--------------------------------------------------\n"
          ]
        },
        {
          "metadata": {
            "tags": null
          },
          "name": "stderr",
          "output_type": "stream",
          "text": [
            "Epoch 128/200 [Training]: 100%|██████████| 819/819 [00:57<00:00, 14.36batch/s, MAE=0.181, MSE=0.0628]\n",
            "Epoch 128/200 [Validation]: 100%|██████████| 102/102 [00:02<00:00, 50.24batch/s, MAE=0.173, MSE=0.0776]\n"
          ]
        },
        {
          "metadata": {
            "tags": null
          },
          "name": "stdout",
          "output_type": "stream",
          "text": [
            "\n",
            "Epoch 128/200 Summary:\n",
            "  LR: 0.000000\n",
            "  Train MSE: 0.058162, RMSE: 0.241169, MAE: 0.169186\n",
            "  Val   MSE: 0.049851, RMSE: 0.223274, MAE: 0.135615\n",
            "--------------------------------------------------\n"
          ]
        },
        {
          "metadata": {
            "tags": null
          },
          "name": "stderr",
          "output_type": "stream",
          "text": [
            "Epoch 129/200 [Training]: 100%|██████████| 819/819 [00:57<00:00, 14.27batch/s, MAE=0.18, MSE=0.0695]\n",
            "Epoch 129/200 [Validation]: 100%|██████████| 102/102 [00:01<00:00, 55.02batch/s, MAE=0.173, MSE=0.0777]\n"
          ]
        },
        {
          "metadata": {
            "tags": null
          },
          "name": "stdout",
          "output_type": "stream",
          "text": [
            "\n",
            "Epoch 129/200 Summary:\n",
            "  LR: 0.000000\n",
            "  Train MSE: 0.058306, RMSE: 0.241466, MAE: 0.169346\n",
            "  Val   MSE: 0.049814, RMSE: 0.223189, MAE: 0.135571\n",
            "--------------------------------------------------\n"
          ]
        },
        {
          "metadata": {
            "tags": null
          },
          "name": "stderr",
          "output_type": "stream",
          "text": [
            "Epoch 130/200 [Training]: 100%|██████████| 819/819 [00:57<00:00, 14.18batch/s, MAE=0.177, MSE=0.0591]\n",
            "Epoch 130/200 [Validation]: 100%|██████████| 102/102 [00:01<00:00, 54.80batch/s, MAE=0.173, MSE=0.0775]\n"
          ]
        },
        {
          "metadata": {
            "tags": null
          },
          "name": "stdout",
          "output_type": "stream",
          "text": [
            "\n",
            "Epoch 130/200 Summary:\n",
            "  LR: 0.000000\n",
            "  Train MSE: 0.058258, RMSE: 0.241367, MAE: 0.169312\n",
            "  Val   MSE: 0.049852, RMSE: 0.223276, MAE: 0.135584\n",
            "--------------------------------------------------\n"
          ]
        },
        {
          "metadata": {
            "tags": null
          },
          "name": "stderr",
          "output_type": "stream",
          "text": [
            "Epoch 131/200 [Training]: 100%|██████████| 819/819 [00:58<00:00, 13.90batch/s, MAE=0.201, MSE=0.0803]\n",
            "Epoch 131/200 [Validation]: 100%|██████████| 102/102 [00:01<00:00, 53.69batch/s, MAE=0.173, MSE=0.0775]\n"
          ]
        },
        {
          "metadata": {
            "tags": null
          },
          "name": "stdout",
          "output_type": "stream",
          "text": [
            "\n",
            "Epoch 131/200 Summary:\n",
            "  LR: 0.000000\n",
            "  Train MSE: 0.058168, RMSE: 0.241180, MAE: 0.169253\n",
            "  Val   MSE: 0.049853, RMSE: 0.223277, MAE: 0.135578\n",
            "--------------------------------------------------\n"
          ]
        },
        {
          "metadata": {
            "tags": null
          },
          "name": "stderr",
          "output_type": "stream",
          "text": [
            "Epoch 132/200 [Training]: 100%|██████████| 819/819 [00:58<00:00, 13.98batch/s, MAE=0.171, MSE=0.0588]\n",
            "Epoch 132/200 [Validation]: 100%|██████████| 102/102 [00:01<00:00, 55.18batch/s, MAE=0.173, MSE=0.0776]\n"
          ]
        },
        {
          "metadata": {
            "tags": null
          },
          "name": "stdout",
          "output_type": "stream",
          "text": [
            "\n",
            "Epoch 132/200 Summary:\n",
            "  LR: 0.000000\n",
            "  Train MSE: 0.058221, RMSE: 0.241291, MAE: 0.169203\n",
            "  Val   MSE: 0.049839, RMSE: 0.223246, MAE: 0.135574\n",
            "--------------------------------------------------\n"
          ]
        },
        {
          "metadata": {
            "tags": null
          },
          "name": "stderr",
          "output_type": "stream",
          "text": [
            "Epoch 133/200 [Training]: 100%|██████████| 819/819 [00:58<00:00, 13.88batch/s, MAE=0.163, MSE=0.0547]\n",
            "Epoch 133/200 [Validation]: 100%|██████████| 102/102 [00:02<00:00, 50.36batch/s, MAE=0.173, MSE=0.0775]\n"
          ]
        },
        {
          "metadata": {
            "tags": null
          },
          "name": "stdout",
          "output_type": "stream",
          "text": [
            "\n",
            "Epoch 133/200 Summary:\n",
            "  LR: 0.000000\n",
            "  Train MSE: 0.058204, RMSE: 0.241255, MAE: 0.169345\n",
            "  Val   MSE: 0.049840, RMSE: 0.223248, MAE: 0.135544\n",
            "--------------------------------------------------\n"
          ]
        },
        {
          "metadata": {
            "tags": null
          },
          "name": "stderr",
          "output_type": "stream",
          "text": [
            "Epoch 134/200 [Training]: 100%|██████████| 819/819 [00:58<00:00, 14.08batch/s, MAE=0.17, MSE=0.0677]\n",
            "Epoch 134/200 [Validation]: 100%|██████████| 102/102 [00:01<00:00, 54.24batch/s, MAE=0.173, MSE=0.0776]\n"
          ]
        },
        {
          "metadata": {
            "tags": null
          },
          "name": "stdout",
          "output_type": "stream",
          "text": [
            "\n",
            "Epoch 134/200 Summary:\n",
            "  LR: 0.000000\n",
            "  Train MSE: 0.058338, RMSE: 0.241532, MAE: 0.169416\n",
            "  Val   MSE: 0.049841, RMSE: 0.223251, MAE: 0.135536\n",
            "--------------------------------------------------\n"
          ]
        },
        {
          "metadata": {
            "tags": null
          },
          "name": "stderr",
          "output_type": "stream",
          "text": [
            "Epoch 135/200 [Training]: 100%|██████████| 819/819 [00:57<00:00, 14.13batch/s, MAE=0.187, MSE=0.0679]\n",
            "Epoch 135/200 [Validation]: 100%|██████████| 102/102 [00:01<00:00, 55.24batch/s, MAE=0.173, MSE=0.0774]\n"
          ]
        },
        {
          "metadata": {
            "tags": null
          },
          "name": "stdout",
          "output_type": "stream",
          "text": [
            "\n",
            "Epoch 135/200 Summary:\n",
            "  LR: 0.000000\n",
            "  Train MSE: 0.058369, RMSE: 0.241596, MAE: 0.169488\n",
            "  Val   MSE: 0.049870, RMSE: 0.223315, MAE: 0.135529\n",
            "--------------------------------------------------\n"
          ]
        },
        {
          "metadata": {
            "tags": null
          },
          "name": "stderr",
          "output_type": "stream",
          "text": [
            "Epoch 136/200 [Training]: 100%|██████████| 819/819 [00:57<00:00, 14.13batch/s, MAE=0.178, MSE=0.0643]\n",
            "Epoch 136/200 [Validation]: 100%|██████████| 102/102 [00:01<00:00, 53.84batch/s, MAE=0.173, MSE=0.0776]\n"
          ]
        },
        {
          "metadata": {
            "tags": null
          },
          "name": "stdout",
          "output_type": "stream",
          "text": [
            "\n",
            "Epoch 136/200 Summary:\n",
            "  LR: 0.000000\n",
            "  Train MSE: 0.058263, RMSE: 0.241378, MAE: 0.169122\n",
            "  Val   MSE: 0.049832, RMSE: 0.223232, MAE: 0.135527\n",
            "--------------------------------------------------\n"
          ]
        },
        {
          "metadata": {
            "tags": null
          },
          "name": "stderr",
          "output_type": "stream",
          "text": [
            "Epoch 137/200 [Training]: 100%|██████████| 819/819 [00:59<00:00, 13.83batch/s, MAE=0.162, MSE=0.0518]\n",
            "Epoch 137/200 [Validation]: 100%|██████████| 102/102 [00:01<00:00, 53.96batch/s, MAE=0.173, MSE=0.0776]\n"
          ]
        },
        {
          "metadata": {
            "tags": null
          },
          "name": "stdout",
          "output_type": "stream",
          "text": [
            "\n",
            "Epoch 137/200 Summary:\n",
            "  LR: 0.000000\n",
            "  Train MSE: 0.058224, RMSE: 0.241297, MAE: 0.169322\n",
            "  Val   MSE: 0.049843, RMSE: 0.223255, MAE: 0.135536\n",
            "--------------------------------------------------\n"
          ]
        },
        {
          "metadata": {
            "tags": null
          },
          "name": "stderr",
          "output_type": "stream",
          "text": [
            "Epoch 138/200 [Training]: 100%|██████████| 819/819 [00:58<00:00, 14.00batch/s, MAE=0.187, MSE=0.0714]\n",
            "Epoch 138/200 [Validation]: 100%|██████████| 102/102 [00:01<00:00, 54.37batch/s, MAE=0.173, MSE=0.0776]\n"
          ]
        },
        {
          "metadata": {
            "tags": null
          },
          "name": "stdout",
          "output_type": "stream",
          "text": [
            "\n",
            "Epoch 138/200 Summary:\n",
            "  LR: 0.000000\n",
            "  Train MSE: 0.058216, RMSE: 0.241279, MAE: 0.169204\n",
            "  Val   MSE: 0.049856, RMSE: 0.223285, MAE: 0.135541\n",
            "--------------------------------------------------\n"
          ]
        },
        {
          "metadata": {
            "tags": null
          },
          "name": "stderr",
          "output_type": "stream",
          "text": [
            "Epoch 139/200 [Training]: 100%|██████████| 819/819 [00:59<00:00, 13.76batch/s, MAE=0.167, MSE=0.0556]\n",
            "Epoch 139/200 [Validation]: 100%|██████████| 102/102 [00:02<00:00, 47.41batch/s, MAE=0.173, MSE=0.0777]\n"
          ]
        },
        {
          "metadata": {
            "tags": null
          },
          "name": "stdout",
          "output_type": "stream",
          "text": [
            "\n",
            "Epoch 139/200 Summary:\n",
            "  LR: 0.000000\n",
            "  Train MSE: 0.058285, RMSE: 0.241423, MAE: 0.169291\n",
            "  Val   MSE: 0.049853, RMSE: 0.223278, MAE: 0.135532\n",
            "--------------------------------------------------\n"
          ]
        },
        {
          "metadata": {
            "tags": null
          },
          "name": "stderr",
          "output_type": "stream",
          "text": [
            "Epoch 140/200 [Training]: 100%|██████████| 819/819 [00:57<00:00, 14.14batch/s, MAE=0.147, MSE=0.0454]\n",
            "Epoch 140/200 [Validation]: 100%|██████████| 102/102 [00:02<00:00, 49.32batch/s, MAE=0.173, MSE=0.0777]\n"
          ]
        },
        {
          "metadata": {
            "tags": null
          },
          "name": "stdout",
          "output_type": "stream",
          "text": [
            "\n",
            "Epoch 140/200 Summary:\n",
            "  LR: 0.000000\n",
            "  Train MSE: 0.058287, RMSE: 0.241428, MAE: 0.169407\n",
            "  Val   MSE: 0.049849, RMSE: 0.223269, MAE: 0.135551\n",
            "--------------------------------------------------\n"
          ]
        },
        {
          "metadata": {
            "tags": null
          },
          "name": "stderr",
          "output_type": "stream",
          "text": [
            "Epoch 141/200 [Training]: 100%|██████████| 819/819 [00:57<00:00, 14.15batch/s, MAE=0.171, MSE=0.0631]\n",
            "Epoch 141/200 [Validation]: 100%|██████████| 102/102 [00:01<00:00, 51.83batch/s, MAE=0.173, MSE=0.0777]\n"
          ]
        },
        {
          "metadata": {
            "tags": null
          },
          "name": "stdout",
          "output_type": "stream",
          "text": [
            "\n",
            "Epoch 141/200 Summary:\n",
            "  LR: 0.000000\n",
            "  Train MSE: 0.058208, RMSE: 0.241263, MAE: 0.169309\n",
            "  Val   MSE: 0.049841, RMSE: 0.223250, MAE: 0.135533\n",
            "--------------------------------------------------\n"
          ]
        },
        {
          "metadata": {
            "tags": null
          },
          "name": "stderr",
          "output_type": "stream",
          "text": [
            "Epoch 142/200 [Training]: 100%|██████████| 819/819 [00:58<00:00, 14.06batch/s, MAE=0.167, MSE=0.0591]\n",
            "Epoch 142/200 [Validation]: 100%|██████████| 102/102 [00:01<00:00, 52.89batch/s, MAE=0.173, MSE=0.0777]\n"
          ]
        },
        {
          "metadata": {
            "tags": null
          },
          "name": "stdout",
          "output_type": "stream",
          "text": [
            "\n",
            "Epoch 142/200 Summary:\n",
            "  LR: 0.000000\n",
            "  Train MSE: 0.058388, RMSE: 0.241636, MAE: 0.169508\n",
            "  Val   MSE: 0.049863, RMSE: 0.223300, MAE: 0.135517\n",
            "--------------------------------------------------\n"
          ]
        },
        {
          "metadata": {
            "tags": null
          },
          "name": "stderr",
          "output_type": "stream",
          "text": [
            "Epoch 143/200 [Training]: 100%|██████████| 819/819 [00:58<00:00, 14.10batch/s, MAE=0.182, MSE=0.0649]\n",
            "Epoch 143/200 [Validation]: 100%|██████████| 102/102 [00:01<00:00, 54.73batch/s, MAE=0.173, MSE=0.0776]\n"
          ]
        },
        {
          "metadata": {
            "tags": null
          },
          "name": "stdout",
          "output_type": "stream",
          "text": [
            "\n",
            "Epoch 143/200 Summary:\n",
            "  LR: 0.000000\n",
            "  Train MSE: 0.058310, RMSE: 0.241475, MAE: 0.169389\n",
            "  Val   MSE: 0.049866, RMSE: 0.223306, MAE: 0.135497\n",
            "--------------------------------------------------\n"
          ]
        },
        {
          "metadata": {
            "tags": null
          },
          "name": "stderr",
          "output_type": "stream",
          "text": [
            "Epoch 144/200 [Training]: 100%|██████████| 819/819 [00:58<00:00, 14.10batch/s, MAE=0.167, MSE=0.0582]\n",
            "Epoch 144/200 [Validation]: 100%|██████████| 102/102 [00:01<00:00, 54.81batch/s, MAE=0.173, MSE=0.0776]\n"
          ]
        },
        {
          "metadata": {
            "tags": null
          },
          "name": "stdout",
          "output_type": "stream",
          "text": [
            "\n",
            "Epoch 144/200 Summary:\n",
            "  LR: 0.000000\n",
            "  Train MSE: 0.058269, RMSE: 0.241390, MAE: 0.169337\n",
            "  Val   MSE: 0.049873, RMSE: 0.223323, MAE: 0.135516\n",
            "--------------------------------------------------\n"
          ]
        },
        {
          "metadata": {
            "tags": null
          },
          "name": "stderr",
          "output_type": "stream",
          "text": [
            "Epoch 145/200 [Training]: 100%|██████████| 819/819 [00:58<00:00, 14.08batch/s, MAE=0.164, MSE=0.0573]\n",
            "Epoch 145/200 [Validation]: 100%|██████████| 102/102 [00:01<00:00, 55.58batch/s, MAE=0.173, MSE=0.0777]\n"
          ]
        },
        {
          "metadata": {
            "tags": null
          },
          "name": "stdout",
          "output_type": "stream",
          "text": [
            "\n",
            "Epoch 145/200 Summary:\n",
            "  LR: 0.000000\n",
            "  Train MSE: 0.058360, RMSE: 0.241578, MAE: 0.169451\n",
            "  Val   MSE: 0.049857, RMSE: 0.223288, MAE: 0.135525\n",
            "--------------------------------------------------\n"
          ]
        },
        {
          "metadata": {
            "tags": null
          },
          "name": "stderr",
          "output_type": "stream",
          "text": [
            "Epoch 146/200 [Training]: 100%|██████████| 819/819 [00:57<00:00, 14.13batch/s, MAE=0.174, MSE=0.0614]\n",
            "Epoch 146/200 [Validation]: 100%|██████████| 102/102 [00:01<00:00, 54.58batch/s, MAE=0.173, MSE=0.0777]\n"
          ]
        },
        {
          "metadata": {
            "tags": null
          },
          "name": "stdout",
          "output_type": "stream",
          "text": [
            "\n",
            "Epoch 146/200 Summary:\n",
            "  LR: 0.000000\n",
            "  Train MSE: 0.058263, RMSE: 0.241378, MAE: 0.169334\n",
            "  Val   MSE: 0.049846, RMSE: 0.223261, MAE: 0.135510\n",
            "--------------------------------------------------\n"
          ]
        },
        {
          "metadata": {
            "tags": null
          },
          "name": "stderr",
          "output_type": "stream",
          "text": [
            "Epoch 147/200 [Training]: 100%|██████████| 819/819 [00:57<00:00, 14.15batch/s, MAE=0.157, MSE=0.0473]\n",
            "Epoch 147/200 [Validation]: 100%|██████████| 102/102 [00:01<00:00, 54.29batch/s, MAE=0.173, MSE=0.0778]\n"
          ]
        },
        {
          "metadata": {
            "tags": null
          },
          "name": "stdout",
          "output_type": "stream",
          "text": [
            "\n",
            "Epoch 147/200 Summary:\n",
            "  LR: 0.000000\n",
            "  Train MSE: 0.058213, RMSE: 0.241274, MAE: 0.169411\n",
            "  Val   MSE: 0.049819, RMSE: 0.223201, MAE: 0.135478\n",
            "--------------------------------------------------\n"
          ]
        },
        {
          "metadata": {
            "tags": null
          },
          "name": "stderr",
          "output_type": "stream",
          "text": [
            "Epoch 148/200 [Training]: 100%|██████████| 819/819 [00:59<00:00, 13.83batch/s, MAE=0.186, MSE=0.0733]\n",
            "Epoch 148/200 [Validation]: 100%|██████████| 102/102 [00:01<00:00, 55.31batch/s, MAE=0.173, MSE=0.0778]\n"
          ]
        },
        {
          "metadata": {
            "tags": null
          },
          "name": "stdout",
          "output_type": "stream",
          "text": [
            "\n",
            "Epoch 148/200 Summary:\n",
            "  LR: 0.000000\n",
            "  Train MSE: 0.058156, RMSE: 0.241155, MAE: 0.169254\n",
            "  Val   MSE: 0.049821, RMSE: 0.223207, MAE: 0.135476\n",
            "--------------------------------------------------\n"
          ]
        },
        {
          "metadata": {
            "tags": null
          },
          "name": "stderr",
          "output_type": "stream",
          "text": [
            "Epoch 149/200 [Training]: 100%|██████████| 819/819 [00:58<00:00, 14.10batch/s, MAE=0.163, MSE=0.0556]\n",
            "Epoch 149/200 [Validation]: 100%|██████████| 102/102 [00:01<00:00, 54.72batch/s, MAE=0.173, MSE=0.0776]\n"
          ]
        },
        {
          "metadata": {
            "tags": null
          },
          "name": "stdout",
          "output_type": "stream",
          "text": [
            "\n",
            "Epoch 149/200 Summary:\n",
            "  LR: 0.000000\n",
            "  Train MSE: 0.058285, RMSE: 0.241423, MAE: 0.169438\n",
            "  Val   MSE: 0.049852, RMSE: 0.223276, MAE: 0.135468\n",
            "--------------------------------------------------\n"
          ]
        },
        {
          "metadata": {
            "tags": null
          },
          "name": "stderr",
          "output_type": "stream",
          "text": [
            "Epoch 150/200 [Training]: 100%|██████████| 819/819 [00:57<00:00, 14.16batch/s, MAE=0.17, MSE=0.0555]\n",
            "Epoch 150/200 [Validation]: 100%|██████████| 102/102 [00:01<00:00, 54.39batch/s, MAE=0.173, MSE=0.0776]\n"
          ]
        },
        {
          "metadata": {
            "tags": null
          },
          "name": "stdout",
          "output_type": "stream",
          "text": [
            "\n",
            "Epoch 150/200 Summary:\n",
            "  LR: 0.000000\n",
            "  Train MSE: 0.058269, RMSE: 0.241391, MAE: 0.169143\n",
            "  Val   MSE: 0.049844, RMSE: 0.223259, MAE: 0.135468\n",
            "--------------------------------------------------\n"
          ]
        },
        {
          "metadata": {
            "tags": null
          },
          "name": "stderr",
          "output_type": "stream",
          "text": [
            "Epoch 151/200 [Training]: 100%|██████████| 819/819 [00:58<00:00, 14.11batch/s, MAE=0.169, MSE=0.0552]\n",
            "Epoch 151/200 [Validation]: 100%|██████████| 102/102 [00:01<00:00, 54.80batch/s, MAE=0.173, MSE=0.0776]\n"
          ]
        },
        {
          "metadata": {
            "tags": null
          },
          "name": "stdout",
          "output_type": "stream",
          "text": [
            "\n",
            "Epoch 151/200 Summary:\n",
            "  LR: 0.000000\n",
            "  Train MSE: 0.058302, RMSE: 0.241459, MAE: 0.169329\n",
            "  Val   MSE: 0.049855, RMSE: 0.223283, MAE: 0.135483\n",
            "--------------------------------------------------\n"
          ]
        },
        {
          "metadata": {
            "tags": null
          },
          "name": "stderr",
          "output_type": "stream",
          "text": [
            "Epoch 152/200 [Training]: 100%|██████████| 819/819 [00:57<00:00, 14.15batch/s, MAE=0.17, MSE=0.0576]\n",
            "Epoch 152/200 [Validation]: 100%|██████████| 102/102 [00:01<00:00, 54.57batch/s, MAE=0.173, MSE=0.0776]\n"
          ]
        },
        {
          "metadata": {
            "tags": null
          },
          "name": "stdout",
          "output_type": "stream",
          "text": [
            "\n",
            "Epoch 152/200 Summary:\n",
            "  LR: 0.000000\n",
            "  Train MSE: 0.058281, RMSE: 0.241414, MAE: 0.169185\n",
            "  Val   MSE: 0.049850, RMSE: 0.223271, MAE: 0.135482\n",
            "--------------------------------------------------\n"
          ]
        },
        {
          "metadata": {
            "tags": null
          },
          "name": "stderr",
          "output_type": "stream",
          "text": [
            "Epoch 153/200 [Training]: 100%|██████████| 819/819 [00:57<00:00, 14.13batch/s, MAE=0.153, MSE=0.0516]\n",
            "Epoch 153/200 [Validation]: 100%|██████████| 102/102 [00:01<00:00, 54.88batch/s, MAE=0.173, MSE=0.0777]\n"
          ]
        },
        {
          "metadata": {
            "tags": null
          },
          "name": "stdout",
          "output_type": "stream",
          "text": [
            "\n",
            "Epoch 153/200 Summary:\n",
            "  LR: 0.000000\n",
            "  Train MSE: 0.058199, RMSE: 0.241245, MAE: 0.169033\n",
            "  Val   MSE: 0.049848, RMSE: 0.223266, MAE: 0.135495\n",
            "--------------------------------------------------\n"
          ]
        },
        {
          "metadata": {
            "tags": null
          },
          "name": "stderr",
          "output_type": "stream",
          "text": [
            "Epoch 154/200 [Training]: 100%|██████████| 819/819 [00:57<00:00, 14.12batch/s, MAE=0.173, MSE=0.0593]\n",
            "Epoch 154/200 [Validation]: 100%|██████████| 102/102 [00:01<00:00, 54.41batch/s, MAE=0.173, MSE=0.0776]\n"
          ]
        },
        {
          "metadata": {
            "tags": null
          },
          "name": "stdout",
          "output_type": "stream",
          "text": [
            "\n",
            "Epoch 154/200 Summary:\n",
            "  LR: 0.000000\n",
            "  Train MSE: 0.058183, RMSE: 0.241212, MAE: 0.169288\n",
            "  Val   MSE: 0.049880, RMSE: 0.223338, MAE: 0.135504\n",
            "--------------------------------------------------\n"
          ]
        },
        {
          "metadata": {
            "tags": null
          },
          "name": "stderr",
          "output_type": "stream",
          "text": [
            "Epoch 155/200 [Training]: 100%|██████████| 819/819 [00:57<00:00, 14.17batch/s, MAE=0.167, MSE=0.0552]\n",
            "Epoch 155/200 [Validation]: 100%|██████████| 102/102 [00:01<00:00, 54.63batch/s, MAE=0.173, MSE=0.0776]\n"
          ]
        },
        {
          "metadata": {
            "tags": null
          },
          "name": "stdout",
          "output_type": "stream",
          "text": [
            "\n",
            "Epoch 155/200 Summary:\n",
            "  LR: 0.000000\n",
            "  Train MSE: 0.058281, RMSE: 0.241416, MAE: 0.169277\n",
            "  Val   MSE: 0.049859, RMSE: 0.223291, MAE: 0.135488\n",
            "--------------------------------------------------\n"
          ]
        },
        {
          "metadata": {
            "tags": null
          },
          "name": "stderr",
          "output_type": "stream",
          "text": [
            "Epoch 156/200 [Training]: 100%|██████████| 819/819 [00:58<00:00, 14.11batch/s, MAE=0.188, MSE=0.0713]\n",
            "Epoch 156/200 [Validation]: 100%|██████████| 102/102 [00:01<00:00, 54.45batch/s, MAE=0.173, MSE=0.0775]\n"
          ]
        },
        {
          "metadata": {
            "tags": null
          },
          "name": "stdout",
          "output_type": "stream",
          "text": [
            "\n",
            "Epoch 156/200 Summary:\n",
            "  LR: 0.000000\n",
            "  Train MSE: 0.058412, RMSE: 0.241686, MAE: 0.169477\n",
            "  Val   MSE: 0.049878, RMSE: 0.223335, MAE: 0.135487\n",
            "--------------------------------------------------\n"
          ]
        },
        {
          "metadata": {
            "tags": null
          },
          "name": "stderr",
          "output_type": "stream",
          "text": [
            "Epoch 157/200 [Training]: 100%|██████████| 819/819 [00:58<00:00, 14.06batch/s, MAE=0.179, MSE=0.0646]\n",
            "Epoch 157/200 [Validation]: 100%|██████████| 102/102 [00:01<00:00, 54.96batch/s, MAE=0.173, MSE=0.0776]\n"
          ]
        },
        {
          "metadata": {
            "tags": null
          },
          "name": "stdout",
          "output_type": "stream",
          "text": [
            "\n",
            "Epoch 157/200 Summary:\n",
            "  LR: 0.000000\n",
            "  Train MSE: 0.058300, RMSE: 0.241454, MAE: 0.169421\n",
            "  Val   MSE: 0.049872, RMSE: 0.223320, MAE: 0.135486\n",
            "--------------------------------------------------\n"
          ]
        },
        {
          "metadata": {
            "tags": null
          },
          "name": "stderr",
          "output_type": "stream",
          "text": [
            "Epoch 158/200 [Training]: 100%|██████████| 819/819 [00:58<00:00, 14.10batch/s, MAE=0.197, MSE=0.0754]\n",
            "Epoch 158/200 [Validation]: 100%|██████████| 102/102 [00:01<00:00, 54.14batch/s, MAE=0.173, MSE=0.0775]\n"
          ]
        },
        {
          "metadata": {
            "tags": null
          },
          "name": "stdout",
          "output_type": "stream",
          "text": [
            "\n",
            "Epoch 158/200 Summary:\n",
            "  LR: 0.000000\n",
            "  Train MSE: 0.058178, RMSE: 0.241201, MAE: 0.169333\n",
            "  Val   MSE: 0.049900, RMSE: 0.223383, MAE: 0.135489\n",
            "--------------------------------------------------\n"
          ]
        },
        {
          "metadata": {
            "tags": null
          },
          "name": "stderr",
          "output_type": "stream",
          "text": [
            "Epoch 159/200 [Training]: 100%|██████████| 819/819 [00:59<00:00, 13.85batch/s, MAE=0.178, MSE=0.0664]\n",
            "Epoch 159/200 [Validation]: 100%|██████████| 102/102 [00:01<00:00, 53.76batch/s, MAE=0.173, MSE=0.0776]\n"
          ]
        },
        {
          "metadata": {
            "tags": null
          },
          "name": "stdout",
          "output_type": "stream",
          "text": [
            "\n",
            "Epoch 159/200 Summary:\n",
            "  LR: 0.000000\n",
            "  Train MSE: 0.058063, RMSE: 0.240962, MAE: 0.169017\n",
            "  Val   MSE: 0.049854, RMSE: 0.223280, MAE: 0.135479\n",
            "--------------------------------------------------\n"
          ]
        },
        {
          "metadata": {
            "tags": null
          },
          "name": "stderr",
          "output_type": "stream",
          "text": [
            "Epoch 160/200 [Training]: 100%|██████████| 819/819 [01:00<00:00, 13.54batch/s, MAE=0.154, MSE=0.0515]\n",
            "Epoch 160/200 [Validation]: 100%|██████████| 102/102 [00:01<00:00, 52.11batch/s, MAE=0.173, MSE=0.0776]\n"
          ]
        },
        {
          "metadata": {
            "tags": null
          },
          "name": "stdout",
          "output_type": "stream",
          "text": [
            "\n",
            "Epoch 160/200 Summary:\n",
            "  LR: 0.000000\n",
            "  Train MSE: 0.058248, RMSE: 0.241347, MAE: 0.169165\n",
            "  Val   MSE: 0.049858, RMSE: 0.223288, MAE: 0.135517\n",
            "--------------------------------------------------\n"
          ]
        },
        {
          "metadata": {
            "tags": null
          },
          "name": "stderr",
          "output_type": "stream",
          "text": [
            "Epoch 161/200 [Training]: 100%|██████████| 819/819 [00:58<00:00, 13.89batch/s, MAE=0.181, MSE=0.0662]\n",
            "Epoch 161/200 [Validation]: 100%|██████████| 102/102 [00:01<00:00, 53.94batch/s, MAE=0.173, MSE=0.0776]\n"
          ]
        },
        {
          "metadata": {
            "tags": null
          },
          "name": "stdout",
          "output_type": "stream",
          "text": [
            "\n",
            "Epoch 161/200 Summary:\n",
            "  LR: 0.000000\n",
            "  Train MSE: 0.058204, RMSE: 0.241256, MAE: 0.169206\n",
            "  Val   MSE: 0.049840, RMSE: 0.223249, MAE: 0.135511\n",
            "--------------------------------------------------\n"
          ]
        },
        {
          "metadata": {
            "tags": null
          },
          "name": "stderr",
          "output_type": "stream",
          "text": [
            "Epoch 162/200 [Training]: 100%|██████████| 819/819 [00:58<00:00, 13.96batch/s, MAE=0.159, MSE=0.0493]\n",
            "Epoch 162/200 [Validation]: 100%|██████████| 102/102 [00:01<00:00, 54.13batch/s, MAE=0.173, MSE=0.0776]\n"
          ]
        },
        {
          "metadata": {
            "tags": null
          },
          "name": "stdout",
          "output_type": "stream",
          "text": [
            "\n",
            "Epoch 162/200 Summary:\n",
            "  LR: 0.000000\n",
            "  Train MSE: 0.058181, RMSE: 0.241207, MAE: 0.169051\n",
            "  Val   MSE: 0.049859, RMSE: 0.223292, MAE: 0.135553\n",
            "--------------------------------------------------\n"
          ]
        },
        {
          "metadata": {
            "tags": null
          },
          "name": "stderr",
          "output_type": "stream",
          "text": [
            "Epoch 163/200 [Training]: 100%|██████████| 819/819 [00:58<00:00, 13.89batch/s, MAE=0.188, MSE=0.0728]\n",
            "Epoch 163/200 [Validation]: 100%|██████████| 102/102 [00:01<00:00, 54.59batch/s, MAE=0.173, MSE=0.0776]\n"
          ]
        },
        {
          "metadata": {
            "tags": null
          },
          "name": "stdout",
          "output_type": "stream",
          "text": [
            "\n",
            "Epoch 163/200 Summary:\n",
            "  LR: 0.000000\n",
            "  Train MSE: 0.058234, RMSE: 0.241318, MAE: 0.169432\n",
            "  Val   MSE: 0.049852, RMSE: 0.223276, MAE: 0.135519\n",
            "--------------------------------------------------\n"
          ]
        },
        {
          "metadata": {
            "tags": null
          },
          "name": "stderr",
          "output_type": "stream",
          "text": [
            "Epoch 164/200 [Training]: 100%|██████████| 819/819 [00:59<00:00, 13.74batch/s, MAE=0.165, MSE=0.0538]\n",
            "Epoch 164/200 [Validation]: 100%|██████████| 102/102 [00:01<00:00, 52.05batch/s, MAE=0.173, MSE=0.0778]\n"
          ]
        },
        {
          "metadata": {
            "tags": null
          },
          "name": "stdout",
          "output_type": "stream",
          "text": [
            "\n",
            "Epoch 164/200 Summary:\n",
            "  LR: 0.000000\n",
            "  Train MSE: 0.058158, RMSE: 0.241159, MAE: 0.169306\n",
            "  Val   MSE: 0.049814, RMSE: 0.223191, MAE: 0.135551\n",
            "--------------------------------------------------\n"
          ]
        },
        {
          "metadata": {
            "tags": null
          },
          "name": "stderr",
          "output_type": "stream",
          "text": [
            "Epoch 165/200 [Training]: 100%|██████████| 819/819 [01:00<00:00, 13.63batch/s, MAE=0.176, MSE=0.0667]\n",
            "Epoch 165/200 [Validation]: 100%|██████████| 102/102 [00:01<00:00, 54.05batch/s, MAE=0.173, MSE=0.0776]\n"
          ]
        },
        {
          "metadata": {
            "tags": null
          },
          "name": "stdout",
          "output_type": "stream",
          "text": [
            "\n",
            "Epoch 165/200 Summary:\n",
            "  LR: 0.000000\n",
            "  Train MSE: 0.058321, RMSE: 0.241497, MAE: 0.169489\n",
            "  Val   MSE: 0.049848, RMSE: 0.223267, MAE: 0.135557\n",
            "--------------------------------------------------\n"
          ]
        },
        {
          "metadata": {
            "tags": null
          },
          "name": "stderr",
          "output_type": "stream",
          "text": [
            "Epoch 166/200 [Training]: 100%|██████████| 819/819 [00:59<00:00, 13.76batch/s, MAE=0.168, MSE=0.0587]\n",
            "Epoch 166/200 [Validation]: 100%|██████████| 102/102 [00:01<00:00, 53.16batch/s, MAE=0.173, MSE=0.0776]\n"
          ]
        },
        {
          "metadata": {
            "tags": null
          },
          "name": "stdout",
          "output_type": "stream",
          "text": [
            "\n",
            "Epoch 166/200 Summary:\n",
            "  LR: 0.000000\n",
            "  Train MSE: 0.058167, RMSE: 0.241178, MAE: 0.169284\n",
            "  Val   MSE: 0.049861, RMSE: 0.223295, MAE: 0.135572\n",
            "--------------------------------------------------\n"
          ]
        },
        {
          "metadata": {
            "tags": null
          },
          "name": "stderr",
          "output_type": "stream",
          "text": [
            "Epoch 167/200 [Training]: 100%|██████████| 819/819 [00:59<00:00, 13.87batch/s, MAE=0.16, MSE=0.0516]\n",
            "Epoch 167/200 [Validation]: 100%|██████████| 102/102 [00:02<00:00, 48.23batch/s, MAE=0.173, MSE=0.0775]\n"
          ]
        },
        {
          "metadata": {
            "tags": null
          },
          "name": "stdout",
          "output_type": "stream",
          "text": [
            "\n",
            "Epoch 167/200 Summary:\n",
            "  LR: 0.000000\n",
            "  Train MSE: 0.058172, RMSE: 0.241189, MAE: 0.168996\n",
            "  Val   MSE: 0.049886, RMSE: 0.223351, MAE: 0.135626\n",
            "--------------------------------------------------\n"
          ]
        },
        {
          "metadata": {
            "tags": null
          },
          "name": "stderr",
          "output_type": "stream",
          "text": [
            "Epoch 168/200 [Training]: 100%|██████████| 819/819 [00:57<00:00, 14.24batch/s, MAE=0.152, MSE=0.0463]\n",
            "Epoch 168/200 [Validation]: 100%|██████████| 102/102 [00:02<00:00, 46.94batch/s, MAE=0.173, MSE=0.0776]\n"
          ]
        },
        {
          "metadata": {
            "tags": null
          },
          "name": "stdout",
          "output_type": "stream",
          "text": [
            "\n",
            "Epoch 168/200 Summary:\n",
            "  LR: 0.000000\n",
            "  Train MSE: 0.058456, RMSE: 0.241776, MAE: 0.169499\n",
            "  Val   MSE: 0.049862, RMSE: 0.223299, MAE: 0.135630\n",
            "--------------------------------------------------\n"
          ]
        },
        {
          "metadata": {
            "tags": null
          },
          "name": "stderr",
          "output_type": "stream",
          "text": [
            "Epoch 169/200 [Training]: 100%|██████████| 819/819 [00:57<00:00, 14.29batch/s, MAE=0.178, MSE=0.0656]\n",
            "Epoch 169/200 [Validation]: 100%|██████████| 102/102 [00:02<00:00, 47.14batch/s, MAE=0.173, MSE=0.0776]\n"
          ]
        },
        {
          "metadata": {
            "tags": null
          },
          "name": "stdout",
          "output_type": "stream",
          "text": [
            "\n",
            "Epoch 169/200 Summary:\n",
            "  LR: 0.000000\n",
            "  Train MSE: 0.058270, RMSE: 0.241391, MAE: 0.169438\n",
            "  Val   MSE: 0.049849, RMSE: 0.223270, MAE: 0.135613\n",
            "--------------------------------------------------\n"
          ]
        },
        {
          "metadata": {
            "tags": null
          },
          "name": "stderr",
          "output_type": "stream",
          "text": [
            "Epoch 170/200 [Training]: 100%|██████████| 819/819 [00:57<00:00, 14.27batch/s, MAE=0.158, MSE=0.0517]\n",
            "Epoch 170/200 [Validation]: 100%|██████████| 102/102 [00:02<00:00, 46.00batch/s, MAE=0.173, MSE=0.0775]\n"
          ]
        },
        {
          "metadata": {
            "tags": null
          },
          "name": "stdout",
          "output_type": "stream",
          "text": [
            "\n",
            "Epoch 170/200 Summary:\n",
            "  LR: 0.000000\n",
            "  Train MSE: 0.058233, RMSE: 0.241315, MAE: 0.169065\n",
            "  Val   MSE: 0.049878, RMSE: 0.223335, MAE: 0.135619\n",
            "--------------------------------------------------\n"
          ]
        },
        {
          "metadata": {
            "tags": null
          },
          "name": "stderr",
          "output_type": "stream",
          "text": [
            "Epoch 171/200 [Training]: 100%|██████████| 819/819 [00:57<00:00, 14.21batch/s, MAE=0.162, MSE=0.0514]\n",
            "Epoch 171/200 [Validation]: 100%|██████████| 102/102 [00:02<00:00, 45.18batch/s, MAE=0.173, MSE=0.0776]\n"
          ]
        },
        {
          "metadata": {
            "tags": null
          },
          "name": "stdout",
          "output_type": "stream",
          "text": [
            "\n",
            "Epoch 171/200 Summary:\n",
            "  LR: 0.000000\n",
            "  Train MSE: 0.058108, RMSE: 0.241057, MAE: 0.169262\n",
            "  Val   MSE: 0.049852, RMSE: 0.223276, MAE: 0.135587\n",
            "--------------------------------------------------\n"
          ]
        },
        {
          "metadata": {
            "tags": null
          },
          "name": "stderr",
          "output_type": "stream",
          "text": [
            "Epoch 172/200 [Training]: 100%|██████████| 819/819 [00:57<00:00, 14.19batch/s, MAE=0.157, MSE=0.0498]\n",
            "Epoch 172/200 [Validation]: 100%|██████████| 102/102 [00:02<00:00, 42.89batch/s, MAE=0.173, MSE=0.0776]\n"
          ]
        },
        {
          "metadata": {
            "tags": null
          },
          "name": "stdout",
          "output_type": "stream",
          "text": [
            "\n",
            "Epoch 172/200 Summary:\n",
            "  LR: 0.000000\n",
            "  Train MSE: 0.058151, RMSE: 0.241146, MAE: 0.169071\n",
            "  Val   MSE: 0.049842, RMSE: 0.223252, MAE: 0.135597\n",
            "--------------------------------------------------\n"
          ]
        },
        {
          "metadata": {
            "tags": null
          },
          "name": "stderr",
          "output_type": "stream",
          "text": [
            "Epoch 173/200 [Training]: 100%|██████████| 819/819 [00:57<00:00, 14.25batch/s, MAE=0.187, MSE=0.0667]\n",
            "Epoch 173/200 [Validation]: 100%|██████████| 102/102 [00:02<00:00, 43.80batch/s, MAE=0.173, MSE=0.0776]\n"
          ]
        },
        {
          "metadata": {
            "tags": null
          },
          "name": "stdout",
          "output_type": "stream",
          "text": [
            "\n",
            "Epoch 173/200 Summary:\n",
            "  LR: 0.000000\n",
            "  Train MSE: 0.058223, RMSE: 0.241295, MAE: 0.169279\n",
            "  Val   MSE: 0.049850, RMSE: 0.223272, MAE: 0.135597\n",
            "--------------------------------------------------\n"
          ]
        },
        {
          "metadata": {
            "tags": null
          },
          "name": "stderr",
          "output_type": "stream",
          "text": [
            "Epoch 174/200 [Training]: 100%|██████████| 819/819 [00:57<00:00, 14.22batch/s, MAE=0.179, MSE=0.0631]\n",
            "Epoch 174/200 [Validation]: 100%|██████████| 102/102 [00:02<00:00, 41.24batch/s, MAE=0.173, MSE=0.0776]\n"
          ]
        },
        {
          "metadata": {
            "tags": null
          },
          "name": "stdout",
          "output_type": "stream",
          "text": [
            "\n",
            "Epoch 174/200 Summary:\n",
            "  LR: 0.000000\n",
            "  Train MSE: 0.058140, RMSE: 0.241121, MAE: 0.169305\n",
            "  Val   MSE: 0.049845, RMSE: 0.223259, MAE: 0.135602\n",
            "--------------------------------------------------\n"
          ]
        },
        {
          "metadata": {
            "tags": null
          },
          "name": "stderr",
          "output_type": "stream",
          "text": [
            "Epoch 175/200 [Training]: 100%|██████████| 819/819 [00:56<00:00, 14.39batch/s, MAE=0.175, MSE=0.0606]\n",
            "Epoch 175/200 [Validation]: 100%|██████████| 102/102 [00:02<00:00, 44.01batch/s, MAE=0.173, MSE=0.0775]\n"
          ]
        },
        {
          "metadata": {
            "tags": null
          },
          "name": "stdout",
          "output_type": "stream",
          "text": [
            "\n",
            "Epoch 175/200 Summary:\n",
            "  LR: 0.000000\n",
            "  Train MSE: 0.058327, RMSE: 0.241510, MAE: 0.169467\n",
            "  Val   MSE: 0.049866, RMSE: 0.223306, MAE: 0.135591\n",
            "--------------------------------------------------\n"
          ]
        },
        {
          "metadata": {
            "tags": null
          },
          "name": "stderr",
          "output_type": "stream",
          "text": [
            "Epoch 176/200 [Training]: 100%|██████████| 819/819 [00:57<00:00, 14.30batch/s, MAE=0.195, MSE=0.0815]\n",
            "Epoch 176/200 [Validation]: 100%|██████████| 102/102 [00:02<00:00, 45.01batch/s, MAE=0.173, MSE=0.0776]\n"
          ]
        },
        {
          "metadata": {
            "tags": null
          },
          "name": "stdout",
          "output_type": "stream",
          "text": [
            "\n",
            "Epoch 176/200 Summary:\n",
            "  LR: 0.000000\n",
            "  Train MSE: 0.058027, RMSE: 0.240889, MAE: 0.168887\n",
            "  Val   MSE: 0.049848, RMSE: 0.223267, MAE: 0.135596\n",
            "--------------------------------------------------\n"
          ]
        },
        {
          "metadata": {
            "tags": null
          },
          "name": "stderr",
          "output_type": "stream",
          "text": [
            "Epoch 177/200 [Training]: 100%|██████████| 819/819 [00:57<00:00, 14.24batch/s, MAE=0.178, MSE=0.0641]\n",
            "Epoch 177/200 [Validation]: 100%|██████████| 102/102 [00:02<00:00, 44.56batch/s, MAE=0.173, MSE=0.0776]\n"
          ]
        },
        {
          "metadata": {
            "tags": null
          },
          "name": "stdout",
          "output_type": "stream",
          "text": [
            "\n",
            "Epoch 177/200 Summary:\n",
            "  LR: 0.000000\n",
            "  Train MSE: 0.058385, RMSE: 0.241629, MAE: 0.169528\n",
            "  Val   MSE: 0.049831, RMSE: 0.223229, MAE: 0.135558\n",
            "--------------------------------------------------\n"
          ]
        },
        {
          "metadata": {
            "tags": null
          },
          "name": "stderr",
          "output_type": "stream",
          "text": [
            "Epoch 178/200 [Training]: 100%|██████████| 819/819 [00:57<00:00, 14.19batch/s, MAE=0.175, MSE=0.0691]\n",
            "Epoch 178/200 [Validation]: 100%|██████████| 102/102 [00:02<00:00, 41.34batch/s, MAE=0.173, MSE=0.0776]\n"
          ]
        },
        {
          "metadata": {
            "tags": null
          },
          "name": "stdout",
          "output_type": "stream",
          "text": [
            "\n",
            "Epoch 178/200 Summary:\n",
            "  LR: 0.000000\n",
            "  Train MSE: 0.058318, RMSE: 0.241492, MAE: 0.169297\n",
            "  Val   MSE: 0.049835, RMSE: 0.223238, MAE: 0.135559\n",
            "--------------------------------------------------\n"
          ]
        },
        {
          "metadata": {
            "tags": null
          },
          "name": "stderr",
          "output_type": "stream",
          "text": [
            "Epoch 179/200 [Training]: 100%|██████████| 819/819 [00:58<00:00, 14.10batch/s, MAE=0.153, MSE=0.0469]\n",
            "Epoch 179/200 [Validation]: 100%|██████████| 102/102 [00:02<00:00, 44.18batch/s, MAE=0.173, MSE=0.0774]\n"
          ]
        },
        {
          "metadata": {
            "tags": null
          },
          "name": "stdout",
          "output_type": "stream",
          "text": [
            "\n",
            "Epoch 179/200 Summary:\n",
            "  LR: 0.000000\n",
            "  Train MSE: 0.058355, RMSE: 0.241569, MAE: 0.169318\n",
            "  Val   MSE: 0.049903, RMSE: 0.223391, MAE: 0.135597\n",
            "--------------------------------------------------\n"
          ]
        },
        {
          "metadata": {
            "tags": null
          },
          "name": "stderr",
          "output_type": "stream",
          "text": [
            "Epoch 180/200 [Training]: 100%|██████████| 819/819 [00:58<00:00, 14.04batch/s, MAE=0.152, MSE=0.048]\n",
            "Epoch 180/200 [Validation]: 100%|██████████| 102/102 [00:02<00:00, 49.09batch/s, MAE=0.173, MSE=0.0774]\n"
          ]
        },
        {
          "metadata": {
            "tags": null
          },
          "name": "stdout",
          "output_type": "stream",
          "text": [
            "\n",
            "Epoch 180/200 Summary:\n",
            "  LR: 0.000000\n",
            "  Train MSE: 0.058323, RMSE: 0.241501, MAE: 0.169512\n",
            "  Val   MSE: 0.049867, RMSE: 0.223310, MAE: 0.135584\n",
            "--------------------------------------------------\n"
          ]
        },
        {
          "metadata": {
            "tags": null
          },
          "name": "stderr",
          "output_type": "stream",
          "text": [
            "Epoch 181/200 [Training]: 100%|██████████| 819/819 [00:58<00:00, 14.06batch/s, MAE=0.184, MSE=0.0732]\n",
            "Epoch 181/200 [Validation]: 100%|██████████| 102/102 [00:01<00:00, 54.08batch/s, MAE=0.173, MSE=0.0775]\n"
          ]
        },
        {
          "metadata": {
            "tags": null
          },
          "name": "stdout",
          "output_type": "stream",
          "text": [
            "\n",
            "Epoch 181/200 Summary:\n",
            "  LR: 0.000000\n",
            "  Train MSE: 0.058226, RMSE: 0.241301, MAE: 0.169380\n",
            "  Val   MSE: 0.049843, RMSE: 0.223256, MAE: 0.135555\n",
            "--------------------------------------------------\n"
          ]
        },
        {
          "metadata": {
            "tags": null
          },
          "name": "stderr",
          "output_type": "stream",
          "text": [
            "Epoch 182/200 [Training]: 100%|██████████| 819/819 [00:58<00:00, 13.98batch/s, MAE=0.179, MSE=0.0644]\n",
            "Epoch 182/200 [Validation]: 100%|██████████| 102/102 [00:01<00:00, 54.88batch/s, MAE=0.173, MSE=0.0775]\n"
          ]
        },
        {
          "metadata": {
            "tags": null
          },
          "name": "stdout",
          "output_type": "stream",
          "text": [
            "\n",
            "Epoch 182/200 Summary:\n",
            "  LR: 0.000000\n",
            "  Train MSE: 0.058220, RMSE: 0.241288, MAE: 0.169272\n",
            "  Val   MSE: 0.049820, RMSE: 0.223205, MAE: 0.135552\n",
            "--------------------------------------------------\n"
          ]
        },
        {
          "metadata": {
            "tags": null
          },
          "name": "stderr",
          "output_type": "stream",
          "text": [
            "Epoch 183/200 [Training]: 100%|██████████| 819/819 [00:58<00:00, 14.07batch/s, MAE=0.17, MSE=0.0604]\n",
            "Epoch 183/200 [Validation]: 100%|██████████| 102/102 [00:01<00:00, 54.32batch/s, MAE=0.173, MSE=0.0774]\n"
          ]
        },
        {
          "metadata": {
            "tags": null
          },
          "name": "stdout",
          "output_type": "stream",
          "text": [
            "\n",
            "Epoch 183/200 Summary:\n",
            "  LR: 0.000000\n",
            "  Train MSE: 0.058174, RMSE: 0.241194, MAE: 0.169337\n",
            "  Val   MSE: 0.049834, RMSE: 0.223234, MAE: 0.135584\n",
            "--------------------------------------------------\n"
          ]
        },
        {
          "output_type": "stream",
          "name": "stderr",
          "text": [
            "Epoch 184/200 [Training]: 100%|██████████| 819/819 [00:59<00:00, 13.87batch/s, MAE=0.157, MSE=0.0523]\n",
            "Epoch 184/200 [Validation]: 100%|██████████| 102/102 [00:01<00:00, 52.05batch/s, MAE=0.173, MSE=0.0775]\n"
          ]
        },
        {
          "output_type": "stream",
          "name": "stdout",
          "text": [
            "\n",
            "Epoch 184/200 Summary:\n",
            "  LR: 0.000000\n",
            "  Train MSE: 0.058304, RMSE: 0.241462, MAE: 0.169535\n",
            "  Val   MSE: 0.049808, RMSE: 0.223177, MAE: 0.135560\n",
            "--------------------------------------------------\n"
          ]
        },
        {
          "output_type": "stream",
          "name": "stderr",
          "text": [
            "Epoch 185/200 [Training]: 100%|██████████| 819/819 [00:59<00:00, 13.83batch/s, MAE=0.166, MSE=0.0565]\n",
            "Epoch 185/200 [Validation]: 100%|██████████| 102/102 [00:01<00:00, 51.52batch/s, MAE=0.173, MSE=0.0774]\n"
          ]
        },
        {
          "output_type": "stream",
          "name": "stdout",
          "text": [
            "\n",
            "Epoch 185/200 Summary:\n",
            "  LR: 0.000000\n",
            "  Train MSE: 0.058277, RMSE: 0.241406, MAE: 0.169277\n",
            "  Val   MSE: 0.049823, RMSE: 0.223212, MAE: 0.135580\n",
            "--------------------------------------------------\n"
          ]
        },
        {
          "output_type": "stream",
          "name": "stderr",
          "text": [
            "Epoch 186/200 [Training]: 100%|██████████| 819/819 [00:59<00:00, 13.86batch/s, MAE=0.162, MSE=0.0546]\n",
            "Epoch 186/200 [Validation]: 100%|██████████| 102/102 [00:01<00:00, 51.71batch/s, MAE=0.173, MSE=0.0774]\n"
          ]
        },
        {
          "output_type": "stream",
          "name": "stdout",
          "text": [
            "\n",
            "Epoch 186/200 Summary:\n",
            "  LR: 0.000000\n",
            "  Train MSE: 0.058177, RMSE: 0.241199, MAE: 0.169226\n",
            "  Val   MSE: 0.049843, RMSE: 0.223257, MAE: 0.135549\n",
            "--------------------------------------------------\n"
          ]
        },
        {
          "output_type": "stream",
          "name": "stderr",
          "text": [
            "Epoch 187/200 [Training]: 100%|██████████| 819/819 [00:59<00:00, 13.80batch/s, MAE=0.161, MSE=0.0543]\n",
            "Epoch 187/200 [Validation]: 100%|██████████| 102/102 [00:02<00:00, 50.79batch/s, MAE=0.173, MSE=0.0774]\n"
          ]
        },
        {
          "output_type": "stream",
          "name": "stdout",
          "text": [
            "\n",
            "Epoch 187/200 Summary:\n",
            "  LR: 0.000000\n",
            "  Train MSE: 0.058262, RMSE: 0.241375, MAE: 0.169023\n",
            "  Val   MSE: 0.049836, RMSE: 0.223239, MAE: 0.135523\n",
            "--------------------------------------------------\n"
          ]
        },
        {
          "output_type": "stream",
          "name": "stderr",
          "text": [
            "Epoch 188/200 [Training]: 100%|██████████| 819/819 [00:58<00:00, 13.98batch/s, MAE=0.165, MSE=0.0535]\n",
            "Epoch 188/200 [Validation]: 100%|██████████| 102/102 [00:02<00:00, 44.32batch/s, MAE=0.173, MSE=0.0774]\n"
          ]
        },
        {
          "output_type": "stream",
          "name": "stdout",
          "text": [
            "\n",
            "Epoch 188/200 Summary:\n",
            "  LR: 0.000000\n",
            "  Train MSE: 0.058068, RMSE: 0.240974, MAE: 0.168804\n",
            "  Val   MSE: 0.049850, RMSE: 0.223272, MAE: 0.135528\n",
            "--------------------------------------------------\n"
          ]
        },
        {
          "output_type": "stream",
          "name": "stderr",
          "text": [
            "Epoch 189/200 [Training]: 100%|██████████| 819/819 [00:58<00:00, 13.95batch/s, MAE=0.164, MSE=0.0567]\n",
            "Epoch 189/200 [Validation]: 100%|██████████| 102/102 [00:02<00:00, 41.58batch/s, MAE=0.173, MSE=0.0775]\n"
          ]
        },
        {
          "output_type": "stream",
          "name": "stdout",
          "text": [
            "\n",
            "Epoch 189/200 Summary:\n",
            "  LR: 0.000000\n",
            "  Train MSE: 0.058302, RMSE: 0.241458, MAE: 0.169414\n",
            "  Val   MSE: 0.049815, RMSE: 0.223192, MAE: 0.135539\n",
            "--------------------------------------------------\n"
          ]
        },
        {
          "output_type": "stream",
          "name": "stderr",
          "text": [
            "Epoch 190/200 [Training]: 100%|██████████| 819/819 [00:58<00:00, 13.93batch/s, MAE=0.179, MSE=0.0688]\n",
            "Epoch 190/200 [Validation]: 100%|██████████| 102/102 [00:02<00:00, 45.96batch/s, MAE=0.173, MSE=0.0775]\n"
          ]
        },
        {
          "output_type": "stream",
          "name": "stdout",
          "text": [
            "\n",
            "Epoch 190/200 Summary:\n",
            "  LR: 0.000000\n",
            "  Train MSE: 0.058203, RMSE: 0.241252, MAE: 0.169226\n",
            "  Val   MSE: 0.049810, RMSE: 0.223182, MAE: 0.135530\n",
            "--------------------------------------------------\n"
          ]
        },
        {
          "output_type": "stream",
          "name": "stderr",
          "text": [
            "Epoch 191/200 [Training]: 100%|██████████| 819/819 [00:59<00:00, 13.84batch/s, MAE=0.16, MSE=0.0544]\n",
            "Epoch 191/200 [Validation]: 100%|██████████| 102/102 [00:01<00:00, 52.23batch/s, MAE=0.173, MSE=0.0775]\n"
          ]
        },
        {
          "output_type": "stream",
          "name": "stdout",
          "text": [
            "\n",
            "Epoch 191/200 Summary:\n",
            "  LR: 0.000000\n",
            "  Train MSE: 0.058310, RMSE: 0.241475, MAE: 0.169427\n",
            "  Val   MSE: 0.049818, RMSE: 0.223199, MAE: 0.135537\n",
            "--------------------------------------------------\n"
          ]
        },
        {
          "output_type": "stream",
          "name": "stderr",
          "text": [
            "Epoch 192/200 [Training]: 100%|██████████| 819/819 [00:59<00:00, 13.82batch/s, MAE=0.158, MSE=0.0512]\n",
            "Epoch 192/200 [Validation]: 100%|██████████| 102/102 [00:01<00:00, 52.05batch/s, MAE=0.173, MSE=0.0775]\n"
          ]
        },
        {
          "output_type": "stream",
          "name": "stdout",
          "text": [
            "\n",
            "Epoch 192/200 Summary:\n",
            "  LR: 0.000000\n",
            "  Train MSE: 0.058247, RMSE: 0.241344, MAE: 0.169277\n",
            "  Val   MSE: 0.049815, RMSE: 0.223193, MAE: 0.135521\n",
            "--------------------------------------------------\n"
          ]
        },
        {
          "output_type": "stream",
          "name": "stderr",
          "text": [
            "Epoch 193/200 [Training]: 100%|██████████| 819/819 [00:59<00:00, 13.87batch/s, MAE=0.173, MSE=0.0569]\n",
            "Epoch 193/200 [Validation]: 100%|██████████| 102/102 [00:01<00:00, 52.00batch/s, MAE=0.173, MSE=0.0774]\n"
          ]
        },
        {
          "output_type": "stream",
          "name": "stdout",
          "text": [
            "\n",
            "Epoch 193/200 Summary:\n",
            "  LR: 0.000000\n",
            "  Train MSE: 0.058183, RMSE: 0.241211, MAE: 0.169233\n",
            "  Val   MSE: 0.049843, RMSE: 0.223256, MAE: 0.135510\n",
            "--------------------------------------------------\n"
          ]
        },
        {
          "output_type": "stream",
          "name": "stderr",
          "text": [
            "Epoch 194/200 [Training]: 100%|██████████| 819/819 [00:59<00:00, 13.85batch/s, MAE=0.178, MSE=0.0568]\n",
            "Epoch 194/200 [Validation]: 100%|██████████| 102/102 [00:01<00:00, 52.18batch/s, MAE=0.173, MSE=0.0774]\n"
          ]
        },
        {
          "output_type": "stream",
          "name": "stdout",
          "text": [
            "\n",
            "Epoch 194/200 Summary:\n",
            "  LR: 0.000000\n",
            "  Train MSE: 0.058136, RMSE: 0.241114, MAE: 0.168987\n",
            "  Val   MSE: 0.049824, RMSE: 0.223212, MAE: 0.135520\n",
            "--------------------------------------------------\n"
          ]
        },
        {
          "output_type": "stream",
          "name": "stderr",
          "text": [
            "Epoch 195/200 [Training]: 100%|██████████| 819/819 [00:59<00:00, 13.88batch/s, MAE=0.182, MSE=0.0684]\n",
            "Epoch 195/200 [Validation]: 100%|██████████| 102/102 [00:01<00:00, 52.23batch/s, MAE=0.173, MSE=0.0775]\n"
          ]
        },
        {
          "output_type": "stream",
          "name": "stdout",
          "text": [
            "\n",
            "Epoch 195/200 Summary:\n",
            "  LR: 0.000000\n",
            "  Train MSE: 0.058160, RMSE: 0.241163, MAE: 0.168846\n",
            "  Val   MSE: 0.049843, RMSE: 0.223255, MAE: 0.135561\n",
            "--------------------------------------------------\n"
          ]
        },
        {
          "output_type": "stream",
          "name": "stderr",
          "text": [
            "Epoch 196/200 [Training]: 100%|██████████| 819/819 [00:59<00:00, 13.86batch/s, MAE=0.165, MSE=0.0546]\n",
            "Epoch 196/200 [Validation]: 100%|██████████| 102/102 [00:01<00:00, 51.97batch/s, MAE=0.173, MSE=0.0774]\n"
          ]
        },
        {
          "output_type": "stream",
          "name": "stdout",
          "text": [
            "\n",
            "Epoch 196/200 Summary:\n",
            "  LR: 0.000000\n",
            "  Train MSE: 0.058312, RMSE: 0.241479, MAE: 0.169334\n",
            "  Val   MSE: 0.049853, RMSE: 0.223277, MAE: 0.135563\n",
            "--------------------------------------------------\n"
          ]
        },
        {
          "output_type": "stream",
          "name": "stderr",
          "text": [
            "Epoch 197/200 [Training]: 100%|██████████| 819/819 [00:59<00:00, 13.77batch/s, MAE=0.151, MSE=0.0441]\n",
            "Epoch 197/200 [Validation]: 100%|██████████| 102/102 [00:02<00:00, 40.03batch/s, MAE=0.173, MSE=0.0774]\n"
          ]
        },
        {
          "output_type": "stream",
          "name": "stdout",
          "text": [
            "\n",
            "Epoch 197/200 Summary:\n",
            "  LR: 0.000000\n",
            "  Train MSE: 0.058267, RMSE: 0.241385, MAE: 0.169384\n",
            "  Val   MSE: 0.049853, RMSE: 0.223278, MAE: 0.135546\n",
            "--------------------------------------------------\n"
          ]
        },
        {
          "output_type": "stream",
          "name": "stderr",
          "text": [
            "Epoch 198/200 [Training]: 100%|██████████| 819/819 [00:58<00:00, 13.91batch/s, MAE=0.177, MSE=0.0606]\n",
            "Epoch 198/200 [Validation]: 100%|██████████| 102/102 [00:02<00:00, 46.65batch/s, MAE=0.173, MSE=0.0775]\n"
          ]
        },
        {
          "output_type": "stream",
          "name": "stdout",
          "text": [
            "\n",
            "Epoch 198/200 Summary:\n",
            "  LR: 0.000000\n",
            "  Train MSE: 0.058200, RMSE: 0.241248, MAE: 0.169094\n",
            "  Val   MSE: 0.049812, RMSE: 0.223187, MAE: 0.135547\n",
            "--------------------------------------------------\n"
          ]
        },
        {
          "output_type": "stream",
          "name": "stderr",
          "text": [
            "Epoch 199/200 [Training]: 100%|██████████| 819/819 [00:58<00:00, 13.93batch/s, MAE=0.166, MSE=0.0586]\n",
            "Epoch 199/200 [Validation]: 100%|██████████| 102/102 [00:01<00:00, 51.13batch/s, MAE=0.173, MSE=0.0775]\n"
          ]
        },
        {
          "output_type": "stream",
          "name": "stdout",
          "text": [
            "\n",
            "Epoch 199/200 Summary:\n",
            "  LR: 0.000000\n",
            "  Train MSE: 0.058392, RMSE: 0.241644, MAE: 0.169588\n",
            "  Val   MSE: 0.049808, RMSE: 0.223176, MAE: 0.135512\n",
            "--------------------------------------------------\n"
          ]
        },
        {
          "output_type": "stream",
          "name": "stderr",
          "text": [
            "Epoch 200/200 [Training]: 100%|██████████| 819/819 [00:58<00:00, 13.95batch/s, MAE=0.161, MSE=0.0509]\n",
            "Epoch 200/200 [Validation]: 100%|██████████| 102/102 [00:01<00:00, 51.30batch/s, MAE=0.173, MSE=0.0775]\n"
          ]
        },
        {
          "output_type": "stream",
          "name": "stdout",
          "text": [
            "\n",
            "Epoch 200/200 Summary:\n",
            "  LR: 0.000000\n",
            "  Train MSE: 0.058061, RMSE: 0.240958, MAE: 0.168807\n",
            "  Val   MSE: 0.049812, RMSE: 0.223186, MAE: 0.135520\n",
            "--------------------------------------------------\n",
            "\n",
            "--- Training Finished ---\n",
            "Best Validation MSE: 0.049601\n",
            "Best Validation RMSE: 0.222713\n",
            "Best Validation MAE: 0.136134\n"
          ]
        },
        {
          "output_type": "display_data",
          "data": {
            "text/plain": [
              "<Figure size 1000x600 with 1 Axes>"
            ],
            "image/png": "[encoded data removed]"
          },
          "metadata": {}
        }
      ]
    },
    {
      "cell_type": "code",
      "source": [
        "# Cell 9: Prediction for Next 24 Hours and Evaluation Plots\n",
        "\n",
        "# Load the best model\n",
        "model.load_state_dict(torch.load('best_msmvan_colab_model.pth'))\n",
        "model.eval()\n",
        "\n",
        "# --- Prediction for next 24 hours ---\n",
        "# Take the last sequence from the original (scaled) data to predict\n",
        "last_sequence_scaled = data_scaled[-SEQ_LENGTH:].reshape(1, SEQ_LENGTH, 1) # (1, SeqLen, 1)\n",
        "last_sequence_tensor = torch.tensor(last_sequence_scaled, dtype=torch.float32).to(DEVICE)\n",
        "\n",
        "with torch.no_grad():\n",
        "    predicted_scaled_24h = model(last_sequence_tensor).cpu().numpy().flatten() # (PredHorizon,)\n",
        "\n",
        "# Inverse transform the prediction\n",
        "predicted_actual_24h = scaler.inverse_transform(predicted_scaled_24h.reshape(-1, 1)).flatten()\n",
        "\n",
        "print(\"\\n--- Predicted Solar Radiation for Next 24 Hours (5-min intervals) ---\")\n",
        "predicted_df = pd.DataFrame({'Time_Step (5-min)': range(1, PREDICTION_HORIZON + 1),\n",
        "                             'Predicted_Solar_Radiation': predicted_actual_24h})\n",
        "print(predicted_df)\n",
        "predicted_df.to_csv(\"predicted_24h_solar_radiation.csv\", index=False)\n",
        "print(\"\\nPredicted 24h data saved to 'predicted_24h_solar_radiation.csv'\")\n",
        "\n",
        "\n",
        "# --- Validation Loss for Various Window Sizes (Illustrative as in paper) ---\n",
        "print(\"\\n--- Illustrative: Validation Loss for Various Window Sizes ---\")\n",
        "# This part is complex as it ideally requires re-training for each window size.\n",
        "# We'll create a conceptual plot based on the current model's performance for its window size.\n",
        "window_sizes_to_test = [24, 48, SEQ_LENGTH, 96, 144] # e.g., 2h, 4h, current, 8h, 12h\n",
        "val_losses_for_windows = {}\n",
        "\n",
        "for ws in window_sizes_to_test:\n",
        "    if ws == SEQ_LENGTH:\n",
        "         val_losses_for_windows[ws] = best_val_mse if best_val_mse != float('inf') else (val_mse_history[-1] if val_mse_history else 0.1)\n",
        "    else:\n",
        "        # For other window sizes, we'd typically re-train.\n",
        "        # Here, we'll use a placeholder value for illustration.\n",
        "        # A more realistic dummy would be higher loss for very small/large windows.\n",
        "        base_loss = best_val_mse if best_val_mse != float('inf') else 0.1\n",
        "        deviation = abs(ws - SEQ_LENGTH) / SEQ_LENGTH # Normalized deviation\n",
        "        val_losses_for_windows[ws] = base_loss * (1 + deviation * 0.5) # Dummy loss\n",
        "        print(f\"Illustrative Val MSE for window size {ws}: {val_losses_for_windows[ws]:.4f} (Dummy value)\")\n",
        "\n",
        "\n",
        "if val_losses_for_windows:\n",
        "    plt.figure(figsize=(10, 6))\n",
        "    sorted_windows = sorted(val_losses_for_windows.keys())\n",
        "    sorted_losses = [val_losses_for_windows[w] for w in sorted_windows]\n",
        "    plt.plot(sorted_windows, sorted_losses, marker='o', linestyle='-')\n",
        "    plt.xlabel(\"Window Size (Number of 5-min intervals)\")\n",
        "    plt.ylabel(\"Best Validation MSE (Illustrative)\")\n",
        "    plt.title(\"Illustrative Validation Loss for Various Window Sizes\")\n",
        "    plt.grid(True)\n",
        "    plt.xticks(window_sizes_to_test)\n",
        "    plt.savefig(\"msmvan_val_loss_window_sizes_colab.png\")\n",
        "    plt.show()\n",
        "\n",
        "\n",
        "# --- Plot Proposed Model Forecast vs Actual (on a segment of test/val data) ---\n",
        "# Use a segment of test_loader or val_loader for this plot\n",
        "plot_loader = test_loader if test_loader and len(test_loader) > 0 else (val_loader if val_loader and len(val_loader) > 0 else None)\n",
        "\n",
        "if plot_loader:\n",
        "    sample_features, sample_targets_scaled = next(iter(plot_loader))\n",
        "    sample_features, sample_targets_scaled = sample_features.to(DEVICE), sample_targets_scaled.to(DEVICE)\n",
        "\n",
        "    with torch.no_grad():\n",
        "        sample_predictions_scaled = model(sample_features)\n",
        "\n",
        "    # Select first sample from batch for plotting\n",
        "    actual_plot_scaled = sample_targets_scaled[0].cpu().numpy().flatten()\n",
        "    predicted_plot_scaled = sample_predictions_scaled[0].cpu().numpy().flatten()\n",
        "\n",
        "    # Inverse transform\n",
        "    actual_plot_inv = scaler.inverse_transform(actual_plot_scaled.reshape(-1, 1)).flatten()\n",
        "    predicted_plot_inv = scaler.inverse_transform(predicted_plot_scaled.reshape(-1, 1)).flatten()\n",
        "\n",
        "    plt.figure(figsize=(15, 7))\n",
        "    time_steps_plot = np.arange(len(actual_plot_inv)) * 5 # Time in minutes\n",
        "    plt.plot(time_steps_plot, actual_plot_inv, label='Actual Solar Radiation', color='blue', marker='.')\n",
        "    plt.plot(time_steps_plot, predicted_plot_inv, label='Predicted Solar Radiation (MSMVAN)', color='red', linestyle='--', marker='x')\n",
        "    plt.xlabel(f\"Time (minutes into {PREDICTION_HORIZON*5/60:.1f}h prediction horizon)\")\n",
        "    plt.ylabel(\"Solar Radiation\")\n",
        "    plt.title(\"MSMVAN Forecast vs Actual (Sample from Test/Val Set)\")\n",
        "    plt.legend()\n",
        "    plt.grid(True)\n",
        "    plt.savefig(\"msmvan_forecast_vs_actual_colab.png\")\n",
        "    plt.show()\n",
        "else:\n",
        "    print(\"Plot loader (test or val) is empty, cannot plot forecast vs actual.\")"
      ],
      "metadata": {
        "colab": {
          "base_uri": "https://localhost:8080/",
          "height": 1000
        },
        "id": "8sbyU5VUiE2X",
        "outputId": "62d5c6f8-368a-408a-f59f-82f706ea3858"
      },
      "execution_count": 10,
      "outputs": [
        {
          "output_type": "stream",
          "name": "stdout",
          "text": [
            "\n",
            "--- Predicted Solar Radiation for Next 24 Hours (5-min intervals) ---\n",
            "     Time_Step (5-min)  Predicted_Solar_Radiation\n",
            "0                    1                   2.702833\n",
            "1                    2                   3.898280\n",
            "2                    3                   3.772861\n",
            "3                    4                   5.044609\n",
            "4                    5                   5.063971\n",
            "..                 ...                        ...\n",
            "283                284                  18.042549\n",
            "284                285                  17.120880\n",
            "285                286                  17.713692\n",
            "286                287                  18.610086\n",
            "287                288                  18.620913\n",
            "\n",
            "[288 rows x 2 columns]\n",
            "\n",
            "Predicted 24h data saved to 'predicted_24h_solar_radiation.csv'\n",
            "\n",
            "--- Illustrative: Validation Loss for Various Window Sizes ---\n",
            "Illustrative Val MSE for window size 24: 0.0661 (Dummy value)\n",
            "Illustrative Val MSE for window size 48: 0.0579 (Dummy value)\n",
            "Illustrative Val MSE for window size 96: 0.0579 (Dummy value)\n",
            "Illustrative Val MSE for window size 144: 0.0744 (Dummy value)\n"
          ]
        },
        {
          "output_type": "display_data",
          "data": {
            "text/plain": [
              "<Figure size 1000x600 with 1 Axes>"
            ],
            "image/png": "[encoded data removed]"
          },
          "metadata": {}
        },
        {
          "output_type": "display_data",
          "data": {
            "text/plain": [
              "<Figure size 1500x700 with 1 Axes>"
            ],
            "image/png": "[encoded data removed]"
          },
          "metadata": {}
        }
      ]
    },
    {
      "cell_type": "code",
      "source": [
        "# Cell 10: RL Agent and Environment (Simplified)\n",
        "import random\n",
        "\n",
        "# --- Simplified RL Configuration ---\n",
        "# (These are very basic for illustration)\n",
        "RL_LEARNING_RATE = 0.1\n",
        "RL_DISCOUNT_FACTOR = 0.9 # Gamma\n",
        "RL_EPSILON = 0.1 # For epsilon-greedy exploration\n",
        "POSSIBLE_SEQ_LENGTHS = [24, 48, SEQ_LENGTH, 96, 144] # SEQ_LENGTH is from MSMVAN config\n",
        "NUM_RL_EPISODES = 100 # Very few for quick demo\n",
        "NUM_RL_STEPS_PER_EPISODE = 20 # How many times the agent makes a decision in an episode\n",
        "\n",
        "# --- Q-Table (State: simplified, Action: index of SEQ_LENGTH) ---\n",
        "# For simplicity, let's define a very coarse state.\n",
        "# State: 0 for low recent error, 1 for high recent error (dummy concept)\n",
        "# This state representation is highly insufficient for a real problem.\n",
        "num_states_rl = 2\n",
        "num_actions_rl = len(POSSIBLE_SEQ_LENGTHS)\n",
        "q_table = np.zeros((num_states_rl, num_actions_rl))\n",
        "\n",
        "# --- RL Helper Functions ---\n",
        "def get_rl_state(recent_msmvan_error):\n",
        "    \"\"\"Simplistic function to get a state for RL.\"\"\"\n",
        "    # This is a placeholder. A real state would be more complex.\n",
        "    # For example, if recent error is above a threshold, state = 1 (high error), else 0 (low error)\n",
        "    threshold = 0.05 # Dummy threshold for scaled MSE\n",
        "    if recent_msmvan_error > threshold:\n",
        "        return 1\n",
        "    else:\n",
        "        return 0\n",
        "\n",
        "def choose_rl_action(state, epsilon):\n",
        "    if random.uniform(0, 1) < epsilon:\n",
        "        return random.choice(range(num_actions_rl))  # Explore\n",
        "    else:\n",
        "        return np.argmax(q_table[state, :])  # Exploit\n",
        "\n",
        "def simulate_msmvan_performance(chosen_seq_len_val, input_data_batch, target_data_batch, model_msmvan, scaler_msmvan, criterion_msmvan, device_msmvan):\n",
        "    \"\"\"\n",
        "    Simulates running MSMVAN with a chosen seq_len and getting a reward (negative error).\n",
        "    This is the most complex part to integrate realistically.\n",
        "    For this demo, we'll need to dynamically create a sequence from input_data_batch.\n",
        "    \"\"\"\n",
        "    model_msmvan.eval() # Ensure model is in eval mode\n",
        "\n",
        "    # We need to re-create features and targets for the chosen_seq_len_val\n",
        "    # This requires access to a longer history than just input_data_batch if chosen_seq_len_val > input_data_batch.shape[1]\n",
        "    # For simplicity, let's assume input_data_batch is a segment of the original scaled data\n",
        "    # and we can form a sequence from it.\n",
        "\n",
        "    # This simulation is tricky. A proper way would be to have a pool of data\n",
        "    # and dynamically create an input sequence of chosen_seq_len_val.\n",
        "    # For this conceptual demo, let's assume input_data_batch IS the sequence of the chosen_seq_len_val\n",
        "    # and we just run inference. This is a BIG simplification.\n",
        "\n",
        "    # If the batch_features passed to this function is already of chosen_seq_len_val\n",
        "    if input_data_batch.shape[1] != chosen_seq_len_val:\n",
        "        # This part needs careful handling: either resample/truncate input_data_batch\n",
        "        # or acknowledge this simulation needs a more robust data pipeline for dynamic seq_len\n",
        "        # print(f\"Warning: Simulating with seq_len {chosen_seq_len_val}, but batch has seq_len {input_data_batch.shape[1]}\")\n",
        "        # For now, let's return a dummy error if seq_len doesn't match to avoid crashing\n",
        "        # In a real system, you'd prepare input_data_batch to match chosen_seq_len_val.\n",
        "        # For this demo, we will just use the FIRST sample of the test_loader (which has fixed SEQ_LENGTH)\n",
        "        # and conceptually \"pretend\" we used the chosen_seq_len_val. The MSMVAN model itself\n",
        "        # is fixed to the original SEQ_LENGTH it was trained with.\n",
        "        # A true dynamic seq_len would require a model that can handle variable input lengths\n",
        "        # or multiple pre-trained models.\n",
        "        pass # We'll use the fixed model and evaluate, reward will be somewhat artificial.\n",
        "\n",
        "\n",
        "    with torch.no_grad():\n",
        "        outputs = model_msmvan(input_data_batch.to(device_msmvan)) # MSMVAN trained with original SEQ_LENGTH\n",
        "\n",
        "        if target_data_batch.ndim == 3 and target_data_batch.shape[-1] == 1:\n",
        "            target_data_batch_squeezed = target_data_batch.squeeze(-1)\n",
        "        else:\n",
        "            target_data_batch_squeezed = target_data_batch\n",
        "\n",
        "        loss_mse = criterion_msmvan(outputs, target_data_batch_squeezed.to(device_msmvan))\n",
        "\n",
        "    # Reward is negative MSE. Higher reward is better.\n",
        "    # Add a small penalty if the chosen_seq_len_val is very different from the model's optimal\n",
        "    # This is highly artificial for this demo.\n",
        "    ideal_seq_len_for_model = model_msmvan.seq_len # Get the seq_len model was trained with\n",
        "    penalty = abs(chosen_seq_len_val - ideal_seq_len_for_model) / ideal_seq_len_for_model * 0.01 # Small penalty\n",
        "\n",
        "    reward = -loss_mse.item() - penalty\n",
        "    return reward, loss_mse.item()\n",
        "\n",
        "\n",
        "print(\"Simplified RL components defined.\")"
      ],
      "metadata": {
        "colab": {
          "base_uri": "https://localhost:8080/"
        },
        "id": "E7GTB8p3irTV",
        "outputId": "f2f23b33-8195-44bd-efbc-6e45f962ba75"
      },
      "execution_count": 11,
      "outputs": [
        {
          "output_type": "stream",
          "name": "stdout",
          "text": [
            "Simplified RL components defined.\n"
          ]
        }
      ]
    },
    {
      "cell_type": "code",
      "source": [
        "# Cell 11: Simplified RL Training Loop (Conceptual)\n",
        "\n",
        "# Load the pre-trained MSMVAN model\n",
        "msmvan_rl_model = MSMVAN_Univariate(\n",
        "    input_size=1, hidden_size_lstm=HIDDEN_SIZE_LSTM, lstm_layers=2,\n",
        "    ffc_out_channels_total=FDCNN_OUT_CHANNELS, attention_units=ATTENTION_UNITS,\n",
        "    pred_horizon=PREDICTION_HORIZON, seq_len=SEQ_LENGTH, # Original SEQ_LENGTH\n",
        "    dropout_rate=DROPOUT_RATE\n",
        ").to(DEVICE)\n",
        "msmvan_rl_model.load_state_dict(torch.load('best_msmvan_colab_model.pth'))\n",
        "msmvan_rl_model.eval() # Set to evaluation mode\n",
        "\n",
        "# Use criterion from MSMVAN training\n",
        "msmvan_criterion = nn.MSELoss()\n",
        "\n",
        "# We need some data to simulate MSMVAN performance. Use test_loader.\n",
        "if not test_loader:\n",
        "    print(\"RL Demo: Test loader is empty. Cannot run RL simulation.\")\n",
        "else:\n",
        "    rl_episode_rewards = []\n",
        "    # Placeholder for recent MSMVAN error to determine RL state\n",
        "    # In a real scenario, this would be updated based on actual MSMVAN performance\n",
        "    current_simulated_msmvan_error = 0.1 # Initial dummy error\n",
        "\n",
        "    print(\"\\n--- Starting Simplified RL Training (Conceptual) ---\")\n",
        "    for episode in range(NUM_RL_EPISODES):\n",
        "        current_rl_state = get_rl_state(current_simulated_msmvan_error)\n",
        "        episode_reward_sum = 0\n",
        "\n",
        "        for step in range(NUM_RL_STEPS_PER_EPISODE):\n",
        "            action_idx = choose_rl_action(current_rl_state, RL_EPSILON)\n",
        "            chosen_seq_length_value = POSSIBLE_SEQ_LENGTHS[action_idx]\n",
        "\n",
        "            # Get a batch of data for MSMVAN simulation\n",
        "            # The MSMVAN model is fixed to its trained SEQ_LENGTH.\n",
        "            # The RL agent *chooses* a conceptual seq_length, and the reward function\n",
        "            # *simulates* or *penalizes* based on this choice relative to the model's fixed nature.\n",
        "            # This is a major simplification.\n",
        "            try:\n",
        "                # Get a fixed batch from test_loader (input will always have original SEQ_LENGTH)\n",
        "                rl_batch_features, rl_batch_targets = next(iter(test_loader))\n",
        "            except StopIteration: # Reset iterator if test_loader is exhausted\n",
        "                test_loader_iter = iter(test_loader)\n",
        "                rl_batch_features, rl_batch_targets = next(test_loader_iter)\n",
        "\n",
        "\n",
        "            # Simulate environment step\n",
        "            # The core challenge: msmvan_rl_model expects input of shape (Batch, SEQ_LENGTH, 1)\n",
        "            # If chosen_seq_length_value is different, we can't directly feed it.\n",
        "            # For this demo, we pass the standard batch, and the reward function might\n",
        "            # artificially consider the chosen_seq_length_value.\n",
        "            reward, msvan_mse_for_step = simulate_msmvan_performance(\n",
        "                chosen_seq_length_value,\n",
        "                rl_batch_features, # This batch has the original SEQ_LENGTH\n",
        "                rl_batch_targets,\n",
        "                msmvan_rl_model,\n",
        "                scaler, # The global scaler object\n",
        "                msmvan_criterion,\n",
        "                DEVICE\n",
        "            )\n",
        "            episode_reward_sum += reward\n",
        "            current_simulated_msmvan_error = msvan_mse_for_step # Update simulated error\n",
        "\n",
        "            # Q-table update (simplified)\n",
        "            # For a real problem, the next_state would be based on the outcome of using chosen_seq_length_value\n",
        "            next_rl_state = get_rl_state(current_simulated_msmvan_error)\n",
        "            old_q_value = q_table[current_rl_state, action_idx]\n",
        "            next_max_q = np.max(q_table[next_rl_state, :])\n",
        "\n",
        "            new_q_value = (1 - RL_LEARNING_RATE) * old_q_value + \\\n",
        "                          RL_LEARNING_RATE * (reward + RL_DISCOUNT_FACTOR * next_max_q)\n",
        "            q_table[current_rl_state, action_idx] = new_q_value\n",
        "\n",
        "            current_rl_state = next_rl_state\n",
        "\n",
        "        rl_episode_rewards.append(episode_reward_sum / NUM_RL_STEPS_PER_EPISODE)\n",
        "        if (episode + 1) % 10 == 0:\n",
        "            print(f\"RL Episode {episode+1}/{NUM_RL_EPISODES}, Avg Reward: {episode_reward_sum / NUM_RL_STEPS_PER_EPISODE:.4f}, Current Epsilon: {RL_EPSILON:.2f}\")\n",
        "\n",
        "        # Decay epsilon (simple decay)\n",
        "        if RL_EPSILON > 0.01:\n",
        "            RL_EPSILON *= 0.99\n",
        "\n",
        "    print(\"--- Simplified RL Training Finished ---\")\n",
        "    print(\"Learned Q-Table (State x Action):\")\n",
        "    print(q_table)\n",
        "\n",
        "    # Plot RL rewards\n",
        "    plt.figure(figsize=(10, 6))\n",
        "    plt.plot(rl_episode_rewards)\n",
        "    plt.xlabel(\"RL Episode\")\n",
        "    plt.ylabel(\"Average Reward per Episode\")\n",
        "    plt.title(\"Simplified RL Agent: Avg Reward Over Episodes\")\n",
        "    plt.grid(True)\n",
        "    plt.savefig(\"simplified_rl_rewards.png\")\n",
        "    plt.show()\n",
        "\n",
        "    # Example: Get optimal action for a given state\n",
        "    optimal_action_low_error_state = np.argmax(q_table[0, :])\n",
        "    optimal_seq_len_low_error = POSSIBLE_SEQ_LENGTHS[optimal_action_low_error_state]\n",
        "    print(f\"RL suggests Seq Length for 'low error' state: {optimal_seq_len_low_error}\")\n",
        "\n",
        "    optimal_action_high_error_state = np.argmax(q_table[1, :])\n",
        "    optimal_seq_len_high_error = POSSIBLE_SEQ_LENGTHS[optimal_action_high_error_state]\n",
        "    print(f\"RL suggests Seq Length for 'high error' state: {optimal_seq_len_high_error}\")"
      ],
      "metadata": {
        "colab": {
          "base_uri": "https://localhost:8080/",
          "height": 876
        },
        "id": "BybqT9FYiuQN",
        "outputId": "e2e7b364-14a1-4cc8-d52b-c36de628ba54"
      },
      "execution_count": 12,
      "outputs": [
        {
          "output_type": "stream",
          "name": "stdout",
          "text": [
            "\n",
            "--- Starting Simplified RL Training (Conceptual) ---\n",
            "RL Episode 10/100, Avg Reward: -0.0853, Current Epsilon: 0.09\n",
            "RL Episode 20/100, Avg Reward: -0.0857, Current Epsilon: 0.08\n",
            "RL Episode 30/100, Avg Reward: -0.0855, Current Epsilon: 0.07\n",
            "RL Episode 40/100, Avg Reward: -0.0853, Current Epsilon: 0.07\n",
            "RL Episode 50/100, Avg Reward: -0.0847, Current Epsilon: 0.06\n",
            "RL Episode 60/100, Avg Reward: -0.0845, Current Epsilon: 0.06\n",
            "RL Episode 70/100, Avg Reward: -0.0840, Current Epsilon: 0.05\n",
            "RL Episode 80/100, Avg Reward: -0.0822, Current Epsilon: 0.05\n",
            "RL Episode 90/100, Avg Reward: -0.0815, Current Epsilon: 0.04\n",
            "RL Episode 100/100, Avg Reward: -0.0818, Current Epsilon: 0.04\n",
            "--- Simplified RL Training Finished ---\n",
            "Learned Q-Table (State x Action):\n",
            "[[ 0.          0.          0.          0.          0.        ]\n",
            " [-0.81420828 -0.81182707 -0.8116107  -0.8119152  -0.81230335]]\n"
          ]
        },
        {
          "output_type": "display_data",
          "data": {
            "text/plain": [
              "<Figure size 1000x600 with 1 Axes>"
            ],
            "image/png": "[encoded data removed]"
          },
          "metadata": {}
        },
        {
          "output_type": "stream",
          "name": "stdout",
          "text": [
            "RL suggests Seq Length for 'low error' state: 24\n",
            "RL suggests Seq Length for 'high error' state: 72\n"
          ]
        }
      ]
    }
  ]
}