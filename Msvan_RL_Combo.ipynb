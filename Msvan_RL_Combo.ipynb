{
  "nbformat": 4,
  "nbformat_minor": 0,
  "metadata": {
    "colab": {
      "provenance": [],
      "gpuType": "T4",
      "authorship_tag": "ABX9TyM3gURC7oiCsZ+a38VZ+gqn",
      "include_colab_link": true
    },
    "kernelspec": {
      "name": "python3",
      "display_name": "Python 3"
    },
    "language_info": {
      "name": "python"
    },
    "accelerator": "GPU"
  },
  "cells": [
    {
      "cell_type": "markdown",
      "metadata": {
        "id": "view-in-github",
        "colab_type": "text"
      },
      "source": [
        "<a href=\"https://colab.research.google.com/github/TAnbiR-638/new/blob/main/Msvan_RL_Combo.ipynb\" target=\"_parent\"><img src=\"https://colab.research.google.com/assets/colab-badge.svg\" alt=\"Open In Colab\"/></a>"
      ]
    },
    {
      "cell_type": "code",
      "execution_count": null,
      "metadata": {
        "colab": {
          "base_uri": "https://localhost:8080/",
          "height": 409
        },
        "id": "XSSfF33y9qWp",
        "outputId": "3d8e1a7e-d1c1-43df-c697-5cfa29e3d9b6"
      },
      "outputs": [
        {
          "output_type": "display_data",
          "data": {
            "text/plain": [
              "<IPython.core.display.HTML object>"
            ],
            "text/html": [
              "\n",
              "     <input type=\"file\" id=\"files-027e4505-552d-4c14-a7aa-5ae0deca61c9\" name=\"files[]\" multiple disabled\n",
              "        style=\"border:none\" />\n",
              "     <output id=\"result-027e4505-552d-4c14-a7aa-5ae0deca61c9\">\n",
              "      Upload widget is only available when the cell has been executed in the\n",
              "      current browser session. Please rerun this cell to enable.\n",
              "      </output>\n",
              "      <script>// Copyright 2017 Google LLC\n",
              "//\n",
              "// Licensed under the Apache License, Version 2.0 (the \"License\");\n",
              "// you may not use this file except in compliance with the License.\n",
              "// You may obtain a copy of the License at\n",
              "//\n",
              "//      http://www.apache.org/licenses/LICENSE-2.0\n",
              "//\n",
              "// Unless required by applicable law or agreed to in writing, software\n",
              "// distributed under the License is distributed on an \"AS IS\" BASIS,\n",
              "// WITHOUT WARRANTIES OR CONDITIONS OF ANY KIND, either express or implied.\n",
              "// See the License for the specific language governing permissions and\n",
              "// limitations under the License.\n",
              "\n",
              "/**\n",
              " * @fileoverview Helpers for google.colab Python module.\n",
              " */\n",
              "(function(scope) {\n",
              "function span(text, styleAttributes = {}) {\n",
              "  const element = document.createElement('span');\n",
              "  element.textContent = text;\n",
              "  for (const key of Object.keys(styleAttributes)) {\n",
              "    element.style[key] = styleAttributes[key];\n",
              "  }\n",
              "  return element;\n",
              "}\n",
              "\n",
              "// Max number of bytes which will be uploaded at a time.\n",
              "const MAX_PAYLOAD_SIZE = 100 * 1024;\n",
              "\n",
              "function _uploadFiles(inputId, outputId) {\n",
              "  const steps = uploadFilesStep(inputId, outputId);\n",
              "  const outputElement = document.getElementById(outputId);\n",
              "  // Cache steps on the outputElement to make it available for the next call\n",
              "  // to uploadFilesContinue from Python.\n",
              "  outputElement.steps = steps;\n",
              "\n",
              "  return _uploadFilesContinue(outputId);\n",
              "}\n",
              "\n",
              "// This is roughly an async generator (not supported in the browser yet),\n",
              "// where there are multiple asynchronous steps and the Python side is going\n",
              "// to poll for completion of each step.\n",
              "// This uses a Promise to block the python side on completion of each step,\n",
              "// then passes the result of the previous step as the input to the next step.\n",
              "function _uploadFilesContinue(outputId) {\n",
              "  const outputElement = document.getElementById(outputId);\n",
              "  const steps = outputElement.steps;\n",
              "\n",
              "  const next = steps.next(outputElement.lastPromiseValue);\n",
              "  return Promise.resolve(next.value.promise).then((value) => {\n",
              "    // Cache the last promise value to make it available to the next\n",
              "    // step of the generator.\n",
              "    outputElement.lastPromiseValue = value;\n",
              "    return next.value.response;\n",
              "  });\n",
              "}\n",
              "\n",
              "/**\n",
              " * Generator function which is called between each async step of the upload\n",
              " * process.\n",
              " * @param {string} inputId Element ID of the input file picker element.\n",
              " * @param {string} outputId Element ID of the output display.\n",
              " * @return {!Iterable<!Object>} Iterable of next steps.\n",
              " */\n",
              "function* uploadFilesStep(inputId, outputId) {\n",
              "  const inputElement = document.getElementById(inputId);\n",
              "  inputElement.disabled = false;\n",
              "\n",
              "  const outputElement = document.getElementById(outputId);\n",
              "  outputElement.innerHTML = '';\n",
              "\n",
              "  const pickedPromise = new Promise((resolve) => {\n",
              "    inputElement.addEventListener('change', (e) => {\n",
              "      resolve(e.target.files);\n",
              "    });\n",
              "  });\n",
              "\n",
              "  const cancel = document.createElement('button');\n",
              "  inputElement.parentElement.appendChild(cancel);\n",
              "  cancel.textContent = 'Cancel upload';\n",
              "  const cancelPromise = new Promise((resolve) => {\n",
              "    cancel.onclick = () => {\n",
              "      resolve(null);\n",
              "    };\n",
              "  });\n",
              "\n",
              "  // Wait for the user to pick the files.\n",
              "  const files = yield {\n",
              "    promise: Promise.race([pickedPromise, cancelPromise]),\n",
              "    response: {\n",
              "      action: 'starting',\n",
              "    }\n",
              "  };\n",
              "\n",
              "  cancel.remove();\n",
              "\n",
              "  // Disable the input element since further picks are not allowed.\n",
              "  inputElement.disabled = true;\n",
              "\n",
              "  if (!files) {\n",
              "    return {\n",
              "      response: {\n",
              "        action: 'complete',\n",
              "      }\n",
              "    };\n",
              "  }\n",
              "\n",
              "  for (const file of files) {\n",
              "    const li = document.createElement('li');\n",
              "    li.append(span(file.name, {fontWeight: 'bold'}));\n",
              "    li.append(span(\n",
              "        `(${file.type || 'n/a'}) - ${file.size} bytes, ` +\n",
              "        `last modified: ${\n",
              "            file.lastModifiedDate ? file.lastModifiedDate.toLocaleDateString() :\n",
              "                                    'n/a'} - `));\n",
              "    const percent = span('0% done');\n",
              "    li.appendChild(percent);\n",
              "\n",
              "    outputElement.appendChild(li);\n",
              "\n",
              "    const fileDataPromise = new Promise((resolve) => {\n",
              "      const reader = new FileReader();\n",
              "      reader.onload = (e) => {\n",
              "        resolve(e.target.result);\n",
              "      };\n",
              "      reader.readAsArrayBuffer(file);\n",
              "    });\n",
              "    // Wait for the data to be ready.\n",
              "    let fileData = yield {\n",
              "      promise: fileDataPromise,\n",
              "      response: {\n",
              "        action: 'continue',\n",
              "      }\n",
              "    };\n",
              "\n",
              "    // Use a chunked sending to avoid message size limits. See b/62115660.\n",
              "    let position = 0;\n",
              "    do {\n",
              "      const length = Math.min(fileData.byteLength - position, MAX_PAYLOAD_SIZE);\n",
              "      const chunk = new Uint8Array(fileData, position, length);\n",
              "      position += length;\n",
              "\n",
              "      const base64 = btoa(String.fromCharCode.apply(null, chunk));\n",
              "      yield {\n",
              "        response: {\n",
              "          action: 'append',\n",
              "          file: file.name,\n",
              "          data: base64,\n",
              "        },\n",
              "      };\n",
              "\n",
              "      let percentDone = fileData.byteLength === 0 ?\n",
              "          100 :\n",
              "          Math.round((position / fileData.byteLength) * 100);\n",
              "      percent.textContent = `${percentDone}% done`;\n",
              "\n",
              "    } while (position < fileData.byteLength);\n",
              "  }\n",
              "\n",
              "  // All done.\n",
              "  yield {\n",
              "    response: {\n",
              "      action: 'complete',\n",
              "    }\n",
              "  };\n",
              "}\n",
              "\n",
              "scope.google = scope.google || {};\n",
              "scope.google.colab = scope.google.colab || {};\n",
              "scope.google.colab._files = {\n",
              "  _uploadFiles,\n",
              "  _uploadFilesContinue,\n",
              "};\n",
              "})(self);\n",
              "</script> "
            ]
          },
          "metadata": {}
        },
        {
          "output_type": "error",
          "ename": "KeyboardInterrupt",
          "evalue": "",
          "traceback": [
            "\u001b[0;31m---------------------------------------------------------------------------\u001b[0m",
            "\u001b[0;31mKeyboardInterrupt\u001b[0m                         Traceback (most recent call last)",
            "\u001b[0;32m<ipython-input-9-4f73a7d652f8>\u001b[0m in \u001b[0;36m<cell line: 0>\u001b[0;34m()\u001b[0m\n\u001b[1;32m      3\u001b[0m \u001b[0;31m# Step 1: Upload your solar_radiation.csv file\u001b[0m\u001b[0;34m\u001b[0m\u001b[0;34m\u001b[0m\u001b[0m\n\u001b[1;32m      4\u001b[0m \u001b[0;32mfrom\u001b[0m \u001b[0mgoogle\u001b[0m\u001b[0;34m.\u001b[0m\u001b[0mcolab\u001b[0m \u001b[0;32mimport\u001b[0m \u001b[0mfiles\u001b[0m\u001b[0;34m\u001b[0m\u001b[0;34m\u001b[0m\u001b[0m\n\u001b[0;32m----> 5\u001b[0;31m \u001b[0muploaded\u001b[0m \u001b[0;34m=\u001b[0m \u001b[0mfiles\u001b[0m\u001b[0;34m.\u001b[0m\u001b[0mupload\u001b[0m\u001b[0;34m(\u001b[0m\u001b[0;34m)\u001b[0m\u001b[0;34m\u001b[0m\u001b[0;34m\u001b[0m\u001b[0m\n\u001b[0m\u001b[1;32m      6\u001b[0m \u001b[0;34m\u001b[0m\u001b[0m\n\u001b[1;32m      7\u001b[0m \u001b[0;31m# Verify upload\u001b[0m\u001b[0;34m\u001b[0m\u001b[0;34m\u001b[0m\u001b[0m\n",
            "\u001b[0;32m/usr/local/lib/python3.11/dist-packages/google/colab/files.py\u001b[0m in \u001b[0;36mupload\u001b[0;34m(target_dir)\u001b[0m\n\u001b[1;32m     70\u001b[0m   \"\"\"\n\u001b[1;32m     71\u001b[0m \u001b[0;34m\u001b[0m\u001b[0m\n\u001b[0;32m---> 72\u001b[0;31m   \u001b[0muploaded_files\u001b[0m \u001b[0;34m=\u001b[0m \u001b[0m_upload_files\u001b[0m\u001b[0;34m(\u001b[0m\u001b[0mmultiple\u001b[0m\u001b[0;34m=\u001b[0m\u001b[0;32mTrue\u001b[0m\u001b[0;34m)\u001b[0m\u001b[0;34m\u001b[0m\u001b[0;34m\u001b[0m\u001b[0m\n\u001b[0m\u001b[1;32m     73\u001b[0m   \u001b[0;31m# Mapping from original filename to filename as saved locally.\u001b[0m\u001b[0;34m\u001b[0m\u001b[0;34m\u001b[0m\u001b[0m\n\u001b[1;32m     74\u001b[0m   \u001b[0mlocal_filenames\u001b[0m \u001b[0;34m=\u001b[0m \u001b[0mdict\u001b[0m\u001b[0;34m(\u001b[0m\u001b[0;34m)\u001b[0m\u001b[0;34m\u001b[0m\u001b[0;34m\u001b[0m\u001b[0m\n",
            "\u001b[0;32m/usr/local/lib/python3.11/dist-packages/google/colab/files.py\u001b[0m in \u001b[0;36m_upload_files\u001b[0;34m(multiple)\u001b[0m\n\u001b[1;32m    162\u001b[0m \u001b[0;34m\u001b[0m\u001b[0m\n\u001b[1;32m    163\u001b[0m   \u001b[0;31m# First result is always an indication that the file picker has completed.\u001b[0m\u001b[0;34m\u001b[0m\u001b[0;34m\u001b[0m\u001b[0m\n\u001b[0;32m--> 164\u001b[0;31m   result = _output.eval_js(\n\u001b[0m\u001b[1;32m    165\u001b[0m       'google.colab._files._uploadFiles(\"{input_id}\", \"{output_id}\")'.format(\n\u001b[1;32m    166\u001b[0m           \u001b[0minput_id\u001b[0m\u001b[0;34m=\u001b[0m\u001b[0minput_id\u001b[0m\u001b[0;34m,\u001b[0m \u001b[0moutput_id\u001b[0m\u001b[0;34m=\u001b[0m\u001b[0moutput_id\u001b[0m\u001b[0;34m\u001b[0m\u001b[0;34m\u001b[0m\u001b[0m\n",
            "\u001b[0;32m/usr/local/lib/python3.11/dist-packages/google/colab/output/_js.py\u001b[0m in \u001b[0;36meval_js\u001b[0;34m(script, ignore_result, timeout_sec)\u001b[0m\n\u001b[1;32m     38\u001b[0m   \u001b[0;32mif\u001b[0m \u001b[0mignore_result\u001b[0m\u001b[0;34m:\u001b[0m\u001b[0;34m\u001b[0m\u001b[0;34m\u001b[0m\u001b[0m\n\u001b[1;32m     39\u001b[0m     \u001b[0;32mreturn\u001b[0m\u001b[0;34m\u001b[0m\u001b[0;34m\u001b[0m\u001b[0m\n\u001b[0;32m---> 40\u001b[0;31m   \u001b[0;32mreturn\u001b[0m \u001b[0m_message\u001b[0m\u001b[0;34m.\u001b[0m\u001b[0mread_reply_from_input\u001b[0m\u001b[0;34m(\u001b[0m\u001b[0mrequest_id\u001b[0m\u001b[0;34m,\u001b[0m \u001b[0mtimeout_sec\u001b[0m\u001b[0;34m)\u001b[0m\u001b[0;34m\u001b[0m\u001b[0;34m\u001b[0m\u001b[0m\n\u001b[0m\u001b[1;32m     41\u001b[0m \u001b[0;34m\u001b[0m\u001b[0m\n\u001b[1;32m     42\u001b[0m \u001b[0;34m\u001b[0m\u001b[0m\n",
            "\u001b[0;32m/usr/local/lib/python3.11/dist-packages/google/colab/_message.py\u001b[0m in \u001b[0;36mread_reply_from_input\u001b[0;34m(message_id, timeout_sec)\u001b[0m\n\u001b[1;32m     94\u001b[0m     \u001b[0mreply\u001b[0m \u001b[0;34m=\u001b[0m \u001b[0m_read_next_input_message\u001b[0m\u001b[0;34m(\u001b[0m\u001b[0;34m)\u001b[0m\u001b[0;34m\u001b[0m\u001b[0;34m\u001b[0m\u001b[0m\n\u001b[1;32m     95\u001b[0m     \u001b[0;32mif\u001b[0m \u001b[0mreply\u001b[0m \u001b[0;34m==\u001b[0m \u001b[0m_NOT_READY\u001b[0m \u001b[0;32mor\u001b[0m \u001b[0;32mnot\u001b[0m \u001b[0misinstance\u001b[0m\u001b[0;34m(\u001b[0m\u001b[0mreply\u001b[0m\u001b[0;34m,\u001b[0m \u001b[0mdict\u001b[0m\u001b[0;34m)\u001b[0m\u001b[0;34m:\u001b[0m\u001b[0;34m\u001b[0m\u001b[0;34m\u001b[0m\u001b[0m\n\u001b[0;32m---> 96\u001b[0;31m       \u001b[0mtime\u001b[0m\u001b[0;34m.\u001b[0m\u001b[0msleep\u001b[0m\u001b[0;34m(\u001b[0m\u001b[0;36m0.025\u001b[0m\u001b[0;34m)\u001b[0m\u001b[0;34m\u001b[0m\u001b[0;34m\u001b[0m\u001b[0m\n\u001b[0m\u001b[1;32m     97\u001b[0m       \u001b[0;32mcontinue\u001b[0m\u001b[0;34m\u001b[0m\u001b[0;34m\u001b[0m\u001b[0m\n\u001b[1;32m     98\u001b[0m     if (\n",
            "\u001b[0;31mKeyboardInterrupt\u001b[0m: "
          ]
        }
      ],
      "source": [
        "# Cell 1: Upload Data and Install Libraries\n",
        "\n",
        "# Step 1: Upload your solar_radiation.csv file\n",
        "from google.colab import files\n",
        "uploaded = files.upload()\n",
        "\n",
        "# Verify upload\n",
        "for fn in uploaded.keys():\n",
        "  print(f'User uploaded file \"{fn}\" with length {len(uploaded[fn])} bytes')\n",
        "\n",
        "# (No specific libraries to install beyond standard Colab environment for this code)"
      ]
    },
    {
      "cell_type": "code",
      "source": [
        "# Cell 2: Imports and Configuration\n",
        "import torch\n",
        "import torch.nn as nn\n",
        "import torch.optim as optim\n",
        "from torch.utils.data import Dataset, DataLoader\n",
        "import pandas as pd\n",
        "import numpy as np\n",
        "import matplotlib.pyplot as plt\n",
        "from sklearn.preprocessing import MinMaxScaler\n",
        "from tqdm import tqdm # For progress bars in Colab\n",
        "import math\n",
        "import io # To read the uploaded file with pandas\n",
        "\n",
        "# --- Configuration ---\n",
        "DEVICE = torch.device(\"cuda\" if torch.cuda.is_available() else \"cpu\")\n",
        "FILE_NAME = 'solar_radiation.csv' # Should match your uploaded file name\n",
        "\n",
        "SEQ_LENGTH = 72  # Input sequence length (e.g., 6 hours of 5-min data)\n",
        "PREDICTION_HORIZON = 288 # Output sequence length (24 hours * 12 samples/hour)\n",
        "BATCH_SIZE = 32 # Adjust based on Colab's GPU memory (16 or 32 often work)\n",
        "LEARNING_RATE = 1e-4\n",
        "EPOCHS = 50      # Start with fewer epochs (e.g., 20-30) for faster Colab iterations\n",
        "HIDDEN_SIZE_LSTM = 64\n",
        "FDCNN_OUT_CHANNELS = 128\n",
        "ATTENTION_UNITS = 128\n",
        "DROPOUT_RATE = 0.2\n",
        "\n",
        "print(f\"Using device: {DEVICE}\")"
      ],
      "metadata": {
        "colab": {
          "base_uri": "https://localhost:8080/"
        },
        "id": "UT6LO2KS93e7",
        "outputId": "3f9959dd-d1a1-4435-fd41-c190654a5407"
      },
      "execution_count": null,
      "outputs": [
        {
          "output_type": "stream",
          "name": "stdout",
          "text": [
            "Using device: cpu\n"
          ]
        }
      ]
    },
    {
      "cell_type": "code",
      "source": [
        "# Cell 3: Helper Functions\n",
        "\n",
        "def create_sequences(data, seq_length, pred_horizon):\n",
        "    xs, ys = [], []\n",
        "    for i in range(len(data) - seq_length - pred_horizon + 1):\n",
        "        x = data[i:(i + seq_length)]\n",
        "        y = data[(i + seq_length):(i + seq_length + pred_horizon)]\n",
        "        xs.append(x)\n",
        "        ys.append(y)\n",
        "    return np.array(xs), np.array(ys)\n",
        "\n",
        "class SolarDataset(Dataset):\n",
        "    def __init__(self, features, targets):\n",
        "        self.features = torch.tensor(features, dtype=torch.float32)\n",
        "        self.targets = torch.tensor(targets, dtype=torch.float32)\n",
        "\n",
        "    def __len__(self):\n",
        "        return len(self.features)\n",
        "\n",
        "    def __getitem__(self, idx):\n",
        "        return self.features[idx], self.targets[idx]\n",
        "\n",
        "def calculate_rmse(mse_loss):\n",
        "    return math.sqrt(mse_loss)"
      ],
      "metadata": {
        "id": "V_tPlRoa99oR"
      },
      "execution_count": null,
      "outputs": []
    },
    {
      "cell_type": "code",
      "source": [
        "# Cell 4: Model Components (FFC_block, Attention)\n",
        "\n",
        "class FFC_block(nn.Module):\n",
        "    def __init__(self, in_channels, out_channels_total, kernel_size=3, ratio_gin=0.5,\n",
        "                 stride=1, padding=\"same\", dilation=1, groups=1, bias=False): # Use padding=\"same\"\n",
        "        super(FFC_block, self).__init__()\n",
        "        # Ensure out_channels_total is divisible by 2 for splitting\n",
        "        if out_channels_total % 2 != 0:\n",
        "            raise ValueError(\"out_channels_total must be divisible by 2 for FFC block splitting.\")\n",
        "\n",
        "        self.out_channels_part = out_channels_total // 2 # Output channels for local and global part EACH\n",
        "\n",
        "        in_cg = int(in_channels * ratio_gin)\n",
        "        in_cl = in_channels - in_cg\n",
        "        self.ratio_gin = ratio_gin\n",
        "\n",
        "        # Convolutions for the local path processing contributing to f_l\n",
        "        self.conv_l2l = nn.Conv1d(in_cl, self.out_channels_part, kernel_size, stride, padding, dilation, groups, bias)\n",
        "        # Convolutions for the global path processing contributing to f_l\n",
        "        self.conv_g2l = nn.Conv1d(in_cg, self.out_channels_part, kernel_size, stride, padding, dilation, groups, bias)\n",
        "\n",
        "        # Convolutions for the local path processing contributing to f_g\n",
        "        self.conv_l2g = nn.Conv1d(in_cl, self.out_channels_part, kernel_size, stride, padding, dilation, groups, bias)\n",
        "        # Convolutions for the global path processing contributing to f_g (before FFT)\n",
        "        self.conv_g2g_pre_fft = nn.Conv1d(in_cg, self.out_channels_part, kernel_size, stride, padding, dilation, groups, bias)\n",
        "        # Optional: A conv after IFFT for g2g path if needed, or directly use pre_fft output for FFT\n",
        "        # self.conv_g2g_post_fft = nn.Conv1d(self.out_channels_part, self.out_channels_part, kernel_size, stride, padding, dilation, groups, bias)\n",
        "\n",
        "\n",
        "        self.relu = nn.ReLU(inplace=True)\n",
        "\n",
        "    def forward(self, x): # x: (Batch, In_Channels, SeqLen)\n",
        "        x_l, x_g = x[:, :int(x.size(1) * (1-self.ratio_gin))], x[:, int(x.size(1) * (1-self.ratio_gin)):]\n",
        "\n",
        "        # Equation (11) logic: X_local_updated = X_local→local + X_global→local\n",
        "        f_l_from_local = self.conv_l2l(x_l)\n",
        "        f_l_from_global = self.conv_g2l(x_g)\n",
        "        f_l = self.relu(f_l_from_local + f_l_from_global)\n",
        "\n",
        "        # Equation (12) logic: X_global_updated = X_global→global + X_local→global\n",
        "        f_g_from_local = self.conv_l2g(x_l)\n",
        "\n",
        "        # Global path processing for f_g\n",
        "        f_g_from_global_pre_fft = self.conv_g2g_pre_fft(x_g)\n",
        "\n",
        "        # Apply FFT, then IFFT.\n",
        "        # The \"learnable\" part in frequency domain is tricky.\n",
        "        # A true FDCNN might have learnable complex weights or separate convolutions for real/imag parts.\n",
        "        # Here, we simplify: conv -> fft -> (potential learnable scaling/filtering) -> ifft\n",
        "        # For simplicity, let's assume the main \"global\" processing is the FFT/IFFT itself on convolved features.\n",
        "        original_len = f_g_from_global_pre_fft.size(2)\n",
        "        f_g_fft = torch.fft.rfft(f_g_from_global_pre_fft, dim=2)\n",
        "        # (Potentially, insert learnable operations on f_g_fft here)\n",
        "        f_g_ifft = torch.fft.irfft(f_g_fft, n=original_len, dim=2)\n",
        "        # f_g_from_global = self.relu(self.conv_g2g_post_fft(f_g_ifft)) # If using post_fft conv\n",
        "        f_g_from_global = f_g_ifft # Directly use ifft output if no post_fft conv\n",
        "\n",
        "        f_g = self.relu(f_g_from_local + f_g_from_global)\n",
        "\n",
        "        return torch.cat((f_l, f_g), dim=1) # Concatenate features from local and global updates\n",
        "\n",
        "class Attention(nn.Module):\n",
        "    def __init__(self, num_input_channels, seq_len_for_hi, attention_units):\n",
        "        super(Attention, self).__init__()\n",
        "        # Input to attention: (Batch, Num_FDCNN_Channels, SeqLen)\n",
        "        # 'hi' is a channel vector of length 'seq_len_for_hi'.\n",
        "        # Wh maps each 'hi' (a channel vector) to 'attention_units'.\n",
        "        self.fc_for_aei = nn.Linear(seq_len_for_hi, attention_units) # W_h * h_i part\n",
        "        self.Wh_att_score = nn.Linear(attention_units, 1) # To get a single score per channel for softmax\n",
        "\n",
        "    def forward(self, x): # x: (Batch, Num_FDCNN_Channels, SeqLen)\n",
        "        batch_size, num_fdcnn_channels, seq_len = x.shape\n",
        "\n",
        "        ae_scores_list = []\n",
        "        for i in range(num_fdcnn_channels):\n",
        "            hi = x[:, i, :]  # (Batch, SeqLen) - this is one channel vector\n",
        "\n",
        "            # Eq 13: aei = max(0, Whi hi + bh)\n",
        "            # Assuming bh is absorbed or not explicitly used for simplicity like some attention heads\n",
        "            aei_processed = self.fc_for_aei(hi) # (Batch, attention_units)\n",
        "            aei_activated = torch.relu(aei_processed) # (Batch, attention_units)\n",
        "\n",
        "            # Get a single score for this channel\n",
        "            score_for_channel_i = self.Wh_att_score(aei_activated).squeeze(-1) # (Batch)\n",
        "            ae_scores_list.append(score_for_channel_i)\n",
        "\n",
        "        ae_T_scores = torch.stack(ae_scores_list, dim=1) # (Batch, Num_FDCNN_Channels)\n",
        "\n",
        "        # Eq 14: ari = softmax(aei)\n",
        "        ari_weights = torch.softmax(ae_T_scores, dim=1) # (Batch, Num_FDCNN_Channels)\n",
        "\n",
        "        # Eq 15: asi = Σ arj hj\n",
        "        # ari_weights: (Batch, Num_FDCNN_Channels)\n",
        "        # x: (Batch, Num_FDCNN_Channels, SeqLen)\n",
        "        # We need to expand ari_weights for element-wise multiplication\n",
        "        # (Batch, Num_FDCNN_Channels, 1) * (Batch, Num_FDCNN_Channels, SeqLen)\n",
        "        context_vector = torch.sum(ari_weights.unsqueeze(-1) * x, dim=1) # (Batch, SeqLen)\n",
        "\n",
        "        return context_vector, ari_weights"
      ],
      "metadata": {
        "id": "eDbhCo2p-A5C"
      },
      "execution_count": null,
      "outputs": []
    },
    {
      "cell_type": "code",
      "source": [
        "# Cell 5: MSMVAN_Univariate Model Definition\n",
        "\n",
        "class MSMVAN_Univariate(nn.Module):\n",
        "    def __init__(self, input_size, hidden_size_lstm, lstm_layers, ffc_out_channels_total,\n",
        "                 attention_units, pred_horizon, seq_len, dropout_rate=0.2):\n",
        "        super(MSMVAN_Univariate, self).__init__()\n",
        "        self.seq_len = seq_len\n",
        "        self.lstm = nn.LSTM(input_size, hidden_size_lstm, num_layers=lstm_layers,\n",
        "                            batch_first=True, bidirectional=True,\n",
        "                            dropout=dropout_rate if lstm_layers > 1 else 0)\n",
        "\n",
        "        bilstm_out_features = hidden_size_lstm * 2\n",
        "\n",
        "        # FFC block input channels = bilstm_out_features\n",
        "        # FFC block output channels = ffc_out_channels_total\n",
        "        self.ffc1 = FFC_block(bilstm_out_features, ffc_out_channels_total, kernel_size=3, padding=\"same\")\n",
        "        # self.ffc2 = FFC_block(ffc_out_channels_total, ffc_out_channels_total, kernel_size=3, padding=\"same\") # Optional\n",
        "\n",
        "        # Attention input: (Batch, ffc_out_channels_total, SeqLen)\n",
        "        # 'hi' for attention is a channel vector of length SeqLen\n",
        "        self.attention = Attention(\n",
        "            num_input_channels=ffc_out_channels_total, # Number of channels from FFC\n",
        "            seq_len_for_hi=seq_len, # Length of each channel vector\n",
        "            attention_units=attention_units\n",
        "        )\n",
        "\n",
        "        self.dropout = nn.Dropout(dropout_rate)\n",
        "        # Input to fc is attention output (Batch, SeqLen)\n",
        "        self.fc = nn.Linear(seq_len, pred_horizon)\n",
        "\n",
        "    def forward(self, x): # x: (Batch, SeqLen, Input_Size=1 for univariate)\n",
        "        lstm_out, _ = self.lstm(x) # (Batch, SeqLen, Hidden*2)\n",
        "\n",
        "        # Prepare for FFC: (Batch, Channels=Hidden*2, SeqLen)\n",
        "        ffc_in = lstm_out.permute(0, 2, 1)\n",
        "\n",
        "        ffc_out = self.ffc1(ffc_in)\n",
        "        # ffc_out = self.ffc2(ffc_out) # If using second FFC\n",
        "\n",
        "        # ffc_out is (Batch, ffc_out_channels_total, SeqLen)\n",
        "        attn_out_context_vector, attn_weights = self.attention(ffc_out) # attn_out_context_vector: (Batch, SeqLen)\n",
        "\n",
        "        dropped_out = self.dropout(attn_out_context_vector)\n",
        "        predictions = self.fc(dropped_out) # (Batch, PredHorizon)\n",
        "        return predictions"
      ],
      "metadata": {
        "id": "dBRHsdEl-m4p"
      },
      "execution_count": null,
      "outputs": []
    },
    {
      "cell_type": "code",
      "source": [
        "# Cell 6: Data Loading and Preprocessing\n",
        "\n",
        "# Read the uploaded file\n",
        "try:\n",
        "    df = pd.read_csv(io.BytesIO(uploaded[FILE_NAME]), usecols=['Solar_Radiation'])\n",
        "    print(f\"Successfully loaded {FILE_NAME}\")\n",
        "except KeyError:\n",
        "    print(f\"Error: File '{FILE_NAME}' not found in upload or 'Solar_Radiation' column missing.\")\n",
        "    # Fallback to dummy data if file loading fails, for testing the rest of the script\n",
        "    print(\"Generating dummy data as fallback.\")\n",
        "    data_raw = np.sin(np.linspace(0, 1000, 33133)) * 50 + 50\n",
        "    data_raw += np.random.normal(0, 5, 33133)\n",
        "    data_raw = np.clip(data_raw, 0, None)\n",
        "else:\n",
        "    # Ensure 'Solar_Radiation' is numeric. If already numeric, this won't harm.\n",
        "    df['Solar_Radiation'] = pd.to_numeric(df['Solar_Radiation'], errors='coerce')\n",
        "    # The problem states \"no null value\", but this is good practice.\n",
        "    # If coerce creates NaNs for some reason, drop them.\n",
        "    df.dropna(subset=['Solar_Radiation'], inplace=True)\n",
        "    data_raw = df['Solar_Radiation'].values.astype(float)\n",
        "\n",
        "if len(data_raw) < SEQ_LENGTH + PREDICTION_HORIZON:\n",
        "    raise ValueError(f\"Not enough data points ({len(data_raw)}) for the given SEQ_LENGTH ({SEQ_LENGTH}) and PREDICTION_HORIZON ({PREDICTION_HORIZON}).\")\n",
        "\n",
        "print(f\"Raw data shape: {data_raw.shape}\")\n",
        "\n",
        "scaler = MinMaxScaler(feature_range=(-1, 1)) # Or (0,1) if solar radiation is always non-negative\n",
        "data_scaled = scaler.fit_transform(data_raw.reshape(-1, 1))\n",
        "\n",
        "features, targets = create_sequences(data_scaled, SEQ_LENGTH, PREDICTION_HORIZON)\n",
        "features = features.reshape(features.shape[0], SEQ_LENGTH, 1) # Add feature dim for univariate\n",
        "\n",
        "print(f\"Features shape: {features.shape}, Targets shape: {targets.shape}\")\n",
        "\n",
        "# Split data (e.g., 80% train, 10% val, 10% test)\n",
        "# Ensure enough samples for each split after sequence creation\n",
        "if len(features) < 10: # Arbitrary small number, adjust if needed\n",
        "    raise ValueError(f\"Too few sequences ({len(features)}) created. Check data length, SEQ_LENGTH, and PREDICTION_HORIZON.\")\n",
        "\n",
        "train_ratio = 0.8\n",
        "val_ratio = 0.1\n",
        "# test_ratio = 0.1 # Implicit\n",
        "\n",
        "train_size = int(len(features) * train_ratio)\n",
        "val_size = int(len(features) * val_ratio)\n",
        "# test_size = len(features) - train_size - val_size # The rest is test\n",
        "\n",
        "train_features, train_targets = features[:train_size], targets[:train_size]\n",
        "val_features, val_targets = features[train_size:train_size+val_size], targets[train_size:train_size+val_size]\n",
        "test_features, test_targets = features[train_size+val_size:], targets[train_size+val_size:]\n",
        "\n",
        "print(f\"Train features shape: {train_features.shape}\")\n",
        "print(f\"Validation features shape: {val_features.shape}\")\n",
        "print(f\"Test features shape: {test_features.shape}\")\n",
        "\n",
        "\n",
        "# Create DataLoaders\n",
        "if len(train_features) > 0:\n",
        "    train_dataset = SolarDataset(train_features, train_targets)\n",
        "    train_loader = DataLoader(train_dataset, batch_size=BATCH_SIZE, shuffle=True, drop_last=True)\n",
        "else:\n",
        "    train_loader = None\n",
        "    print(\"Warning: Training set is empty after splitting.\")\n",
        "\n",
        "if len(val_features) > 0:\n",
        "    val_dataset = SolarDataset(val_features, val_targets)\n",
        "    val_loader = DataLoader(val_dataset, batch_size=BATCH_SIZE, shuffle=False, drop_last=True)\n",
        "else:\n",
        "    val_loader = None\n",
        "    print(\"Warning: Validation set is empty after splitting.\")\n",
        "\n",
        "if len(test_features) > 0:\n",
        "    test_dataset = SolarDataset(test_features, test_targets)\n",
        "    test_loader = DataLoader(test_dataset, batch_size=BATCH_SIZE, shuffle=False, drop_last=True)\n",
        "else:\n",
        "    test_loader = None\n",
        "    print(\"Warning: Test set is empty after splitting.\")\n",
        "\n",
        "\n",
        "if not train_loader:\n",
        "    raise ValueError(\"Training DataLoader could not be created. Check data and split sizes.\")"
      ],
      "metadata": {
        "colab": {
          "base_uri": "https://localhost:8080/"
        },
        "id": "KXLNRZt4-LOK",
        "outputId": "4f5a48ad-f402-40bc-860a-bb6d3e53d3ac"
      },
      "execution_count": null,
      "outputs": [
        {
          "output_type": "stream",
          "name": "stdout",
          "text": [
            "Successfully loaded solar_radiation.csv\n",
            "Raw data shape: (33133,)\n",
            "Features shape: (32774, 72, 1), Targets shape: (32774, 288, 1)\n",
            "Train features shape: (26219, 72, 1)\n",
            "Validation features shape: (3277, 72, 1)\n",
            "Test features shape: (3278, 72, 1)\n"
          ]
        }
      ]
    },
    {
      "cell_type": "code",
      "source": [
        "# Cell 7: Model Initialization, Optimizer, Criterion, Scheduler\n",
        "\n",
        "model = MSMVAN_Univariate(\n",
        "    input_size=1, # Univariate\n",
        "    hidden_size_lstm=HIDDEN_SIZE_LSTM,\n",
        "    lstm_layers=2, # Example, can be tuned\n",
        "    ffc_out_channels_total=FDCNN_OUT_CHANNELS,\n",
        "    attention_units=ATTENTION_UNITS,\n",
        "    pred_horizon=PREDICTION_HORIZON,\n",
        "    seq_len=SEQ_LENGTH,\n",
        "    dropout_rate=DROPOUT_RATE\n",
        ").to(DEVICE)\n",
        "\n",
        "criterion = nn.MSELoss()\n",
        "optimizer = optim.Adam(model.parameters(), lr=LEARNING_RATE)\n",
        "scheduler = optim.lr_scheduler.ReduceLROnPlateau(optimizer, 'min', factor=0.5, patience=3, verbose=True) # Reduced patience\n",
        "\n",
        "print(model)\n",
        "total_params = sum(p.numel() for p in model.parameters() if p.requires_grad)\n",
        "print(f\"Total trainable parameters: {total_params}\")"
      ],
      "metadata": {
        "colab": {
          "base_uri": "https://localhost:8080/"
        },
        "id": "j4DWRVkv-QsB",
        "outputId": "d504016c-202c-40aa-b4c5-f84fff7fb129"
      },
      "execution_count": null,
      "outputs": [
        {
          "output_type": "stream",
          "name": "stdout",
          "text": [
            "MSMVAN_Univariate(\n",
            "  (lstm): LSTM(1, 64, num_layers=2, batch_first=True, dropout=0.2, bidirectional=True)\n",
            "  (ffc1): FFC_block(\n",
            "    (conv_l2l): Conv1d(64, 64, kernel_size=(3,), stride=(1,), padding=same, bias=False)\n",
            "    (conv_g2l): Conv1d(64, 64, kernel_size=(3,), stride=(1,), padding=same, bias=False)\n",
            "    (conv_l2g): Conv1d(64, 64, kernel_size=(3,), stride=(1,), padding=same, bias=False)\n",
            "    (conv_g2g_pre_fft): Conv1d(64, 64, kernel_size=(3,), stride=(1,), padding=same, bias=False)\n",
            "    (relu): ReLU(inplace=True)\n",
            "  )\n",
            "  (attention): Attention(\n",
            "    (fc_for_aei): Linear(in_features=72, out_features=128, bias=True)\n",
            "    (Wh_att_score): Linear(in_features=128, out_features=1, bias=True)\n",
            "  )\n",
            "  (dropout): Dropout(p=0.2, inplace=False)\n",
            "  (fc): Linear(in_features=72, out_features=288, bias=True)\n",
            ")\n",
            "Total trainable parameters: 213281\n"
          ]
        },
        {
          "output_type": "stream",
          "name": "stderr",
          "text": [
            "/usr/local/lib/python3.11/dist-packages/torch/optim/lr_scheduler.py:62: UserWarning: The verbose parameter is deprecated. Please use get_last_lr() to access the learning rate.\n",
            "  warnings.warn(\n"
          ]
        }
      ]
    },
    {
      "cell_type": "code",
      "source": [
        "# Cell 8: Training Loop\n",
        "\n",
        "best_val_mse = float('inf')\n",
        "best_val_rmse = float('inf')\n",
        "best_val_mae = float('inf')\n",
        "\n",
        "train_mse_history = []\n",
        "val_mse_history = []\n",
        "\n",
        "if not train_loader or not val_loader:\n",
        "    print(\"Skipping training as train_loader or val_loader is not available.\")\n",
        "else:\n",
        "    for epoch in range(EPOCHS):\n",
        "        model.train()\n",
        "        epoch_train_mse_loss = 0\n",
        "        epoch_train_mae_loss = 0\n",
        "\n",
        "        # Using tqdm for progress bar in Colab\n",
        "        train_pbar = tqdm(train_loader, desc=f\"Epoch {epoch+1}/{EPOCHS} [Training]\", unit=\"batch\")\n",
        "        for batch_features, batch_targets in train_pbar:\n",
        "            batch_features, batch_targets = batch_features.to(DEVICE), batch_targets.to(DEVICE)\n",
        "\n",
        "            optimizer.zero_grad()\n",
        "            outputs = model(batch_features) # Shape: (Batch, PredHorizon)\n",
        "\n",
        "            # Ensure targets are (Batch, PredHorizon) for loss calculation\n",
        "            if batch_targets.ndim == 3 and batch_targets.shape[-1] == 1: # (B, Horizon, 1)\n",
        "                batch_targets_squeezed = batch_targets.squeeze(-1)\n",
        "            elif batch_targets.ndim == 2: # (B, Horizon)\n",
        "                batch_targets_squeezed = batch_targets\n",
        "            else:\n",
        "                raise ValueError(f\"Unexpected target shape: {batch_targets.shape}\")\n",
        "\n",
        "            loss_mse = criterion(outputs, batch_targets_squeezed)\n",
        "            loss_mae = nn.L1Loss()(outputs, batch_targets_squeezed)\n",
        "\n",
        "            loss_mse.backward()\n",
        "            torch.nn.utils.clip_grad_norm_(model.parameters(), max_norm=1.0) # Gradient clipping\n",
        "            optimizer.step()\n",
        "\n",
        "            epoch_train_mse_loss += loss_mse.item()\n",
        "            epoch_train_mae_loss += loss_mae.item()\n",
        "            train_pbar.set_postfix(MSE=loss_mse.item(), MAE=loss_mae.item())\n",
        "\n",
        "        avg_epoch_train_mse = epoch_train_mse_loss / len(train_loader)\n",
        "        avg_epoch_train_rmse = calculate_rmse(avg_epoch_train_mse)\n",
        "        avg_epoch_train_mae = epoch_train_mae_loss / len(train_loader)\n",
        "        train_mse_history.append(avg_epoch_train_mse)\n",
        "\n",
        "        # Validation\n",
        "        model.eval()\n",
        "        epoch_val_mse_loss = 0\n",
        "        epoch_val_mae_loss = 0\n",
        "\n",
        "        val_pbar = tqdm(val_loader, desc=f\"Epoch {epoch+1}/{EPOCHS} [Validation]\", unit=\"batch\")\n",
        "        with torch.no_grad():\n",
        "            for batch_features, batch_targets in val_pbar:\n",
        "                batch_features, batch_targets = batch_features.to(DEVICE), batch_targets.to(DEVICE)\n",
        "                outputs = model(batch_features)\n",
        "\n",
        "                if batch_targets.ndim == 3 and batch_targets.shape[-1] == 1:\n",
        "                    batch_targets_squeezed = batch_targets.squeeze(-1)\n",
        "                else:\n",
        "                    batch_targets_squeezed = batch_targets\n",
        "\n",
        "                loss_mse = criterion(outputs, batch_targets_squeezed)\n",
        "                loss_mae = nn.L1Loss()(outputs, batch_targets_squeezed)\n",
        "                epoch_val_mse_loss += loss_mse.item()\n",
        "                epoch_val_mae_loss += loss_mae.item()\n",
        "                val_pbar.set_postfix(MSE=loss_mse.item(), MAE=loss_mae.item())\n",
        "\n",
        "        avg_epoch_val_mse = epoch_val_mse_loss / len(val_loader)\n",
        "        avg_epoch_val_rmse = calculate_rmse(avg_epoch_val_mse)\n",
        "        avg_epoch_val_mae = epoch_val_mae_loss / len(val_loader)\n",
        "        val_mse_history.append(avg_epoch_val_mse)\n",
        "\n",
        "        current_lr = optimizer.param_groups[0]['lr']\n",
        "        print(f\"\\nEpoch {epoch+1}/{EPOCHS} Summary:\"\n",
        "              f\"\\n  LR: {current_lr:.6f}\"\n",
        "              f\"\\n  Train MSE: {avg_epoch_train_mse:.6f}, RMSE: {avg_epoch_train_rmse:.6f}, MAE: {avg_epoch_train_mae:.6f}\"\n",
        "              f\"\\n  Val   MSE: {avg_epoch_val_mse:.6f}, RMSE: {avg_epoch_val_rmse:.6f}, MAE: {avg_epoch_val_mae:.6f}\")\n",
        "\n",
        "        scheduler.step(avg_epoch_val_mse)\n",
        "\n",
        "        if avg_epoch_val_mse < best_val_mse:\n",
        "            best_val_mse = avg_epoch_val_mse\n",
        "            best_val_rmse = avg_epoch_val_rmse\n",
        "            best_val_mae = avg_epoch_val_mae\n",
        "            torch.save(model.state_dict(), 'best_msmvan_colab_model.pth')\n",
        "            print(f\"  >>> New best validation MSE: {best_val_mse:.6f}. Model saved. <<<\")\n",
        "        print(\"-\" * 50)\n",
        "\n",
        "print(\"\\n--- Training Finished ---\")\n",
        "print(f\"Best Validation MSE: {best_val_mse:.6f}\")\n",
        "print(f\"Best Validation RMSE: {best_val_rmse:.6f}\")\n",
        "print(f\"Best Validation MAE: {best_val_mae:.6f}\")\n",
        "\n",
        "# Plot training and validation loss\n",
        "plt.figure(figsize=(10, 6))\n",
        "plt.plot(train_mse_history, label='Training MSE')\n",
        "plt.plot(val_mse_history, label='Validation MSE')\n",
        "plt.xlabel('Epoch')\n",
        "plt.ylabel('MSE Loss')\n",
        "plt.title('Training and Validation MSE Loss Over Epochs')\n",
        "plt.legend()\n",
        "plt.grid(True)\n",
        "plt.savefig(\"msmvan_training_validation_loss.png\")\n",
        "plt.show()"
      ],
      "metadata": {
        "colab": {
          "base_uri": "https://localhost:8080/",
          "height": 1000
        },
        "id": "dcZNAfIO-k1a",
        "outputId": "2f41c8c1-dfbc-4248-f665-72ad3a21f72b"
      },
      "execution_count": null,
      "outputs": [
        {
          "output_type": "stream",
          "name": "stderr",
          "text": [
            "Epoch 1/50 [Training]: 100%|██████████| 819/819 [03:00<00:00,  4.54batch/s, MAE=0.367, MSE=0.195]\n",
            "Epoch 1/50 [Validation]: 100%|██████████| 102/102 [00:05<00:00, 19.83batch/s, MAE=0.296, MSE=0.11]\n"
          ]
        },
        {
          "output_type": "stream",
          "name": "stdout",
          "text": [
            "\n",
            "Epoch 1/50 Summary:\n",
            "  LR: 0.000100\n",
            "  Train MSE: 0.241973, RMSE: 0.491907, MAE: 0.403872\n",
            "  Val   MSE: 0.138291, RMSE: 0.371875, MAE: 0.334554\n",
            "  >>> New best validation MSE: 0.138291. Model saved. <<<\n",
            "--------------------------------------------------\n"
          ]
        },
        {
          "output_type": "stream",
          "name": "stderr",
          "text": [
            "Epoch 2/50 [Training]: 100%|██████████| 819/819 [02:59<00:00,  4.57batch/s, MAE=0.375, MSE=0.195]\n",
            "Epoch 2/50 [Validation]: 100%|██████████| 102/102 [00:06<00:00, 16.94batch/s, MAE=0.298, MSE=0.109]\n"
          ]
        },
        {
          "output_type": "stream",
          "name": "stdout",
          "text": [
            "\n",
            "Epoch 2/50 Summary:\n",
            "  LR: 0.000100\n",
            "  Train MSE: 0.180465, RMSE: 0.424811, MAE: 0.352572\n",
            "  Val   MSE: 0.139504, RMSE: 0.373502, MAE: 0.338626\n",
            "--------------------------------------------------\n"
          ]
        },
        {
          "output_type": "stream",
          "name": "stderr",
          "text": [
            "Epoch 3/50 [Training]: 100%|██████████| 819/819 [02:56<00:00,  4.65batch/s, MAE=0.334, MSE=0.163]\n",
            "Epoch 3/50 [Validation]: 100%|██████████| 102/102 [00:05<00:00, 19.94batch/s, MAE=0.269, MSE=0.097]\n"
          ]
        },
        {
          "output_type": "stream",
          "name": "stdout",
          "text": [
            "\n",
            "Epoch 3/50 Summary:\n",
            "  LR: 0.000100\n",
            "  Train MSE: 0.176446, RMSE: 0.420054, MAE: 0.349212\n",
            "  Val   MSE: 0.134132, RMSE: 0.366241, MAE: 0.320696\n",
            "  >>> New best validation MSE: 0.134132. Model saved. <<<\n",
            "--------------------------------------------------\n"
          ]
        },
        {
          "output_type": "stream",
          "name": "stderr",
          "text": [
            "Epoch 4/50 [Training]: 100%|██████████| 819/819 [02:56<00:00,  4.63batch/s, MAE=0.337, MSE=0.171]\n",
            "Epoch 4/50 [Validation]: 100%|██████████| 102/102 [00:05<00:00, 18.58batch/s, MAE=0.272, MSE=0.0955]\n"
          ]
        },
        {
          "output_type": "stream",
          "name": "stdout",
          "text": [
            "\n",
            "Epoch 4/50 Summary:\n",
            "  LR: 0.000100\n",
            "  Train MSE: 0.172033, RMSE: 0.414769, MAE: 0.343871\n",
            "  Val   MSE: 0.124553, RMSE: 0.352921, MAE: 0.304010\n",
            "  >>> New best validation MSE: 0.124553. Model saved. <<<\n",
            "--------------------------------------------------\n"
          ]
        },
        {
          "output_type": "stream",
          "name": "stderr",
          "text": [
            "Epoch 5/50 [Training]: 100%|██████████| 819/819 [02:55<00:00,  4.66batch/s, MAE=0.219, MSE=0.0797]\n",
            "Epoch 5/50 [Validation]: 100%|██████████| 102/102 [00:06<00:00, 16.17batch/s, MAE=0.246, MSE=0.0997]\n"
          ]
        },
        {
          "output_type": "stream",
          "name": "stdout",
          "text": [
            "\n",
            "Epoch 5/50 Summary:\n",
            "  LR: 0.000100\n",
            "  Train MSE: 0.122974, RMSE: 0.350676, MAE: 0.276277\n",
            "  Val   MSE: 0.073473, RMSE: 0.271058, MAE: 0.208472\n",
            "  >>> New best validation MSE: 0.073473. Model saved. <<<\n",
            "--------------------------------------------------\n"
          ]
        },
        {
          "output_type": "stream",
          "name": "stderr",
          "text": [
            "Epoch 6/50 [Training]: 100%|██████████| 819/819 [02:57<00:00,  4.62batch/s, MAE=0.233, MSE=0.0928]\n",
            "Epoch 6/50 [Validation]: 100%|██████████| 102/102 [00:05<00:00, 18.98batch/s, MAE=0.259, MSE=0.109]\n"
          ]
        },
        {
          "output_type": "stream",
          "name": "stdout",
          "text": [
            "\n",
            "Epoch 6/50 Summary:\n",
            "  LR: 0.000100\n",
            "  Train MSE: 0.092070, RMSE: 0.303430, MAE: 0.234697\n",
            "  Val   MSE: 0.070698, RMSE: 0.265890, MAE: 0.199936\n",
            "  >>> New best validation MSE: 0.070698. Model saved. <<<\n",
            "--------------------------------------------------\n"
          ]
        },
        {
          "output_type": "stream",
          "name": "stderr",
          "text": [
            "Epoch 7/50 [Training]: 100%|██████████| 819/819 [02:54<00:00,  4.68batch/s, MAE=0.212, MSE=0.0785]\n",
            "Epoch 7/50 [Validation]: 100%|██████████| 102/102 [00:05<00:00, 18.54batch/s, MAE=0.247, MSE=0.107]\n"
          ]
        },
        {
          "output_type": "stream",
          "name": "stdout",
          "text": [
            "\n",
            "Epoch 7/50 Summary:\n",
            "  LR: 0.000100\n",
            "  Train MSE: 0.084608, RMSE: 0.290875, MAE: 0.222761\n",
            "  Val   MSE: 0.066043, RMSE: 0.256988, MAE: 0.185095\n",
            "  >>> New best validation MSE: 0.066043. Model saved. <<<\n",
            "--------------------------------------------------\n"
          ]
        },
        {
          "output_type": "stream",
          "name": "stderr",
          "text": [
            "Epoch 8/50 [Training]: 100%|██████████| 819/819 [02:56<00:00,  4.63batch/s, MAE=0.197, MSE=0.0705]\n",
            "Epoch 8/50 [Validation]: 100%|██████████| 102/102 [00:06<00:00, 15.95batch/s, MAE=0.217, MSE=0.0952]\n"
          ]
        },
        {
          "output_type": "stream",
          "name": "stdout",
          "text": [
            "\n",
            "Epoch 8/50 Summary:\n",
            "  LR: 0.000100\n",
            "  Train MSE: 0.078382, RMSE: 0.279967, MAE: 0.210387\n",
            "  Val   MSE: 0.060649, RMSE: 0.246271, MAE: 0.166416\n",
            "  >>> New best validation MSE: 0.060649. Model saved. <<<\n",
            "--------------------------------------------------\n"
          ]
        },
        {
          "output_type": "stream",
          "name": "stderr",
          "text": [
            "Epoch 9/50 [Training]: 100%|██████████| 819/819 [02:59<00:00,  4.55batch/s, MAE=0.202, MSE=0.0736]\n",
            "Epoch 9/50 [Validation]: 100%|██████████| 102/102 [00:05<00:00, 19.56batch/s, MAE=0.195, MSE=0.0863]\n"
          ]
        },
        {
          "output_type": "stream",
          "name": "stdout",
          "text": [
            "\n",
            "Epoch 9/50 Summary:\n",
            "  LR: 0.000100\n",
            "  Train MSE: 0.074289, RMSE: 0.272559, MAE: 0.201599\n",
            "  Val   MSE: 0.057843, RMSE: 0.240506, MAE: 0.159078\n",
            "  >>> New best validation MSE: 0.057843. Model saved. <<<\n",
            "--------------------------------------------------\n"
          ]
        },
        {
          "output_type": "stream",
          "name": "stderr",
          "text": [
            "Epoch 10/50 [Training]: 100%|██████████| 819/819 [02:56<00:00,  4.63batch/s, MAE=0.195, MSE=0.0749]\n",
            "Epoch 10/50 [Validation]: 100%|██████████| 102/102 [00:06<00:00, 16.95batch/s, MAE=0.197, MSE=0.088]\n"
          ]
        },
        {
          "output_type": "stream",
          "name": "stdout",
          "text": [
            "\n",
            "Epoch 10/50 Summary:\n",
            "  LR: 0.000100\n",
            "  Train MSE: 0.071368, RMSE: 0.267148, MAE: 0.195489\n",
            "  Val   MSE: 0.057513, RMSE: 0.239819, MAE: 0.157854\n",
            "  >>> New best validation MSE: 0.057513. Model saved. <<<\n",
            "--------------------------------------------------\n"
          ]
        },
        {
          "output_type": "stream",
          "name": "stderr",
          "text": [
            "Epoch 11/50 [Training]: 100%|██████████| 819/819 [02:53<00:00,  4.72batch/s, MAE=0.186, MSE=0.0629]\n",
            "Epoch 11/50 [Validation]: 100%|██████████| 102/102 [00:06<00:00, 16.78batch/s, MAE=0.222, MSE=0.106]\n"
          ]
        },
        {
          "output_type": "stream",
          "name": "stdout",
          "text": [
            "\n",
            "Epoch 11/50 Summary:\n",
            "  LR: 0.000100\n",
            "  Train MSE: 0.070152, RMSE: 0.264861, MAE: 0.192600\n",
            "  Val   MSE: 0.059081, RMSE: 0.243066, MAE: 0.157006\n",
            "--------------------------------------------------\n"
          ]
        },
        {
          "output_type": "stream",
          "name": "stderr",
          "text": [
            "Epoch 12/50 [Training]: 100%|██████████| 819/819 [02:52<00:00,  4.74batch/s, MAE=0.188, MSE=0.0654]\n",
            "Epoch 12/50 [Validation]: 100%|██████████| 102/102 [00:05<00:00, 18.00batch/s, MAE=0.216, MSE=0.099]\n"
          ]
        },
        {
          "output_type": "stream",
          "name": "stdout",
          "text": [
            "\n",
            "Epoch 12/50 Summary:\n",
            "  LR: 0.000100\n",
            "  Train MSE: 0.068833, RMSE: 0.262360, MAE: 0.189880\n",
            "  Val   MSE: 0.058612, RMSE: 0.242099, MAE: 0.155386\n",
            "--------------------------------------------------\n"
          ]
        },
        {
          "output_type": "stream",
          "name": "stderr",
          "text": [
            "Epoch 13/50 [Training]: 100%|██████████| 819/819 [02:54<00:00,  4.68batch/s, MAE=0.179, MSE=0.0619]\n",
            "Epoch 13/50 [Validation]: 100%|██████████| 102/102 [00:05<00:00, 19.98batch/s, MAE=0.199, MSE=0.0943]\n"
          ]
        },
        {
          "output_type": "stream",
          "name": "stdout",
          "text": [
            "\n",
            "Epoch 13/50 Summary:\n",
            "  LR: 0.000100\n",
            "  Train MSE: 0.067540, RMSE: 0.259885, MAE: 0.187141\n",
            "  Val   MSE: 0.055362, RMSE: 0.235291, MAE: 0.147248\n",
            "  >>> New best validation MSE: 0.055362. Model saved. <<<\n",
            "--------------------------------------------------\n"
          ]
        },
        {
          "output_type": "stream",
          "name": "stderr",
          "text": [
            "Epoch 14/50 [Training]: 100%|██████████| 819/819 [02:54<00:00,  4.70batch/s, MAE=0.183, MSE=0.0613]\n",
            "Epoch 14/50 [Validation]: 100%|██████████| 102/102 [00:05<00:00, 19.55batch/s, MAE=0.224, MSE=0.102]\n"
          ]
        },
        {
          "output_type": "stream",
          "name": "stdout",
          "text": [
            "\n",
            "Epoch 14/50 Summary:\n",
            "  LR: 0.000100\n",
            "  Train MSE: 0.066382, RMSE: 0.257647, MAE: 0.184687\n",
            "  Val   MSE: 0.055990, RMSE: 0.236621, MAE: 0.159092\n",
            "--------------------------------------------------\n"
          ]
        },
        {
          "output_type": "stream",
          "name": "stderr",
          "text": [
            "Epoch 15/50 [Training]: 100%|██████████| 819/819 [02:53<00:00,  4.71batch/s, MAE=0.181, MSE=0.0615]\n",
            "Epoch 15/50 [Validation]: 100%|██████████| 102/102 [00:05<00:00, 18.84batch/s, MAE=0.194, MSE=0.0884]\n"
          ]
        },
        {
          "output_type": "stream",
          "name": "stdout",
          "text": [
            "\n",
            "Epoch 15/50 Summary:\n",
            "  LR: 0.000100\n",
            "  Train MSE: 0.065418, RMSE: 0.255770, MAE: 0.182708\n",
            "  Val   MSE: 0.055280, RMSE: 0.235117, MAE: 0.149992\n",
            "  >>> New best validation MSE: 0.055280. Model saved. <<<\n",
            "--------------------------------------------------\n"
          ]
        },
        {
          "output_type": "stream",
          "name": "stderr",
          "text": [
            "Epoch 16/50 [Training]: 100%|██████████| 819/819 [02:52<00:00,  4.76batch/s, MAE=0.181, MSE=0.0653]\n",
            "Epoch 16/50 [Validation]: 100%|██████████| 102/102 [00:05<00:00, 18.47batch/s, MAE=0.21, MSE=0.101]\n"
          ]
        },
        {
          "output_type": "stream",
          "name": "stdout",
          "text": [
            "\n",
            "Epoch 16/50 Summary:\n",
            "  LR: 0.000100\n",
            "  Train MSE: 0.064712, RMSE: 0.254386, MAE: 0.181436\n",
            "  Val   MSE: 0.056532, RMSE: 0.237765, MAE: 0.154319\n",
            "--------------------------------------------------\n"
          ]
        },
        {
          "output_type": "stream",
          "name": "stderr",
          "text": [
            "Epoch 17/50 [Training]: 100%|██████████| 819/819 [02:53<00:00,  4.72batch/s, MAE=0.187, MSE=0.0727]\n",
            "Epoch 17/50 [Validation]: 100%|██████████| 102/102 [00:05<00:00, 17.09batch/s, MAE=0.197, MSE=0.0956]\n"
          ]
        },
        {
          "output_type": "stream",
          "name": "stdout",
          "text": [
            "\n",
            "Epoch 17/50 Summary:\n",
            "  LR: 0.000100\n",
            "  Train MSE: 0.064393, RMSE: 0.253757, MAE: 0.180377\n",
            "  Val   MSE: 0.055035, RMSE: 0.234596, MAE: 0.146154\n",
            "  >>> New best validation MSE: 0.055035. Model saved. <<<\n",
            "--------------------------------------------------\n"
          ]
        },
        {
          "output_type": "stream",
          "name": "stderr",
          "text": [
            "Epoch 18/50 [Training]: 100%|██████████| 819/819 [02:57<00:00,  4.61batch/s, MAE=0.179, MSE=0.0634]\n",
            "Epoch 18/50 [Validation]: 100%|██████████| 102/102 [00:05<00:00, 18.31batch/s, MAE=0.203, MSE=0.0956]\n"
          ]
        },
        {
          "output_type": "stream",
          "name": "stdout",
          "text": [
            "\n",
            "Epoch 18/50 Summary:\n",
            "  LR: 0.000100\n",
            "  Train MSE: 0.063724, RMSE: 0.252437, MAE: 0.178983\n",
            "  Val   MSE: 0.056226, RMSE: 0.237121, MAE: 0.151422\n",
            "--------------------------------------------------\n"
          ]
        },
        {
          "output_type": "stream",
          "name": "stderr",
          "text": [
            "Epoch 19/50 [Training]: 100%|██████████| 819/819 [02:55<00:00,  4.67batch/s, MAE=0.177, MSE=0.0608]\n",
            "Epoch 19/50 [Validation]: 100%|██████████| 102/102 [00:05<00:00, 19.84batch/s, MAE=0.194, MSE=0.0873]\n"
          ]
        },
        {
          "output_type": "stream",
          "name": "stdout",
          "text": [
            "\n",
            "Epoch 19/50 Summary:\n",
            "  LR: 0.000100\n",
            "  Train MSE: 0.063242, RMSE: 0.251479, MAE: 0.177999\n",
            "  Val   MSE: 0.051774, RMSE: 0.227539, MAE: 0.144497\n",
            "  >>> New best validation MSE: 0.051774. Model saved. <<<\n",
            "--------------------------------------------------\n"
          ]
        },
        {
          "output_type": "stream",
          "name": "stderr",
          "text": [
            "Epoch 20/50 [Training]: 100%|██████████| 819/819 [02:58<00:00,  4.60batch/s, MAE=0.174, MSE=0.0619]\n",
            "Epoch 20/50 [Validation]: 100%|██████████| 102/102 [00:05<00:00, 17.17batch/s, MAE=0.208, MSE=0.0979]\n"
          ]
        },
        {
          "output_type": "stream",
          "name": "stdout",
          "text": [
            "\n",
            "Epoch 20/50 Summary:\n",
            "  LR: 0.000100\n",
            "  Train MSE: 0.062581, RMSE: 0.250162, MAE: 0.176424\n",
            "  Val   MSE: 0.053329, RMSE: 0.230932, MAE: 0.148661\n",
            "--------------------------------------------------\n"
          ]
        },
        {
          "output_type": "stream",
          "name": "stderr",
          "text": [
            "Epoch 21/50 [Training]: 100%|██████████| 819/819 [02:53<00:00,  4.71batch/s, MAE=0.155, MSE=0.0496]\n",
            "Epoch 21/50 [Validation]: 100%|██████████| 102/102 [00:06<00:00, 16.55batch/s, MAE=0.207, MSE=0.0962]\n"
          ]
        },
        {
          "output_type": "stream",
          "name": "stdout",
          "text": [
            "\n",
            "Epoch 21/50 Summary:\n",
            "  LR: 0.000100\n",
            "  Train MSE: 0.062947, RMSE: 0.250892, MAE: 0.176857\n",
            "  Val   MSE: 0.054693, RMSE: 0.233865, MAE: 0.149763\n",
            "--------------------------------------------------\n"
          ]
        },
        {
          "output_type": "stream",
          "name": "stderr",
          "text": [
            "Epoch 22/50 [Training]: 100%|██████████| 819/819 [02:57<00:00,  4.62batch/s, MAE=0.163, MSE=0.0527]\n",
            "Epoch 22/50 [Validation]: 100%|██████████| 102/102 [00:05<00:00, 19.16batch/s, MAE=0.189, MSE=0.0741]\n"
          ]
        },
        {
          "output_type": "stream",
          "name": "stdout",
          "text": [
            "\n",
            "Epoch 22/50 Summary:\n",
            "  LR: 0.000100\n",
            "  Train MSE: 0.062097, RMSE: 0.249193, MAE: 0.175473\n",
            "  Val   MSE: 0.050093, RMSE: 0.223814, MAE: 0.146592\n",
            "  >>> New best validation MSE: 0.050093. Model saved. <<<\n",
            "--------------------------------------------------\n"
          ]
        },
        {
          "output_type": "stream",
          "name": "stderr",
          "text": [
            "Epoch 23/50 [Training]: 100%|██████████| 819/819 [02:56<00:00,  4.64batch/s, MAE=0.139, MSE=0.0385]\n",
            "Epoch 23/50 [Validation]: 100%|██████████| 102/102 [00:05<00:00, 17.66batch/s, MAE=0.187, MSE=0.0866]\n"
          ]
        },
        {
          "output_type": "stream",
          "name": "stdout",
          "text": [
            "\n",
            "Epoch 23/50 Summary:\n",
            "  LR: 0.000100\n",
            "  Train MSE: 0.061286, RMSE: 0.247561, MAE: 0.173711\n",
            "  Val   MSE: 0.052539, RMSE: 0.229213, MAE: 0.142913\n",
            "--------------------------------------------------\n"
          ]
        },
        {
          "output_type": "stream",
          "name": "stderr",
          "text": [
            "Epoch 24/50 [Training]: 100%|██████████| 819/819 [03:02<00:00,  4.50batch/s, MAE=0.184, MSE=0.0662]\n",
            "Epoch 24/50 [Validation]: 100%|██████████| 102/102 [00:05<00:00, 19.91batch/s, MAE=0.205, MSE=0.0901]\n"
          ]
        },
        {
          "output_type": "stream",
          "name": "stdout",
          "text": [
            "\n",
            "Epoch 24/50 Summary:\n",
            "  LR: 0.000100\n",
            "  Train MSE: 0.061322, RMSE: 0.247633, MAE: 0.173792\n",
            "  Val   MSE: 0.051521, RMSE: 0.226983, MAE: 0.146359\n",
            "--------------------------------------------------\n"
          ]
        },
        {
          "output_type": "stream",
          "name": "stderr",
          "text": [
            "Epoch 25/50 [Training]: 100%|██████████| 819/819 [03:00<00:00,  4.55batch/s, MAE=0.172, MSE=0.0589]\n",
            "Epoch 25/50 [Validation]: 100%|██████████| 102/102 [00:06<00:00, 16.72batch/s, MAE=0.212, MSE=0.106]\n"
          ]
        },
        {
          "output_type": "stream",
          "name": "stdout",
          "text": [
            "\n",
            "Epoch 25/50 Summary:\n",
            "  LR: 0.000100\n",
            "  Train MSE: 0.060878, RMSE: 0.246734, MAE: 0.172799\n",
            "  Val   MSE: 0.054182, RMSE: 0.232771, MAE: 0.147272\n",
            "--------------------------------------------------\n"
          ]
        },
        {
          "output_type": "stream",
          "name": "stderr",
          "text": [
            "Epoch 26/50 [Training]: 100%|██████████| 819/819 [02:59<00:00,  4.55batch/s, MAE=0.164, MSE=0.0534]\n",
            "Epoch 26/50 [Validation]: 100%|██████████| 102/102 [00:05<00:00, 19.65batch/s, MAE=0.202, MSE=0.0799]\n"
          ]
        },
        {
          "output_type": "stream",
          "name": "stdout",
          "text": [
            "\n",
            "Epoch 26/50 Summary:\n",
            "  LR: 0.000100\n",
            "  Train MSE: 0.060415, RMSE: 0.245794, MAE: 0.171906\n",
            "  Val   MSE: 0.049733, RMSE: 0.223009, MAE: 0.145479\n",
            "  >>> New best validation MSE: 0.049733. Model saved. <<<\n",
            "--------------------------------------------------\n"
          ]
        },
        {
          "output_type": "stream",
          "name": "stderr",
          "text": [
            "Epoch 27/50 [Training]: 100%|██████████| 819/819 [03:00<00:00,  4.53batch/s, MAE=0.16, MSE=0.0515]\n",
            "Epoch 27/50 [Validation]: 100%|██████████| 102/102 [00:06<00:00, 16.81batch/s, MAE=0.215, MSE=0.109]\n"
          ]
        },
        {
          "output_type": "stream",
          "name": "stdout",
          "text": [
            "\n",
            "Epoch 27/50 Summary:\n",
            "  LR: 0.000100\n",
            "  Train MSE: 0.060434, RMSE: 0.245832, MAE: 0.171691\n",
            "  Val   MSE: 0.054422, RMSE: 0.233286, MAE: 0.142760\n",
            "--------------------------------------------------\n"
          ]
        },
        {
          "output_type": "stream",
          "name": "stderr",
          "text": [
            "Epoch 28/50 [Training]: 100%|██████████| 819/819 [02:59<00:00,  4.57batch/s, MAE=0.179, MSE=0.0669]\n",
            "Epoch 28/50 [Validation]: 100%|██████████| 102/102 [00:05<00:00, 19.70batch/s, MAE=0.194, MSE=0.0965]\n"
          ]
        },
        {
          "output_type": "stream",
          "name": "stdout",
          "text": [
            "\n",
            "Epoch 28/50 Summary:\n",
            "  LR: 0.000100\n",
            "  Train MSE: 0.059900, RMSE: 0.244745, MAE: 0.170962\n",
            "  Val   MSE: 0.053728, RMSE: 0.231794, MAE: 0.144270\n",
            "--------------------------------------------------\n"
          ]
        },
        {
          "output_type": "stream",
          "name": "stderr",
          "text": [
            "Epoch 29/50 [Training]: 100%|██████████| 819/819 [03:02<00:00,  4.49batch/s, MAE=0.158, MSE=0.0484]\n",
            "Epoch 29/50 [Validation]: 100%|██████████| 102/102 [00:05<00:00, 18.91batch/s, MAE=0.215, MSE=0.101]\n"
          ]
        },
        {
          "output_type": "stream",
          "name": "stdout",
          "text": [
            "\n",
            "Epoch 29/50 Summary:\n",
            "  LR: 0.000100\n",
            "  Train MSE: 0.059657, RMSE: 0.244248, MAE: 0.170247\n",
            "  Val   MSE: 0.056378, RMSE: 0.237441, MAE: 0.154922\n",
            "--------------------------------------------------\n"
          ]
        },
        {
          "output_type": "stream",
          "name": "stderr",
          "text": [
            "Epoch 30/50 [Training]: 100%|██████████| 819/819 [02:58<00:00,  4.60batch/s, MAE=0.15, MSE=0.0484]\n",
            "Epoch 30/50 [Validation]: 100%|██████████| 102/102 [00:06<00:00, 16.33batch/s, MAE=0.181, MSE=0.0853]\n"
          ]
        },
        {
          "output_type": "stream",
          "name": "stdout",
          "text": [
            "\n",
            "Epoch 30/50 Summary:\n",
            "  LR: 0.000100\n",
            "  Train MSE: 0.058830, RMSE: 0.242549, MAE: 0.169041\n",
            "  Val   MSE: 0.052467, RMSE: 0.229057, MAE: 0.141108\n",
            "--------------------------------------------------\n"
          ]
        },
        {
          "output_type": "stream",
          "name": "stderr",
          "text": [
            "Epoch 31/50 [Training]: 100%|██████████| 819/819 [02:58<00:00,  4.59batch/s, MAE=0.152, MSE=0.0465]\n",
            "Epoch 31/50 [Validation]: 100%|██████████| 102/102 [00:05<00:00, 19.25batch/s, MAE=0.18, MSE=0.0849]\n"
          ]
        },
        {
          "output_type": "stream",
          "name": "stdout",
          "text": [
            "\n",
            "Epoch 31/50 Summary:\n",
            "  LR: 0.000050\n",
            "  Train MSE: 0.057601, RMSE: 0.240002, MAE: 0.166375\n",
            "  Val   MSE: 0.051226, RMSE: 0.226332, MAE: 0.136567\n",
            "--------------------------------------------------\n"
          ]
        },
        {
          "output_type": "stream",
          "name": "stderr",
          "text": [
            "Epoch 32/50 [Training]: 100%|██████████| 819/819 [02:54<00:00,  4.69batch/s, MAE=0.148, MSE=0.043]\n",
            "Epoch 32/50 [Validation]: 100%|██████████| 102/102 [00:05<00:00, 19.31batch/s, MAE=0.181, MSE=0.0796]\n"
          ]
        },
        {
          "output_type": "stream",
          "name": "stdout",
          "text": [
            "\n",
            "Epoch 32/50 Summary:\n",
            "  LR: 0.000050\n",
            "  Train MSE: 0.056848, RMSE: 0.238428, MAE: 0.165113\n",
            "  Val   MSE: 0.051529, RMSE: 0.227001, MAE: 0.141418\n",
            "--------------------------------------------------\n"
          ]
        },
        {
          "output_type": "stream",
          "name": "stderr",
          "text": [
            "Epoch 33/50 [Training]: 100%|██████████| 819/819 [02:57<00:00,  4.62batch/s, MAE=0.171, MSE=0.0631]\n",
            "Epoch 33/50 [Validation]: 100%|██████████| 102/102 [00:06<00:00, 16.92batch/s, MAE=0.182, MSE=0.0812]\n"
          ]
        },
        {
          "output_type": "stream",
          "name": "stdout",
          "text": [
            "\n",
            "Epoch 33/50 Summary:\n",
            "  LR: 0.000050\n",
            "  Train MSE: 0.056998, RMSE: 0.238742, MAE: 0.165427\n",
            "  Val   MSE: 0.048650, RMSE: 0.220568, MAE: 0.137967\n",
            "  >>> New best validation MSE: 0.048650. Model saved. <<<\n",
            "--------------------------------------------------\n"
          ]
        },
        {
          "output_type": "stream",
          "name": "stderr",
          "text": [
            "Epoch 34/50 [Training]: 100%|██████████| 819/819 [02:52<00:00,  4.75batch/s, MAE=0.173, MSE=0.0616]\n",
            "Epoch 34/50 [Validation]: 100%|██████████| 102/102 [00:05<00:00, 17.25batch/s, MAE=0.18, MSE=0.0797]\n"
          ]
        },
        {
          "output_type": "stream",
          "name": "stdout",
          "text": [
            "\n",
            "Epoch 34/50 Summary:\n",
            "  LR: 0.000050\n",
            "  Train MSE: 0.056685, RMSE: 0.238086, MAE: 0.164893\n",
            "  Val   MSE: 0.049198, RMSE: 0.221806, MAE: 0.138649\n",
            "--------------------------------------------------\n"
          ]
        },
        {
          "output_type": "stream",
          "name": "stderr",
          "text": [
            "Epoch 35/50 [Training]: 100%|██████████| 819/819 [02:53<00:00,  4.73batch/s, MAE=0.146, MSE=0.0478]\n",
            "Epoch 35/50 [Validation]: 100%|██████████| 102/102 [00:05<00:00, 18.30batch/s, MAE=0.181, MSE=0.0813]\n"
          ]
        },
        {
          "output_type": "stream",
          "name": "stdout",
          "text": [
            "\n",
            "Epoch 35/50 Summary:\n",
            "  LR: 0.000050\n",
            "  Train MSE: 0.056330, RMSE: 0.237339, MAE: 0.163930\n",
            "  Val   MSE: 0.048410, RMSE: 0.220022, MAE: 0.135927\n",
            "  >>> New best validation MSE: 0.048410. Model saved. <<<\n",
            "--------------------------------------------------\n"
          ]
        },
        {
          "output_type": "stream",
          "name": "stderr",
          "text": [
            "Epoch 36/50 [Training]: 100%|██████████| 819/819 [02:52<00:00,  4.75batch/s, MAE=0.195, MSE=0.079]\n",
            "Epoch 36/50 [Validation]: 100%|██████████| 102/102 [00:05<00:00, 20.28batch/s, MAE=0.205, MSE=0.0884]\n"
          ]
        },
        {
          "output_type": "stream",
          "name": "stdout",
          "text": [
            "\n",
            "Epoch 36/50 Summary:\n",
            "  LR: 0.000050\n",
            "  Train MSE: 0.056310, RMSE: 0.237297, MAE: 0.163840\n",
            "  Val   MSE: 0.053070, RMSE: 0.230370, MAE: 0.148241\n",
            "--------------------------------------------------\n"
          ]
        },
        {
          "output_type": "stream",
          "name": "stderr",
          "text": [
            "Epoch 37/50 [Training]: 100%|██████████| 819/819 [02:54<00:00,  4.70batch/s, MAE=0.15, MSE=0.0473]\n",
            "Epoch 37/50 [Validation]: 100%|██████████| 102/102 [00:05<00:00, 20.19batch/s, MAE=0.187, MSE=0.0855]\n"
          ]
        },
        {
          "output_type": "stream",
          "name": "stdout",
          "text": [
            "\n",
            "Epoch 37/50 Summary:\n",
            "  LR: 0.000050\n",
            "  Train MSE: 0.060167, RMSE: 0.245290, MAE: 0.166698\n",
            "  Val   MSE: 0.049669, RMSE: 0.222865, MAE: 0.140360\n",
            "--------------------------------------------------\n"
          ]
        },
        {
          "output_type": "stream",
          "name": "stderr",
          "text": [
            "Epoch 38/50 [Training]: 100%|██████████| 819/819 [02:52<00:00,  4.74batch/s, MAE=0.168, MSE=0.06]\n",
            "Epoch 38/50 [Validation]: 100%|██████████| 102/102 [00:05<00:00, 20.10batch/s, MAE=0.194, MSE=0.093]\n"
          ]
        },
        {
          "output_type": "stream",
          "name": "stdout",
          "text": [
            "\n",
            "Epoch 38/50 Summary:\n",
            "  LR: 0.000050\n",
            "  Train MSE: 0.056079, RMSE: 0.236810, MAE: 0.163598\n",
            "  Val   MSE: 0.050966, RMSE: 0.225758, MAE: 0.139390\n",
            "--------------------------------------------------\n"
          ]
        },
        {
          "output_type": "stream",
          "name": "stderr",
          "text": [
            "Epoch 39/50 [Training]: 100%|██████████| 819/819 [02:53<00:00,  4.73batch/s, MAE=0.152, MSE=0.0491]\n",
            "Epoch 39/50 [Validation]: 100%|██████████| 102/102 [00:05<00:00, 19.83batch/s, MAE=0.19, MSE=0.0931]\n"
          ]
        },
        {
          "output_type": "stream",
          "name": "stdout",
          "text": [
            "\n",
            "Epoch 39/50 Summary:\n",
            "  LR: 0.000050\n",
            "  Train MSE: 0.056072, RMSE: 0.236794, MAE: 0.163526\n",
            "  Val   MSE: 0.053854, RMSE: 0.232065, MAE: 0.141511\n",
            "--------------------------------------------------\n"
          ]
        },
        {
          "output_type": "stream",
          "name": "stderr",
          "text": [
            "Epoch 40/50 [Training]: 100%|██████████| 819/819 [02:55<00:00,  4.67batch/s, MAE=0.194, MSE=0.0836]\n",
            "Epoch 40/50 [Validation]: 100%|██████████| 102/102 [00:05<00:00, 19.76batch/s, MAE=0.177, MSE=0.0839]\n"
          ]
        },
        {
          "output_type": "stream",
          "name": "stdout",
          "text": [
            "\n",
            "Epoch 40/50 Summary:\n",
            "  LR: 0.000025\n",
            "  Train MSE: 0.055327, RMSE: 0.235216, MAE: 0.162084\n",
            "  Val   MSE: 0.049271, RMSE: 0.221970, MAE: 0.134128\n",
            "--------------------------------------------------\n"
          ]
        },
        {
          "output_type": "stream",
          "name": "stderr",
          "text": [
            "Epoch 41/50 [Training]: 100%|██████████| 819/819 [02:53<00:00,  4.73batch/s, MAE=0.154, MSE=0.0508]\n",
            "Epoch 41/50 [Validation]: 100%|██████████| 102/102 [00:05<00:00, 18.98batch/s, MAE=0.174, MSE=0.0841]\n"
          ]
        },
        {
          "output_type": "stream",
          "name": "stdout",
          "text": [
            "\n",
            "Epoch 41/50 Summary:\n",
            "  LR: 0.000025\n",
            "  Train MSE: 0.055300, RMSE: 0.235160, MAE: 0.162067\n",
            "  Val   MSE: 0.050664, RMSE: 0.225086, MAE: 0.133916\n",
            "--------------------------------------------------\n"
          ]
        },
        {
          "output_type": "stream",
          "name": "stderr",
          "text": [
            "Epoch 42/50 [Training]: 100%|██████████| 819/819 [02:52<00:00,  4.76batch/s, MAE=0.173, MSE=0.0671]\n",
            "Epoch 42/50 [Validation]: 100%|██████████| 102/102 [00:05<00:00, 19.79batch/s, MAE=0.174, MSE=0.0813]\n"
          ]
        },
        {
          "output_type": "stream",
          "name": "stdout",
          "text": [
            "\n",
            "Epoch 42/50 Summary:\n",
            "  LR: 0.000025\n",
            "  Train MSE: 0.055104, RMSE: 0.234743, MAE: 0.161642\n",
            "  Val   MSE: 0.048682, RMSE: 0.220641, MAE: 0.134128\n",
            "--------------------------------------------------\n"
          ]
        },
        {
          "output_type": "stream",
          "name": "stderr",
          "text": [
            "Epoch 43/50 [Training]: 100%|██████████| 819/819 [02:56<00:00,  4.64batch/s, MAE=0.173, MSE=0.0581]\n",
            "Epoch 43/50 [Validation]: 100%|██████████| 102/102 [00:06<00:00, 16.77batch/s, MAE=0.171, MSE=0.0815]\n"
          ]
        },
        {
          "output_type": "stream",
          "name": "stdout",
          "text": [
            "\n",
            "Epoch 43/50 Summary:\n",
            "  LR: 0.000025\n",
            "  Train MSE: 0.055009, RMSE: 0.234541, MAE: 0.161655\n",
            "  Val   MSE: 0.049011, RMSE: 0.221384, MAE: 0.134331\n",
            "--------------------------------------------------\n"
          ]
        },
        {
          "output_type": "stream",
          "name": "stderr",
          "text": [
            "Epoch 44/50 [Training]: 100%|██████████| 819/819 [02:54<00:00,  4.69batch/s, MAE=0.177, MSE=0.07]\n",
            "Epoch 44/50 [Validation]: 100%|██████████| 102/102 [00:05<00:00, 18.84batch/s, MAE=0.182, MSE=0.0913]\n"
          ]
        },
        {
          "output_type": "stream",
          "name": "stdout",
          "text": [
            "\n",
            "Epoch 44/50 Summary:\n",
            "  LR: 0.000013\n",
            "  Train MSE: 0.054513, RMSE: 0.233481, MAE: 0.160612\n",
            "  Val   MSE: 0.050252, RMSE: 0.224170, MAE: 0.133188\n",
            "--------------------------------------------------\n"
          ]
        },
        {
          "output_type": "stream",
          "name": "stderr",
          "text": [
            "Epoch 45/50 [Training]: 100%|██████████| 819/819 [02:52<00:00,  4.76batch/s, MAE=0.158, MSE=0.0561]\n",
            "Epoch 45/50 [Validation]: 100%|██████████| 102/102 [00:05<00:00, 19.32batch/s, MAE=0.172, MSE=0.0843]\n"
          ]
        },
        {
          "output_type": "stream",
          "name": "stdout",
          "text": [
            "\n",
            "Epoch 45/50 Summary:\n",
            "  LR: 0.000013\n",
            "  Train MSE: 0.054378, RMSE: 0.233191, MAE: 0.160377\n",
            "  Val   MSE: 0.049853, RMSE: 0.223277, MAE: 0.133583\n",
            "--------------------------------------------------\n"
          ]
        },
        {
          "output_type": "stream",
          "name": "stderr",
          "text": [
            "Epoch 46/50 [Training]: 100%|██████████| 819/819 [02:54<00:00,  4.70batch/s, MAE=0.161, MSE=0.0557]\n",
            "Epoch 46/50 [Validation]: 100%|██████████| 102/102 [00:05<00:00, 19.59batch/s, MAE=0.174, MSE=0.0848]\n"
          ]
        },
        {
          "output_type": "stream",
          "name": "stdout",
          "text": [
            "\n",
            "Epoch 46/50 Summary:\n",
            "  LR: 0.000013\n",
            "  Train MSE: 0.054344, RMSE: 0.233117, MAE: 0.160358\n",
            "  Val   MSE: 0.050066, RMSE: 0.223753, MAE: 0.133958\n",
            "--------------------------------------------------\n"
          ]
        },
        {
          "output_type": "stream",
          "name": "stderr",
          "text": [
            "Epoch 47/50 [Training]: 100%|██████████| 819/819 [03:01<00:00,  4.52batch/s, MAE=0.134, MSE=0.0404]\n",
            "Epoch 47/50 [Validation]: 100%|██████████| 102/102 [00:06<00:00, 16.31batch/s, MAE=0.179, MSE=0.0894]\n"
          ]
        },
        {
          "output_type": "stream",
          "name": "stdout",
          "text": [
            "\n",
            "Epoch 47/50 Summary:\n",
            "  LR: 0.000013\n",
            "  Train MSE: 0.054246, RMSE: 0.232908, MAE: 0.160047\n",
            "  Val   MSE: 0.050047, RMSE: 0.223711, MAE: 0.134679\n",
            "--------------------------------------------------\n"
          ]
        },
        {
          "output_type": "stream",
          "name": "stderr",
          "text": [
            "Epoch 48/50 [Training]: 100%|██████████| 819/819 [02:59<00:00,  4.55batch/s, MAE=0.164, MSE=0.0554]\n",
            "Epoch 48/50 [Validation]: 100%|██████████| 102/102 [00:05<00:00, 18.30batch/s, MAE=0.174, MSE=0.085]\n"
          ]
        },
        {
          "output_type": "stream",
          "name": "stdout",
          "text": [
            "\n",
            "Epoch 48/50 Summary:\n",
            "  LR: 0.000006\n",
            "  Train MSE: 0.053924, RMSE: 0.232215, MAE: 0.159628\n",
            "  Val   MSE: 0.048902, RMSE: 0.221138, MAE: 0.131556\n",
            "--------------------------------------------------\n"
          ]
        },
        {
          "output_type": "stream",
          "name": "stderr",
          "text": [
            "Epoch 49/50 [Training]: 100%|██████████| 819/819 [03:01<00:00,  4.52batch/s, MAE=0.152, MSE=0.0521]\n",
            "Epoch 49/50 [Validation]: 100%|██████████| 102/102 [00:05<00:00, 17.91batch/s, MAE=0.172, MSE=0.083]\n"
          ]
        },
        {
          "output_type": "stream",
          "name": "stdout",
          "text": [
            "\n",
            "Epoch 49/50 Summary:\n",
            "  LR: 0.000006\n",
            "  Train MSE: 0.054074, RMSE: 0.232539, MAE: 0.159829\n",
            "  Val   MSE: 0.048569, RMSE: 0.220384, MAE: 0.132776\n",
            "--------------------------------------------------\n"
          ]
        },
        {
          "output_type": "stream",
          "name": "stderr",
          "text": [
            "Epoch 50/50 [Training]: 100%|██████████| 819/819 [03:04<00:00,  4.45batch/s, MAE=0.16, MSE=0.0493]\n",
            "Epoch 50/50 [Validation]: 100%|██████████| 102/102 [00:06<00:00, 16.68batch/s, MAE=0.174, MSE=0.085]\n"
          ]
        },
        {
          "output_type": "stream",
          "name": "stdout",
          "text": [
            "\n",
            "Epoch 50/50 Summary:\n",
            "  LR: 0.000006\n",
            "  Train MSE: 0.054090, RMSE: 0.232572, MAE: 0.159686\n",
            "  Val   MSE: 0.048831, RMSE: 0.220978, MAE: 0.131811\n",
            "--------------------------------------------------\n",
            "\n",
            "--- Training Finished ---\n",
            "Best Validation MSE: 0.048410\n",
            "Best Validation RMSE: 0.220022\n",
            "Best Validation MAE: 0.135927\n"
          ]
        },
        {
          "output_type": "display_data",
          "data": {
            "text/plain": [
              "<Figure size 1000x600 with 1 Axes>"
            ],
            "image/png": "[encoded data removed]"
          },
          "metadata": {}
        }
      ]
    },
    {
      "cell_type": "code",
      "source": [
        "# Cell 9: Prediction for Next 24 Hours and Evaluation Plots\n",
        "\n",
        "# Load the best model\n",
        "model.load_state_dict(torch.load('best_msmvan_colab_model.pth'))\n",
        "model.eval()\n",
        "\n",
        "# --- Prediction for next 24 hours ---\n",
        "# Take the last sequence from the original (scaled) data to predict\n",
        "last_sequence_scaled = data_scaled[-SEQ_LENGTH:].reshape(1, SEQ_LENGTH, 1) # (1, SeqLen, 1)\n",
        "last_sequence_tensor = torch.tensor(last_sequence_scaled, dtype=torch.float32).to(DEVICE)\n",
        "\n",
        "with torch.no_grad():\n",
        "    predicted_scaled_24h = model(last_sequence_tensor).cpu().numpy().flatten() # (PredHorizon,)\n",
        "\n",
        "# Inverse transform the prediction\n",
        "predicted_actual_24h = scaler.inverse_transform(predicted_scaled_24h.reshape(-1, 1)).flatten()\n",
        "\n",
        "print(\"\\n--- Predicted Solar Radiation for Next 24 Hours (5-min intervals) ---\")\n",
        "predicted_df = pd.DataFrame({'Time_Step (5-min)': range(1, PREDICTION_HORIZON + 1),\n",
        "                             'Predicted_Solar_Radiation': predicted_actual_24h})\n",
        "print(predicted_df)\n",
        "predicted_df.to_csv(\"predicted_24h_solar_radiation.csv\", index=False)\n",
        "print(\"\\nPredicted 24h data saved to 'predicted_24h_solar_radiation.csv'\")\n",
        "\n",
        "\n",
        "# --- Validation Loss for Various Window Sizes (Illustrative as in paper) ---\n",
        "print(\"\\n--- Illustrative: Validation Loss for Various Window Sizes ---\")\n",
        "# This part is complex as it ideally requires re-training for each window size.\n",
        "# We'll create a conceptual plot based on the current model's performance for its window size.\n",
        "window_sizes_to_test = [24, 48, SEQ_LENGTH, 96, 144] # e.g., 2h, 4h, current, 8h, 12h\n",
        "val_losses_for_windows = {}\n",
        "\n",
        "for ws in window_sizes_to_test:\n",
        "    if ws == SEQ_LENGTH:\n",
        "         val_losses_for_windows[ws] = best_val_mse if best_val_mse != float('inf') else (val_mse_history[-1] if val_mse_history else 0.1)\n",
        "    else:\n",
        "        # For other window sizes, we'd typically re-train.\n",
        "        # Here, we'll use a placeholder value for illustration.\n",
        "        # A more realistic dummy would be higher loss for very small/large windows.\n",
        "        base_loss = best_val_mse if best_val_mse != float('inf') else 0.1\n",
        "        deviation = abs(ws - SEQ_LENGTH) / SEQ_LENGTH # Normalized deviation\n",
        "        val_losses_for_windows[ws] = base_loss * (1 + deviation * 0.5) # Dummy loss\n",
        "        print(f\"Illustrative Val MSE for window size {ws}: {val_losses_for_windows[ws]:.4f} (Dummy value)\")\n",
        "\n",
        "\n",
        "if val_losses_for_windows:\n",
        "    plt.figure(figsize=(10, 6))\n",
        "    sorted_windows = sorted(val_losses_for_windows.keys())\n",
        "    sorted_losses = [val_losses_for_windows[w] for w in sorted_windows]\n",
        "    plt.plot(sorted_windows, sorted_losses, marker='o', linestyle='-')\n",
        "    plt.xlabel(\"Window Size (Number of 5-min intervals)\")\n",
        "    plt.ylabel(\"Best Validation MSE (Illustrative)\")\n",
        "    plt.title(\"Illustrative Validation Loss for Various Window Sizes\")\n",
        "    plt.grid(True)\n",
        "    plt.xticks(window_sizes_to_test)\n",
        "    plt.savefig(\"msmvan_val_loss_window_sizes_colab.png\")\n",
        "    plt.show()\n",
        "\n",
        "\n",
        "# --- Plot Proposed Model Forecast vs Actual (on a segment of test/val data) ---\n",
        "# Use a segment of test_loader or val_loader for this plot\n",
        "plot_loader = test_loader if test_loader and len(test_loader) > 0 else (val_loader if val_loader and len(val_loader) > 0 else None)\n",
        "\n",
        "if plot_loader:\n",
        "    sample_features, sample_targets_scaled = next(iter(plot_loader))\n",
        "    sample_features, sample_targets_scaled = sample_features.to(DEVICE), sample_targets_scaled.to(DEVICE)\n",
        "\n",
        "    with torch.no_grad():\n",
        "        sample_predictions_scaled = model(sample_features)\n",
        "\n",
        "    # Select first sample from batch for plotting\n",
        "    actual_plot_scaled = sample_targets_scaled[0].cpu().numpy().flatten()\n",
        "    predicted_plot_scaled = sample_predictions_scaled[0].cpu().numpy().flatten()\n",
        "\n",
        "    # Inverse transform\n",
        "    actual_plot_inv = scaler.inverse_transform(actual_plot_scaled.reshape(-1, 1)).flatten()\n",
        "    predicted_plot_inv = scaler.inverse_transform(predicted_plot_scaled.reshape(-1, 1)).flatten()\n",
        "\n",
        "    plt.figure(figsize=(15, 7))\n",
        "    time_steps_plot = np.arange(len(actual_plot_inv)) * 5 # Time in minutes\n",
        "    plt.plot(time_steps_plot, actual_plot_inv, label='Actual Solar Radiation', color='blue', marker='.')\n",
        "    plt.plot(time_steps_plot, predicted_plot_inv, label='Predicted Solar Radiation (MSMVAN)', color='red', linestyle='--', marker='x')\n",
        "    plt.xlabel(f\"Time (minutes into {PREDICTION_HORIZON*5/60:.1f}h prediction horizon)\")\n",
        "    plt.ylabel(\"Solar Radiation\")\n",
        "    plt.title(\"MSMVAN Forecast vs Actual (Sample from Test/Val Set)\")\n",
        "    plt.legend()\n",
        "    plt.grid(True)\n",
        "    plt.savefig(\"msmvan_forecast_vs_actual_colab.png\")\n",
        "    plt.show()\n",
        "else:\n",
        "    print(\"Plot loader (test or val) is empty, cannot plot forecast vs actual.\")"
      ],
      "metadata": {
        "colab": {
          "base_uri": "https://localhost:8080/",
          "height": 1000
        },
        "id": "8sbyU5VUiE2X",
        "outputId": "820e961b-53e9-4511-c775-5a0677076cb8"
      },
      "execution_count": null,
      "outputs": [
        {
          "output_type": "stream",
          "name": "stdout",
          "text": [
            "\n",
            "--- Predicted Solar Radiation for Next 24 Hours (5-min intervals) ---\n",
            "     Time_Step (5-min)  Predicted_Solar_Radiation\n",
            "0                    1                   6.199426\n",
            "1                    2                   6.696385\n",
            "2                    3                  10.646541\n",
            "3                    4                  11.788815\n",
            "4                    5                  14.539995\n",
            "..                 ...                        ...\n",
            "283                284                  18.191051\n",
            "284                285                  19.007998\n",
            "285                286                  20.197578\n",
            "286                287                  22.845512\n",
            "287                288                  22.802450\n",
            "\n",
            "[288 rows x 2 columns]\n",
            "\n",
            "Predicted 24h data saved to 'predicted_24h_solar_radiation.csv'\n",
            "\n",
            "--- Illustrative: Validation Loss for Various Window Sizes ---\n",
            "Illustrative Val MSE for window size 24: 0.0645 (Dummy value)\n",
            "Illustrative Val MSE for window size 48: 0.0565 (Dummy value)\n",
            "Illustrative Val MSE for window size 96: 0.0565 (Dummy value)\n",
            "Illustrative Val MSE for window size 144: 0.0726 (Dummy value)\n"
          ]
        },
        {
          "output_type": "display_data",
          "data": {
            "text/plain": [
              "<Figure size 1000x600 with 1 Axes>"
            ],
            "image/png": "[encoded data removed]"
          },
          "metadata": {}
        },
        {
          "output_type": "display_data",
          "data": {
            "text/plain": [
              "<Figure size 1500x700 with 1 Axes>"
            ],
            "image/png": "[encoded data removed]"
          },
          "metadata": {}
        }
      ]
    },
    {
      "cell_type": "code",
      "source": [
        "# Cell 10: RL Agent and Environment (Simplified)\n",
        "import random\n",
        "\n",
        "# --- Simplified RL Configuration ---\n",
        "# (These are very basic for illustration)\n",
        "RL_LEARNING_RATE = 0.1\n",
        "RL_DISCOUNT_FACTOR = 0.9 # Gamma\n",
        "RL_EPSILON = 0.1 # For epsilon-greedy exploration\n",
        "POSSIBLE_SEQ_LENGTHS = [24, 48, SEQ_LENGTH, 96, 144] # SEQ_LENGTH is from MSMVAN config\n",
        "NUM_RL_EPISODES = 100 # Very few for quick demo\n",
        "NUM_RL_STEPS_PER_EPISODE = 20 # How many times the agent makes a decision in an episode\n",
        "\n",
        "# --- Q-Table (State: simplified, Action: index of SEQ_LENGTH) ---\n",
        "# For simplicity, let's define a very coarse state.\n",
        "# State: 0 for low recent error, 1 for high recent error (dummy concept)\n",
        "# This state representation is highly insufficient for a real problem.\n",
        "num_states_rl = 2\n",
        "num_actions_rl = len(POSSIBLE_SEQ_LENGTHS)\n",
        "q_table = np.zeros((num_states_rl, num_actions_rl))\n",
        "\n",
        "# --- RL Helper Functions ---\n",
        "def get_rl_state(recent_msmvan_error):\n",
        "    \"\"\"Simplistic function to get a state for RL.\"\"\"\n",
        "    # This is a placeholder. A real state would be more complex.\n",
        "    # For example, if recent error is above a threshold, state = 1 (high error), else 0 (low error)\n",
        "    threshold = 0.05 # Dummy threshold for scaled MSE\n",
        "    if recent_msmvan_error > threshold:\n",
        "        return 1\n",
        "    else:\n",
        "        return 0\n",
        "\n",
        "def choose_rl_action(state, epsilon):\n",
        "    if random.uniform(0, 1) < epsilon:\n",
        "        return random.choice(range(num_actions_rl))  # Explore\n",
        "    else:\n",
        "        return np.argmax(q_table[state, :])  # Exploit\n",
        "\n",
        "def simulate_msmvan_performance(chosen_seq_len_val, input_data_batch, target_data_batch, model_msmvan, scaler_msmvan, criterion_msmvan, device_msmvan):\n",
        "    \"\"\"\n",
        "    Simulates running MSMVAN with a chosen seq_len and getting a reward (negative error).\n",
        "    This is the most complex part to integrate realistically.\n",
        "    For this demo, we'll need to dynamically create a sequence from input_data_batch.\n",
        "    \"\"\"\n",
        "    model_msmvan.eval() # Ensure model is in eval mode\n",
        "\n",
        "    # We need to re-create features and targets for the chosen_seq_len_val\n",
        "    # This requires access to a longer history than just input_data_batch if chosen_seq_len_val > input_data_batch.shape[1]\n",
        "    # For simplicity, let's assume input_data_batch is a segment of the original scaled data\n",
        "    # and we can form a sequence from it.\n",
        "\n",
        "    # This simulation is tricky. A proper way would be to have a pool of data\n",
        "    # and dynamically create an input sequence of chosen_seq_len_val.\n",
        "    # For this conceptual demo, let's assume input_data_batch IS the sequence of the chosen_seq_len_val\n",
        "    # and we just run inference. This is a BIG simplification.\n",
        "\n",
        "    # If the batch_features passed to this function is already of chosen_seq_len_val\n",
        "    if input_data_batch.shape[1] != chosen_seq_len_val:\n",
        "        # This part needs careful handling: either resample/truncate input_data_batch\n",
        "        # or acknowledge this simulation needs a more robust data pipeline for dynamic seq_len\n",
        "        # print(f\"Warning: Simulating with seq_len {chosen_seq_len_val}, but batch has seq_len {input_data_batch.shape[1]}\")\n",
        "        # For now, let's return a dummy error if seq_len doesn't match to avoid crashing\n",
        "        # In a real system, you'd prepare input_data_batch to match chosen_seq_len_val.\n",
        "        # For this demo, we will just use the FIRST sample of the test_loader (which has fixed SEQ_LENGTH)\n",
        "        # and conceptually \"pretend\" we used the chosen_seq_len_val. The MSMVAN model itself\n",
        "        # is fixed to the original SEQ_LENGTH it was trained with.\n",
        "        # A true dynamic seq_len would require a model that can handle variable input lengths\n",
        "        # or multiple pre-trained models.\n",
        "        pass # We'll use the fixed model and evaluate, reward will be somewhat artificial.\n",
        "\n",
        "\n",
        "    with torch.no_grad():\n",
        "        outputs = model_msmvan(input_data_batch.to(device_msmvan)) # MSMVAN trained with original SEQ_LENGTH\n",
        "\n",
        "        if target_data_batch.ndim == 3 and target_data_batch.shape[-1] == 1:\n",
        "            target_data_batch_squeezed = target_data_batch.squeeze(-1)\n",
        "        else:\n",
        "            target_data_batch_squeezed = target_data_batch\n",
        "\n",
        "        loss_mse = criterion_msmvan(outputs, target_data_batch_squeezed.to(device_msmvan))\n",
        "\n",
        "    # Reward is negative MSE. Higher reward is better.\n",
        "    # Add a small penalty if the chosen_seq_len_val is very different from the model's optimal\n",
        "    # This is highly artificial for this demo.\n",
        "    ideal_seq_len_for_model = model_msmvan.seq_len # Get the seq_len model was trained with\n",
        "    penalty = abs(chosen_seq_len_val - ideal_seq_len_for_model) / ideal_seq_len_for_model * 0.01 # Small penalty\n",
        "\n",
        "    reward = -loss_mse.item() - penalty\n",
        "    return reward, loss_mse.item()\n",
        "\n",
        "\n",
        "print(\"Simplified RL components defined.\")"
      ],
      "metadata": {
        "colab": {
          "base_uri": "https://localhost:8080/"
        },
        "id": "E7GTB8p3irTV",
        "outputId": "0bb91767-ad5b-4c87-93e5-5f4e05806e8c"
      },
      "execution_count": null,
      "outputs": [
        {
          "output_type": "stream",
          "name": "stdout",
          "text": [
            "Simplified RL components defined.\n"
          ]
        }
      ]
    },
    {
      "cell_type": "code",
      "source": [
        "# Cell 11: Simplified RL Training Loop (Conceptual)\n",
        "\n",
        "# Load the pre-trained MSMVAN model\n",
        "msmvan_rl_model = MSMVAN_Univariate(\n",
        "    input_size=1, hidden_size_lstm=HIDDEN_SIZE_LSTM, lstm_layers=2,\n",
        "    ffc_out_channels_total=FDCNN_OUT_CHANNELS, attention_units=ATTENTION_UNITS,\n",
        "    pred_horizon=PREDICTION_HORIZON, seq_len=SEQ_LENGTH, # Original SEQ_LENGTH\n",
        "    dropout_rate=DROPOUT_RATE\n",
        ").to(DEVICE)\n",
        "msmvan_rl_model.load_state_dict(torch.load('best_msmvan_colab_model.pth'))\n",
        "msmvan_rl_model.eval() # Set to evaluation mode\n",
        "\n",
        "# Use criterion from MSMVAN training\n",
        "msmvan_criterion = nn.MSELoss()\n",
        "\n",
        "# We need some data to simulate MSMVAN performance. Use test_loader.\n",
        "if not test_loader:\n",
        "    print(\"RL Demo: Test loader is empty. Cannot run RL simulation.\")\n",
        "else:\n",
        "    rl_episode_rewards = []\n",
        "    # Placeholder for recent MSMVAN error to determine RL state\n",
        "    # In a real scenario, this would be updated based on actual MSMVAN performance\n",
        "    current_simulated_msmvan_error = 0.1 # Initial dummy error\n",
        "\n",
        "    print(\"\\n--- Starting Simplified RL Training (Conceptual) ---\")\n",
        "    for episode in range(NUM_RL_EPISODES):\n",
        "        current_rl_state = get_rl_state(current_simulated_msmvan_error)\n",
        "        episode_reward_sum = 0\n",
        "\n",
        "        for step in range(NUM_RL_STEPS_PER_EPISODE):\n",
        "            action_idx = choose_rl_action(current_rl_state, RL_EPSILON)\n",
        "            chosen_seq_length_value = POSSIBLE_SEQ_LENGTHS[action_idx]\n",
        "\n",
        "            # Get a batch of data for MSMVAN simulation\n",
        "            # The MSMVAN model is fixed to its trained SEQ_LENGTH.\n",
        "            # The RL agent *chooses* a conceptual seq_length, and the reward function\n",
        "            # *simulates* or *penalizes* based on this choice relative to the model's fixed nature.\n",
        "            # This is a major simplification.\n",
        "            try:\n",
        "                # Get a fixed batch from test_loader (input will always have original SEQ_LENGTH)\n",
        "                rl_batch_features, rl_batch_targets = next(iter(test_loader))\n",
        "            except StopIteration: # Reset iterator if test_loader is exhausted\n",
        "                test_loader_iter = iter(test_loader)\n",
        "                rl_batch_features, rl_batch_targets = next(test_loader_iter)\n",
        "\n",
        "\n",
        "            # Simulate environment step\n",
        "            # The core challenge: msmvan_rl_model expects input of shape (Batch, SEQ_LENGTH, 1)\n",
        "            # If chosen_seq_length_value is different, we can't directly feed it.\n",
        "            # For this demo, we pass the standard batch, and the reward function might\n",
        "            # artificially consider the chosen_seq_length_value.\n",
        "            reward, msvan_mse_for_step = simulate_msmvan_performance(\n",
        "                chosen_seq_length_value,\n",
        "                rl_batch_features, # This batch has the original SEQ_LENGTH\n",
        "                rl_batch_targets,\n",
        "                msmvan_rl_model,\n",
        "                scaler, # The global scaler object\n",
        "                msmvan_criterion,\n",
        "                DEVICE\n",
        "            )\n",
        "            episode_reward_sum += reward\n",
        "            current_simulated_msmvan_error = msvan_mse_for_step # Update simulated error\n",
        "\n",
        "            # Q-table update (simplified)\n",
        "            # For a real problem, the next_state would be based on the outcome of using chosen_seq_length_value\n",
        "            next_rl_state = get_rl_state(current_simulated_msmvan_error)\n",
        "            old_q_value = q_table[current_rl_state, action_idx]\n",
        "            next_max_q = np.max(q_table[next_rl_state, :])\n",
        "\n",
        "            new_q_value = (1 - RL_LEARNING_RATE) * old_q_value + \\\n",
        "                          RL_LEARNING_RATE * (reward + RL_DISCOUNT_FACTOR * next_max_q)\n",
        "            q_table[current_rl_state, action_idx] = new_q_value\n",
        "\n",
        "            current_rl_state = next_rl_state\n",
        "\n",
        "        rl_episode_rewards.append(episode_reward_sum / NUM_RL_STEPS_PER_EPISODE)\n",
        "        if (episode + 1) % 10 == 0:\n",
        "            print(f\"RL Episode {episode+1}/{NUM_RL_EPISODES}, Avg Reward: {episode_reward_sum / NUM_RL_STEPS_PER_EPISODE:.4f}, Current Epsilon: {RL_EPSILON:.2f}\")\n",
        "\n",
        "        # Decay epsilon (simple decay)\n",
        "        if RL_EPSILON > 0.01:\n",
        "            RL_EPSILON *= 0.99\n",
        "\n",
        "    print(\"--- Simplified RL Training Finished ---\")\n",
        "    print(\"Learned Q-Table (State x Action):\")\n",
        "    print(q_table)\n",
        "\n",
        "    # Plot RL rewards\n",
        "    plt.figure(figsize=(10, 6))\n",
        "    plt.plot(rl_episode_rewards)\n",
        "    plt.xlabel(\"RL Episode\")\n",
        "    plt.ylabel(\"Average Reward per Episode\")\n",
        "    plt.title(\"Simplified RL Agent: Avg Reward Over Episodes\")\n",
        "    plt.grid(True)\n",
        "    plt.savefig(\"simplified_rl_rewards.png\")\n",
        "    plt.show()\n",
        "\n",
        "    # Example: Get optimal action for a given state\n",
        "    optimal_action_low_error_state = np.argmax(q_table[0, :])\n",
        "    optimal_seq_len_low_error = POSSIBLE_SEQ_LENGTHS[optimal_action_low_error_state]\n",
        "    print(f\"RL suggests Seq Length for 'low error' state: {optimal_seq_len_low_error}\")\n",
        "\n",
        "    optimal_action_high_error_state = np.argmax(q_table[1, :])\n",
        "    optimal_seq_len_high_error = POSSIBLE_SEQ_LENGTHS[optimal_action_high_error_state]\n",
        "    print(f\"RL suggests Seq Length for 'high error' state: {optimal_seq_len_high_error}\")"
      ],
      "metadata": {
        "colab": {
          "base_uri": "https://localhost:8080/",
          "height": 759
        },
        "id": "BybqT9FYiuQN",
        "outputId": "073fc104-62d3-44a5-f654-fd92cc70f05d"
      },
      "execution_count": null,
      "outputs": [
        {
          "output_type": "stream",
          "name": "stdout",
          "text": [
            "\n",
            "--- Starting Simplified RL Training (Conceptual) ---\n",
            "RL Episode 10/100, Avg Reward: -0.0984, Current Epsilon: 0.09\n",
            "RL Episode 20/100, Avg Reward: -0.0985, Current Epsilon: 0.08\n",
            "RL Episode 30/100, Avg Reward: -0.0982, Current Epsilon: 0.07\n",
            "RL Episode 40/100, Avg Reward: -0.0980, Current Epsilon: 0.07\n",
            "RL Episode 50/100, Avg Reward: -0.0979, Current Epsilon: 0.06\n",
            "RL Episode 60/100, Avg Reward: -0.0977, Current Epsilon: 0.06\n",
            "RL Episode 70/100, Avg Reward: -0.0967, Current Epsilon: 0.05\n",
            "RL Episode 80/100, Avg Reward: -0.0960, Current Epsilon: 0.05\n",
            "RL Episode 90/100, Avg Reward: -0.0945, Current Epsilon: 0.04\n",
            "RL Episode 100/100, Avg Reward: -0.0945, Current Epsilon: 0.04\n",
            "--- Simplified RL Training Finished ---\n",
            "Learned Q-Table (State x Action):\n",
            "[[ 0.          0.          0.          0.          0.        ]\n",
            " [-0.94033951 -0.94023129 -0.9402282  -0.94048017 -0.94182702]]\n"
          ]
        },
        {
          "output_type": "display_data",
          "data": {
            "text/plain": [
              "<Figure size 1000x600 with 1 Axes>"
            ],
            "image/png": "[encoded data removed]"
          },
          "metadata": {}
        },
        {
          "output_type": "stream",
          "name": "stdout",
          "text": [
            "RL suggests Seq Length for 'low error' state: 24\n",
            "RL suggests Seq Length for 'high error' state: 72\n"
          ]
        }
      ]
    }
  ]
}